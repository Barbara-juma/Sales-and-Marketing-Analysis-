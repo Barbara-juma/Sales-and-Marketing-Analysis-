{
  "nbformat": 4,
  "nbformat_minor": 0,
  "metadata": {
    "colab": {
      "name": "Sales and Marketing Analysis in R",
      "provenance": [],
      "collapsed_sections": []
    },
    "kernelspec": {
      "name": "ir",
      "display_name": "R"
    },
    "language_info": {
      "name": "R"
    }
  },
  "cells": [
    {
      "cell_type": "markdown",
      "metadata": {
        "id": "FUPJA2X3j4PA"
      },
      "source": [
        "#Loading datasets"
      ]
    },
    {
      "cell_type": "code",
      "metadata": {
        "id": "E5B-P25K6G3Q"
      },
      "source": [
        "df1 <- read.csv(\"/content/Supermarket_Dataset_1 - Sales Data.csv\")\n",
        "df2 <- read.csv(\"/content/Supermarket_Sales_Dataset II.csv\", header = FALSE)\n",
        "df3 <- read.csv(\"/content/Supermarket_Sales_Forecasting - Sales.csv\")"
      ],
      "execution_count": 1,
      "outputs": []
    },
    {
      "cell_type": "markdown",
      "metadata": {
        "id": "lEIqq9Kdj_YR"
      },
      "source": [
        "Viewing datasets"
      ]
    },
    {
      "cell_type": "code",
      "metadata": {
        "colab": {
          "base_uri": "https://localhost:8080/",
          "height": 1000
        },
        "id": "LhectDxBkDPG",
        "outputId": "8d077d15-80d1-432c-9085-3f72d8b84c90"
      },
      "source": [
        "df1"
      ],
      "execution_count": 2,
      "outputs": [
        {
          "output_type": "display_data",
          "data": {
            "text/plain": [
              "     Invoice.ID  Branch Customer.type Gender Product.line           Unit.price\n",
              "1    750-67-8428 A      Member        Female Health and beauty      74.69     \n",
              "2    226-31-3081 C      Normal        Female Electronic accessories 15.28     \n",
              "3    631-41-3108 A      Normal        Male   Home and lifestyle     46.33     \n",
              "4    123-19-1176 A      Member        Male   Health and beauty      58.22     \n",
              "5    373-73-7910 A      Normal        Male   Sports and travel      86.31     \n",
              "6    699-14-3026 C      Normal        Male   Electronic accessories 85.39     \n",
              "7    355-53-5943 A      Member        Female Electronic accessories 68.84     \n",
              "8    315-22-5665 C      Normal        Female Home and lifestyle     73.56     \n",
              "9    665-32-9167 A      Member        Female Health and beauty      36.26     \n",
              "10   692-92-5582 B      Member        Female Food and beverages     54.84     \n",
              "11   351-62-0822 B      Member        Female Fashion accessories    14.48     \n",
              "12   529-56-3974 B      Member        Male   Electronic accessories 25.51     \n",
              "13   365-64-0515 A      Normal        Female Electronic accessories 46.95     \n",
              "14   252-56-2699 A      Normal        Male   Food and beverages     43.19     \n",
              "15   829-34-3910 A      Normal        Female Health and beauty      71.38     \n",
              "16   299-46-1805 B      Member        Female Sports and travel      93.72     \n",
              "17   656-95-9349 A      Member        Female Health and beauty      68.93     \n",
              "18   765-26-6951 A      Normal        Male   Sports and travel      72.61     \n",
              "19   329-62-1586 A      Normal        Male   Food and beverages     54.67     \n",
              "20   319-50-3348 B      Normal        Female Home and lifestyle     40.30     \n",
              "21   300-71-4605 C      Member        Male   Electronic accessories 86.04     \n",
              "22   371-85-5789 B      Normal        Male   Health and beauty      87.98     \n",
              "23   273-16-6619 B      Normal        Male   Home and lifestyle     33.20     \n",
              "24   636-48-8204 A      Normal        Male   Electronic accessories 34.56     \n",
              "25   549-59-1358 A      Member        Male   Sports and travel      88.63     \n",
              "26   227-03-5010 A      Member        Female Home and lifestyle     52.59     \n",
              "27   649-29-6775 B      Normal        Male   Fashion accessories    33.52     \n",
              "28   189-17-4241 A      Normal        Female Fashion accessories    87.67     \n",
              "29   145-94-9061 B      Normal        Female Food and beverages     88.36     \n",
              "30   848-62-7243 A      Normal        Male   Health and beauty      24.89     \n",
              "⋮    ⋮           ⋮      ⋮             ⋮      ⋮                      ⋮         \n",
              "971  746-04-1077 B      Member        Female Food and beverages     84.63     \n",
              "972  448-34-8700 B      Member        Male   Home and lifestyle     36.91     \n",
              "973  452-04-8808 B      Normal        Male   Electronic accessories 87.08     \n",
              "974  531-56-4728 A      Normal        Male   Home and lifestyle     80.08     \n",
              "975  744-82-9138 C      Normal        Male   Fashion accessories    86.13     \n",
              "976  883-69-1285 B      Member        Male   Fashion accessories    49.92     \n",
              "977  221-25-5073 A      Normal        Female Food and beverages     74.66     \n",
              "978  518-71-6847 B      Member        Male   Food and beverages     26.60     \n",
              "979  156-20-0370 B      Normal        Female Electronic accessories 25.45     \n",
              "980  151-33-7434 B      Normal        Female Food and beverages     67.77     \n",
              "981  728-47-9078 C      Member        Male   Food and beverages     59.59     \n",
              "982  809-46-1866 A      Normal        Male   Health and beauty      58.15     \n",
              "983  139-32-4183 A      Member        Female Sports and travel      97.48     \n",
              "984  148-41-7930 C      Normal        Male   Health and beauty      99.96     \n",
              "985  189-40-5216 C      Normal        Male   Electronic accessories 96.37     \n",
              "986  374-38-5555 B      Normal        Female Fashion accessories    63.71     \n",
              "987  764-44-8999 B      Normal        Female Health and beauty      14.76     \n",
              "988  552-44-5977 B      Member        Male   Health and beauty      62.00     \n",
              "989  267-62-7380 C      Member        Male   Electronic accessories 82.34     \n",
              "990  430-53-4718 B      Member        Male   Health and beauty      75.37     \n",
              "991  886-18-2897 A      Normal        Female Food and beverages     56.56     \n",
              "992  602-16-6955 B      Normal        Female Sports and travel      76.60     \n",
              "993  745-74-0715 A      Normal        Male   Electronic accessories 58.03     \n",
              "994  690-01-6631 B      Normal        Male   Fashion accessories    17.49     \n",
              "995  652-49-6720 C      Member        Female Electronic accessories 60.95     \n",
              "996  233-67-5758 C      Normal        Male   Health and beauty      40.35     \n",
              "997  303-96-2227 B      Normal        Female Home and lifestyle     97.38     \n",
              "998  727-02-1313 A      Member        Male   Food and beverages     31.84     \n",
              "999  347-56-2442 A      Normal        Male   Home and lifestyle     65.82     \n",
              "1000 849-09-3807 A      Member        Female Fashion accessories    88.34     \n",
              "     Quantity Tax     Date      Time  Payment     cogs  \n",
              "1     7       26.1415 1/5/2019  13:08 Ewallet     522.83\n",
              "2     5        3.8200 3/8/2019  10:29 Cash         76.40\n",
              "3     7       16.2155 3/3/2019  13:23 Credit card 324.31\n",
              "4     8       23.2880 1/27/2019 20:33 Ewallet     465.76\n",
              "5     7       30.2085 2/8/2019  10:37 Ewallet     604.17\n",
              "6     7       29.8865 3/25/2019 18:30 Ewallet     597.73\n",
              "7     6       20.6520 2/25/2019 14:36 Ewallet     413.04\n",
              "8    10       36.7800 2/24/2019 11:38 Ewallet     735.60\n",
              "9     2        3.6260 1/10/2019 17:15 Credit card  72.52\n",
              "10    3        8.2260 2/20/2019 13:27 Credit card 164.52\n",
              "11    4        2.8960 2/6/2019  18:07 Ewallet      57.92\n",
              "12    4        5.1020 3/9/2019  17:03 Cash        102.04\n",
              "13    5       11.7375 2/12/2019 10:25 Ewallet     234.75\n",
              "14   10       21.5950 2/7/2019  16:48 Ewallet     431.90\n",
              "15   10       35.6900 3/29/2019 19:21 Cash        713.80\n",
              "16    6       28.1160 1/15/2019 16:19 Cash        562.32\n",
              "17    7       24.1255 3/11/2019 11:03 Credit card 482.51\n",
              "18    6       21.7830 1/1/2019  10:39 Credit card 435.66\n",
              "19    3        8.2005 1/21/2019 18:00 Credit card 164.01\n",
              "20    2        4.0300 3/11/2019 15:30 Ewallet      80.60\n",
              "21    5       21.5100 2/25/2019 11:24 Ewallet     430.20\n",
              "22    3       13.1970 3/5/2019  10:40 Ewallet     263.94\n",
              "23    2        3.3200 3/15/2019 12:20 Credit card  66.40\n",
              "24    5        8.6400 2/17/2019 11:15 Ewallet     172.80\n",
              "25    3       13.2945 3/2/2019  17:36 Ewallet     265.89\n",
              "26    8       21.0360 3/22/2019 19:20 Credit card 420.72\n",
              "27    1        1.6760 2/8/2019  15:31 Cash         33.52\n",
              "28    2        8.7670 3/10/2019 12:17 Credit card 175.34\n",
              "29    5       22.0900 1/25/2019 19:48 Cash        441.80\n",
              "30    9       11.2005 3/15/2019 15:36 Cash        224.01\n",
              "⋮    ⋮        ⋮       ⋮         ⋮     ⋮           ⋮     \n",
              "971  10       42.3150 1/1/2019  11:36 Credit card 846.30\n",
              "972   7       12.9185 2/10/2019 13:51 Ewallet     258.37\n",
              "973   7       30.4780 1/26/2019 15:17 Cash        609.56\n",
              "974   3       12.0120 2/11/2019 15:29 Cash        240.24\n",
              "975   2        8.6130 2/7/2019  17:59 Cash        172.26\n",
              "976   2        4.9920 3/6/2019  11:55 Credit card  99.84\n",
              "977   4       14.9320 3/4/2019  10:39 Cash        298.64\n",
              "978   6        7.9800 2/26/2019 15:10 Ewallet     159.60\n",
              "979   1        1.2725 3/10/2019 18:10 Credit card  25.45\n",
              "980   1        3.3885 2/4/2019  20:43 Credit card  67.77\n",
              "981   4       11.9180 1/19/2019 12:46 Cash        238.36\n",
              "982   4       11.6300 1/23/2019 17:44 Cash        232.60\n",
              "983   9       43.8660 3/14/2019 14:19 Ewallet     877.32\n",
              "984   7       34.9860 1/23/2019 10:33 Cash        699.72\n",
              "985   7       33.7295 1/9/2019  11:40 Cash        674.59\n",
              "986   5       15.9275 2/7/2019  19:30 Ewallet     318.55\n",
              "987   2        1.4760 2/18/2019 14:42 Ewallet      29.52\n",
              "988   8       24.8000 1/3/2019  19:08 Credit card 496.00\n",
              "989  10       41.1700 3/29/2019 19:12 Ewallet     823.40\n",
              "990   8       30.1480 1/28/2019 15:46 Credit card 602.96\n",
              "991   5       14.1400 3/22/2019 19:06 Credit card 282.80\n",
              "992  10       38.3000 1/24/2019 18:10 Ewallet     766.00\n",
              "993   2        5.8030 3/10/2019 20:46 Ewallet     116.06\n",
              "994  10        8.7450 2/22/2019 18:35 Ewallet     174.90\n",
              "995   1        3.0475 2/18/2019 11:40 Ewallet      60.95\n",
              "996   1        2.0175 1/29/2019 13:46 Ewallet      40.35\n",
              "997  10       48.6900 3/2/2019  17:16 Ewallet     973.80\n",
              "998   1        1.5920 2/9/2019  13:22 Cash         31.84\n",
              "999   1        3.2910 2/22/2019 15:33 Cash         65.82\n",
              "1000  7       30.9190 2/18/2019 13:28 Cash        618.38\n",
              "     gross.margin.percentage gross.income Rating Total    \n",
              "1    4.761905                26.1415      9.1    548.9715 \n",
              "2    4.761905                 3.8200      9.6     80.2200 \n",
              "3    4.761905                16.2155      7.4    340.5255 \n",
              "4    4.761905                23.2880      8.4    489.0480 \n",
              "5    4.761905                30.2085      5.3    634.3785 \n",
              "6    4.761905                29.8865      4.1    627.6165 \n",
              "7    4.761905                20.6520      5.8    433.6920 \n",
              "8    4.761905                36.7800      8.0    772.3800 \n",
              "9    4.761905                 3.6260      7.2     76.1460 \n",
              "10   4.761905                 8.2260      5.9    172.7460 \n",
              "11   4.761905                 2.8960      4.5     60.8160 \n",
              "12   4.761905                 5.1020      6.8    107.1420 \n",
              "13   4.761905                11.7375      7.1    246.4875 \n",
              "14   4.761905                21.5950      8.2    453.4950 \n",
              "15   4.761905                35.6900      5.7    749.4900 \n",
              "16   4.761905                28.1160      4.5    590.4360 \n",
              "17   4.761905                24.1255      4.6    506.6355 \n",
              "18   4.761905                21.7830      6.9    457.4430 \n",
              "19   4.761905                 8.2005      8.6    172.2105 \n",
              "20   4.761905                 4.0300      4.4     84.6300 \n",
              "21   4.761905                21.5100      4.8    451.7100 \n",
              "22   4.761905                13.1970      5.1    277.1370 \n",
              "23   4.761905                 3.3200      4.4     69.7200 \n",
              "24   4.761905                 8.6400      9.9    181.4400 \n",
              "25   4.761905                13.2945      6.0    279.1845 \n",
              "26   4.761905                21.0360      8.5    441.7560 \n",
              "27   4.761905                 1.6760      6.7     35.1960 \n",
              "28   4.761905                 8.7670      7.7    184.1070 \n",
              "29   4.761905                22.0900      9.6    463.8900 \n",
              "30   4.761905                11.2005      7.4    235.2105 \n",
              "⋮    ⋮                       ⋮            ⋮      ⋮        \n",
              "971  4.761905                42.3150      9.0     888.6150\n",
              "972  4.761905                12.9185      6.7     271.2885\n",
              "973  4.761905                30.4780      5.5     640.0380\n",
              "974  4.761905                12.0120      5.4     252.2520\n",
              "975  4.761905                 8.6130      8.2     180.8730\n",
              "976  4.761905                 4.9920      7.0     104.8320\n",
              "977  4.761905                14.9320      8.5     313.5720\n",
              "978  4.761905                 7.9800      4.9     167.5800\n",
              "979  4.761905                 1.2725      5.1      26.7225\n",
              "980  4.761905                 3.3885      6.5      71.1585\n",
              "981  4.761905                11.9180      9.8     250.2780\n",
              "982  4.761905                11.6300      8.4     244.2300\n",
              "983  4.761905                43.8660      7.4     921.1860\n",
              "984  4.761905                34.9860      6.1     734.7060\n",
              "985  4.761905                33.7295      6.0     708.3195\n",
              "986  4.761905                15.9275      8.5     334.4775\n",
              "987  4.761905                 1.4760      4.3      30.9960\n",
              "988  4.761905                24.8000      6.2     520.8000\n",
              "989  4.761905                41.1700      4.3     864.5700\n",
              "990  4.761905                30.1480      8.4     633.1080\n",
              "991  4.761905                14.1400      4.5     296.9400\n",
              "992  4.761905                38.3000      6.0     804.3000\n",
              "993  4.761905                 5.8030      8.8     121.8630\n",
              "994  4.761905                 8.7450      6.6     183.6450\n",
              "995  4.761905                 3.0475      5.9      63.9975\n",
              "996  4.761905                 2.0175      6.2      42.3675\n",
              "997  4.761905                48.6900      4.4    1022.4900\n",
              "998  4.761905                 1.5920      7.7      33.4320\n",
              "999  4.761905                 3.2910      4.1      69.1110\n",
              "1000 4.761905                30.9190      6.6     649.2990"
            ],
            "text/latex": "A data.frame: 1000 × 16\n\\begin{tabular}{llllllllllllllll}\n Invoice.ID & Branch & Customer.type & Gender & Product.line & Unit.price & Quantity & Tax & Date & Time & Payment & cogs & gross.margin.percentage & gross.income & Rating & Total\\\\\n <chr> & <chr> & <chr> & <chr> & <chr> & <dbl> & <int> & <dbl> & <chr> & <chr> & <chr> & <dbl> & <dbl> & <dbl> & <dbl> & <dbl>\\\\\n\\hline\n\t 750-67-8428 & A & Member & Female & Health and beauty      & 74.69 &  7 & 26.1415 & 1/5/2019  & 13:08 & Ewallet     & 522.83 & 4.761905 & 26.1415 & 9.1 & 548.9715\\\\\n\t 226-31-3081 & C & Normal & Female & Electronic accessories & 15.28 &  5 &  3.8200 & 3/8/2019  & 10:29 & Cash        &  76.40 & 4.761905 &  3.8200 & 9.6 &  80.2200\\\\\n\t 631-41-3108 & A & Normal & Male   & Home and lifestyle     & 46.33 &  7 & 16.2155 & 3/3/2019  & 13:23 & Credit card & 324.31 & 4.761905 & 16.2155 & 7.4 & 340.5255\\\\\n\t 123-19-1176 & A & Member & Male   & Health and beauty      & 58.22 &  8 & 23.2880 & 1/27/2019 & 20:33 & Ewallet     & 465.76 & 4.761905 & 23.2880 & 8.4 & 489.0480\\\\\n\t 373-73-7910 & A & Normal & Male   & Sports and travel      & 86.31 &  7 & 30.2085 & 2/8/2019  & 10:37 & Ewallet     & 604.17 & 4.761905 & 30.2085 & 5.3 & 634.3785\\\\\n\t 699-14-3026 & C & Normal & Male   & Electronic accessories & 85.39 &  7 & 29.8865 & 3/25/2019 & 18:30 & Ewallet     & 597.73 & 4.761905 & 29.8865 & 4.1 & 627.6165\\\\\n\t 355-53-5943 & A & Member & Female & Electronic accessories & 68.84 &  6 & 20.6520 & 2/25/2019 & 14:36 & Ewallet     & 413.04 & 4.761905 & 20.6520 & 5.8 & 433.6920\\\\\n\t 315-22-5665 & C & Normal & Female & Home and lifestyle     & 73.56 & 10 & 36.7800 & 2/24/2019 & 11:38 & Ewallet     & 735.60 & 4.761905 & 36.7800 & 8.0 & 772.3800\\\\\n\t 665-32-9167 & A & Member & Female & Health and beauty      & 36.26 &  2 &  3.6260 & 1/10/2019 & 17:15 & Credit card &  72.52 & 4.761905 &  3.6260 & 7.2 &  76.1460\\\\\n\t 692-92-5582 & B & Member & Female & Food and beverages     & 54.84 &  3 &  8.2260 & 2/20/2019 & 13:27 & Credit card & 164.52 & 4.761905 &  8.2260 & 5.9 & 172.7460\\\\\n\t 351-62-0822 & B & Member & Female & Fashion accessories    & 14.48 &  4 &  2.8960 & 2/6/2019  & 18:07 & Ewallet     &  57.92 & 4.761905 &  2.8960 & 4.5 &  60.8160\\\\\n\t 529-56-3974 & B & Member & Male   & Electronic accessories & 25.51 &  4 &  5.1020 & 3/9/2019  & 17:03 & Cash        & 102.04 & 4.761905 &  5.1020 & 6.8 & 107.1420\\\\\n\t 365-64-0515 & A & Normal & Female & Electronic accessories & 46.95 &  5 & 11.7375 & 2/12/2019 & 10:25 & Ewallet     & 234.75 & 4.761905 & 11.7375 & 7.1 & 246.4875\\\\\n\t 252-56-2699 & A & Normal & Male   & Food and beverages     & 43.19 & 10 & 21.5950 & 2/7/2019  & 16:48 & Ewallet     & 431.90 & 4.761905 & 21.5950 & 8.2 & 453.4950\\\\\n\t 829-34-3910 & A & Normal & Female & Health and beauty      & 71.38 & 10 & 35.6900 & 3/29/2019 & 19:21 & Cash        & 713.80 & 4.761905 & 35.6900 & 5.7 & 749.4900\\\\\n\t 299-46-1805 & B & Member & Female & Sports and travel      & 93.72 &  6 & 28.1160 & 1/15/2019 & 16:19 & Cash        & 562.32 & 4.761905 & 28.1160 & 4.5 & 590.4360\\\\\n\t 656-95-9349 & A & Member & Female & Health and beauty      & 68.93 &  7 & 24.1255 & 3/11/2019 & 11:03 & Credit card & 482.51 & 4.761905 & 24.1255 & 4.6 & 506.6355\\\\\n\t 765-26-6951 & A & Normal & Male   & Sports and travel      & 72.61 &  6 & 21.7830 & 1/1/2019  & 10:39 & Credit card & 435.66 & 4.761905 & 21.7830 & 6.9 & 457.4430\\\\\n\t 329-62-1586 & A & Normal & Male   & Food and beverages     & 54.67 &  3 &  8.2005 & 1/21/2019 & 18:00 & Credit card & 164.01 & 4.761905 &  8.2005 & 8.6 & 172.2105\\\\\n\t 319-50-3348 & B & Normal & Female & Home and lifestyle     & 40.30 &  2 &  4.0300 & 3/11/2019 & 15:30 & Ewallet     &  80.60 & 4.761905 &  4.0300 & 4.4 &  84.6300\\\\\n\t 300-71-4605 & C & Member & Male   & Electronic accessories & 86.04 &  5 & 21.5100 & 2/25/2019 & 11:24 & Ewallet     & 430.20 & 4.761905 & 21.5100 & 4.8 & 451.7100\\\\\n\t 371-85-5789 & B & Normal & Male   & Health and beauty      & 87.98 &  3 & 13.1970 & 3/5/2019  & 10:40 & Ewallet     & 263.94 & 4.761905 & 13.1970 & 5.1 & 277.1370\\\\\n\t 273-16-6619 & B & Normal & Male   & Home and lifestyle     & 33.20 &  2 &  3.3200 & 3/15/2019 & 12:20 & Credit card &  66.40 & 4.761905 &  3.3200 & 4.4 &  69.7200\\\\\n\t 636-48-8204 & A & Normal & Male   & Electronic accessories & 34.56 &  5 &  8.6400 & 2/17/2019 & 11:15 & Ewallet     & 172.80 & 4.761905 &  8.6400 & 9.9 & 181.4400\\\\\n\t 549-59-1358 & A & Member & Male   & Sports and travel      & 88.63 &  3 & 13.2945 & 3/2/2019  & 17:36 & Ewallet     & 265.89 & 4.761905 & 13.2945 & 6.0 & 279.1845\\\\\n\t 227-03-5010 & A & Member & Female & Home and lifestyle     & 52.59 &  8 & 21.0360 & 3/22/2019 & 19:20 & Credit card & 420.72 & 4.761905 & 21.0360 & 8.5 & 441.7560\\\\\n\t 649-29-6775 & B & Normal & Male   & Fashion accessories    & 33.52 &  1 &  1.6760 & 2/8/2019  & 15:31 & Cash        &  33.52 & 4.761905 &  1.6760 & 6.7 &  35.1960\\\\\n\t 189-17-4241 & A & Normal & Female & Fashion accessories    & 87.67 &  2 &  8.7670 & 3/10/2019 & 12:17 & Credit card & 175.34 & 4.761905 &  8.7670 & 7.7 & 184.1070\\\\\n\t 145-94-9061 & B & Normal & Female & Food and beverages     & 88.36 &  5 & 22.0900 & 1/25/2019 & 19:48 & Cash        & 441.80 & 4.761905 & 22.0900 & 9.6 & 463.8900\\\\\n\t 848-62-7243 & A & Normal & Male   & Health and beauty      & 24.89 &  9 & 11.2005 & 3/15/2019 & 15:36 & Cash        & 224.01 & 4.761905 & 11.2005 & 7.4 & 235.2105\\\\\n\t ⋮ & ⋮ & ⋮ & ⋮ & ⋮ & ⋮ & ⋮ & ⋮ & ⋮ & ⋮ & ⋮ & ⋮ & ⋮ & ⋮ & ⋮ & ⋮\\\\\n\t 746-04-1077 & B & Member & Female & Food and beverages     & 84.63 & 10 & 42.3150 & 1/1/2019  & 11:36 & Credit card & 846.30 & 4.761905 & 42.3150 & 9.0 &  888.6150\\\\\n\t 448-34-8700 & B & Member & Male   & Home and lifestyle     & 36.91 &  7 & 12.9185 & 2/10/2019 & 13:51 & Ewallet     & 258.37 & 4.761905 & 12.9185 & 6.7 &  271.2885\\\\\n\t 452-04-8808 & B & Normal & Male   & Electronic accessories & 87.08 &  7 & 30.4780 & 1/26/2019 & 15:17 & Cash        & 609.56 & 4.761905 & 30.4780 & 5.5 &  640.0380\\\\\n\t 531-56-4728 & A & Normal & Male   & Home and lifestyle     & 80.08 &  3 & 12.0120 & 2/11/2019 & 15:29 & Cash        & 240.24 & 4.761905 & 12.0120 & 5.4 &  252.2520\\\\\n\t 744-82-9138 & C & Normal & Male   & Fashion accessories    & 86.13 &  2 &  8.6130 & 2/7/2019  & 17:59 & Cash        & 172.26 & 4.761905 &  8.6130 & 8.2 &  180.8730\\\\\n\t 883-69-1285 & B & Member & Male   & Fashion accessories    & 49.92 &  2 &  4.9920 & 3/6/2019  & 11:55 & Credit card &  99.84 & 4.761905 &  4.9920 & 7.0 &  104.8320\\\\\n\t 221-25-5073 & A & Normal & Female & Food and beverages     & 74.66 &  4 & 14.9320 & 3/4/2019  & 10:39 & Cash        & 298.64 & 4.761905 & 14.9320 & 8.5 &  313.5720\\\\\n\t 518-71-6847 & B & Member & Male   & Food and beverages     & 26.60 &  6 &  7.9800 & 2/26/2019 & 15:10 & Ewallet     & 159.60 & 4.761905 &  7.9800 & 4.9 &  167.5800\\\\\n\t 156-20-0370 & B & Normal & Female & Electronic accessories & 25.45 &  1 &  1.2725 & 3/10/2019 & 18:10 & Credit card &  25.45 & 4.761905 &  1.2725 & 5.1 &   26.7225\\\\\n\t 151-33-7434 & B & Normal & Female & Food and beverages     & 67.77 &  1 &  3.3885 & 2/4/2019  & 20:43 & Credit card &  67.77 & 4.761905 &  3.3885 & 6.5 &   71.1585\\\\\n\t 728-47-9078 & C & Member & Male   & Food and beverages     & 59.59 &  4 & 11.9180 & 1/19/2019 & 12:46 & Cash        & 238.36 & 4.761905 & 11.9180 & 9.8 &  250.2780\\\\\n\t 809-46-1866 & A & Normal & Male   & Health and beauty      & 58.15 &  4 & 11.6300 & 1/23/2019 & 17:44 & Cash        & 232.60 & 4.761905 & 11.6300 & 8.4 &  244.2300\\\\\n\t 139-32-4183 & A & Member & Female & Sports and travel      & 97.48 &  9 & 43.8660 & 3/14/2019 & 14:19 & Ewallet     & 877.32 & 4.761905 & 43.8660 & 7.4 &  921.1860\\\\\n\t 148-41-7930 & C & Normal & Male   & Health and beauty      & 99.96 &  7 & 34.9860 & 1/23/2019 & 10:33 & Cash        & 699.72 & 4.761905 & 34.9860 & 6.1 &  734.7060\\\\\n\t 189-40-5216 & C & Normal & Male   & Electronic accessories & 96.37 &  7 & 33.7295 & 1/9/2019  & 11:40 & Cash        & 674.59 & 4.761905 & 33.7295 & 6.0 &  708.3195\\\\\n\t 374-38-5555 & B & Normal & Female & Fashion accessories    & 63.71 &  5 & 15.9275 & 2/7/2019  & 19:30 & Ewallet     & 318.55 & 4.761905 & 15.9275 & 8.5 &  334.4775\\\\\n\t 764-44-8999 & B & Normal & Female & Health and beauty      & 14.76 &  2 &  1.4760 & 2/18/2019 & 14:42 & Ewallet     &  29.52 & 4.761905 &  1.4760 & 4.3 &   30.9960\\\\\n\t 552-44-5977 & B & Member & Male   & Health and beauty      & 62.00 &  8 & 24.8000 & 1/3/2019  & 19:08 & Credit card & 496.00 & 4.761905 & 24.8000 & 6.2 &  520.8000\\\\\n\t 267-62-7380 & C & Member & Male   & Electronic accessories & 82.34 & 10 & 41.1700 & 3/29/2019 & 19:12 & Ewallet     & 823.40 & 4.761905 & 41.1700 & 4.3 &  864.5700\\\\\n\t 430-53-4718 & B & Member & Male   & Health and beauty      & 75.37 &  8 & 30.1480 & 1/28/2019 & 15:46 & Credit card & 602.96 & 4.761905 & 30.1480 & 8.4 &  633.1080\\\\\n\t 886-18-2897 & A & Normal & Female & Food and beverages     & 56.56 &  5 & 14.1400 & 3/22/2019 & 19:06 & Credit card & 282.80 & 4.761905 & 14.1400 & 4.5 &  296.9400\\\\\n\t 602-16-6955 & B & Normal & Female & Sports and travel      & 76.60 & 10 & 38.3000 & 1/24/2019 & 18:10 & Ewallet     & 766.00 & 4.761905 & 38.3000 & 6.0 &  804.3000\\\\\n\t 745-74-0715 & A & Normal & Male   & Electronic accessories & 58.03 &  2 &  5.8030 & 3/10/2019 & 20:46 & Ewallet     & 116.06 & 4.761905 &  5.8030 & 8.8 &  121.8630\\\\\n\t 690-01-6631 & B & Normal & Male   & Fashion accessories    & 17.49 & 10 &  8.7450 & 2/22/2019 & 18:35 & Ewallet     & 174.90 & 4.761905 &  8.7450 & 6.6 &  183.6450\\\\\n\t 652-49-6720 & C & Member & Female & Electronic accessories & 60.95 &  1 &  3.0475 & 2/18/2019 & 11:40 & Ewallet     &  60.95 & 4.761905 &  3.0475 & 5.9 &   63.9975\\\\\n\t 233-67-5758 & C & Normal & Male   & Health and beauty      & 40.35 &  1 &  2.0175 & 1/29/2019 & 13:46 & Ewallet     &  40.35 & 4.761905 &  2.0175 & 6.2 &   42.3675\\\\\n\t 303-96-2227 & B & Normal & Female & Home and lifestyle     & 97.38 & 10 & 48.6900 & 3/2/2019  & 17:16 & Ewallet     & 973.80 & 4.761905 & 48.6900 & 4.4 & 1022.4900\\\\\n\t 727-02-1313 & A & Member & Male   & Food and beverages     & 31.84 &  1 &  1.5920 & 2/9/2019  & 13:22 & Cash        &  31.84 & 4.761905 &  1.5920 & 7.7 &   33.4320\\\\\n\t 347-56-2442 & A & Normal & Male   & Home and lifestyle     & 65.82 &  1 &  3.2910 & 2/22/2019 & 15:33 & Cash        &  65.82 & 4.761905 &  3.2910 & 4.1 &   69.1110\\\\\n\t 849-09-3807 & A & Member & Female & Fashion accessories    & 88.34 &  7 & 30.9190 & 2/18/2019 & 13:28 & Cash        & 618.38 & 4.761905 & 30.9190 & 6.6 &  649.2990\\\\\n\\end{tabular}\n",
            "text/markdown": "\nA data.frame: 1000 × 16\n\n| Invoice.ID &lt;chr&gt; | Branch &lt;chr&gt; | Customer.type &lt;chr&gt; | Gender &lt;chr&gt; | Product.line &lt;chr&gt; | Unit.price &lt;dbl&gt; | Quantity &lt;int&gt; | Tax &lt;dbl&gt; | Date &lt;chr&gt; | Time &lt;chr&gt; | Payment &lt;chr&gt; | cogs &lt;dbl&gt; | gross.margin.percentage &lt;dbl&gt; | gross.income &lt;dbl&gt; | Rating &lt;dbl&gt; | Total &lt;dbl&gt; |\n|---|---|---|---|---|---|---|---|---|---|---|---|---|---|---|---|\n| 750-67-8428 | A | Member | Female | Health and beauty      | 74.69 |  7 | 26.1415 | 1/5/2019  | 13:08 | Ewallet     | 522.83 | 4.761905 | 26.1415 | 9.1 | 548.9715 |\n| 226-31-3081 | C | Normal | Female | Electronic accessories | 15.28 |  5 |  3.8200 | 3/8/2019  | 10:29 | Cash        |  76.40 | 4.761905 |  3.8200 | 9.6 |  80.2200 |\n| 631-41-3108 | A | Normal | Male   | Home and lifestyle     | 46.33 |  7 | 16.2155 | 3/3/2019  | 13:23 | Credit card | 324.31 | 4.761905 | 16.2155 | 7.4 | 340.5255 |\n| 123-19-1176 | A | Member | Male   | Health and beauty      | 58.22 |  8 | 23.2880 | 1/27/2019 | 20:33 | Ewallet     | 465.76 | 4.761905 | 23.2880 | 8.4 | 489.0480 |\n| 373-73-7910 | A | Normal | Male   | Sports and travel      | 86.31 |  7 | 30.2085 | 2/8/2019  | 10:37 | Ewallet     | 604.17 | 4.761905 | 30.2085 | 5.3 | 634.3785 |\n| 699-14-3026 | C | Normal | Male   | Electronic accessories | 85.39 |  7 | 29.8865 | 3/25/2019 | 18:30 | Ewallet     | 597.73 | 4.761905 | 29.8865 | 4.1 | 627.6165 |\n| 355-53-5943 | A | Member | Female | Electronic accessories | 68.84 |  6 | 20.6520 | 2/25/2019 | 14:36 | Ewallet     | 413.04 | 4.761905 | 20.6520 | 5.8 | 433.6920 |\n| 315-22-5665 | C | Normal | Female | Home and lifestyle     | 73.56 | 10 | 36.7800 | 2/24/2019 | 11:38 | Ewallet     | 735.60 | 4.761905 | 36.7800 | 8.0 | 772.3800 |\n| 665-32-9167 | A | Member | Female | Health and beauty      | 36.26 |  2 |  3.6260 | 1/10/2019 | 17:15 | Credit card |  72.52 | 4.761905 |  3.6260 | 7.2 |  76.1460 |\n| 692-92-5582 | B | Member | Female | Food and beverages     | 54.84 |  3 |  8.2260 | 2/20/2019 | 13:27 | Credit card | 164.52 | 4.761905 |  8.2260 | 5.9 | 172.7460 |\n| 351-62-0822 | B | Member | Female | Fashion accessories    | 14.48 |  4 |  2.8960 | 2/6/2019  | 18:07 | Ewallet     |  57.92 | 4.761905 |  2.8960 | 4.5 |  60.8160 |\n| 529-56-3974 | B | Member | Male   | Electronic accessories | 25.51 |  4 |  5.1020 | 3/9/2019  | 17:03 | Cash        | 102.04 | 4.761905 |  5.1020 | 6.8 | 107.1420 |\n| 365-64-0515 | A | Normal | Female | Electronic accessories | 46.95 |  5 | 11.7375 | 2/12/2019 | 10:25 | Ewallet     | 234.75 | 4.761905 | 11.7375 | 7.1 | 246.4875 |\n| 252-56-2699 | A | Normal | Male   | Food and beverages     | 43.19 | 10 | 21.5950 | 2/7/2019  | 16:48 | Ewallet     | 431.90 | 4.761905 | 21.5950 | 8.2 | 453.4950 |\n| 829-34-3910 | A | Normal | Female | Health and beauty      | 71.38 | 10 | 35.6900 | 3/29/2019 | 19:21 | Cash        | 713.80 | 4.761905 | 35.6900 | 5.7 | 749.4900 |\n| 299-46-1805 | B | Member | Female | Sports and travel      | 93.72 |  6 | 28.1160 | 1/15/2019 | 16:19 | Cash        | 562.32 | 4.761905 | 28.1160 | 4.5 | 590.4360 |\n| 656-95-9349 | A | Member | Female | Health and beauty      | 68.93 |  7 | 24.1255 | 3/11/2019 | 11:03 | Credit card | 482.51 | 4.761905 | 24.1255 | 4.6 | 506.6355 |\n| 765-26-6951 | A | Normal | Male   | Sports and travel      | 72.61 |  6 | 21.7830 | 1/1/2019  | 10:39 | Credit card | 435.66 | 4.761905 | 21.7830 | 6.9 | 457.4430 |\n| 329-62-1586 | A | Normal | Male   | Food and beverages     | 54.67 |  3 |  8.2005 | 1/21/2019 | 18:00 | Credit card | 164.01 | 4.761905 |  8.2005 | 8.6 | 172.2105 |\n| 319-50-3348 | B | Normal | Female | Home and lifestyle     | 40.30 |  2 |  4.0300 | 3/11/2019 | 15:30 | Ewallet     |  80.60 | 4.761905 |  4.0300 | 4.4 |  84.6300 |\n| 300-71-4605 | C | Member | Male   | Electronic accessories | 86.04 |  5 | 21.5100 | 2/25/2019 | 11:24 | Ewallet     | 430.20 | 4.761905 | 21.5100 | 4.8 | 451.7100 |\n| 371-85-5789 | B | Normal | Male   | Health and beauty      | 87.98 |  3 | 13.1970 | 3/5/2019  | 10:40 | Ewallet     | 263.94 | 4.761905 | 13.1970 | 5.1 | 277.1370 |\n| 273-16-6619 | B | Normal | Male   | Home and lifestyle     | 33.20 |  2 |  3.3200 | 3/15/2019 | 12:20 | Credit card |  66.40 | 4.761905 |  3.3200 | 4.4 |  69.7200 |\n| 636-48-8204 | A | Normal | Male   | Electronic accessories | 34.56 |  5 |  8.6400 | 2/17/2019 | 11:15 | Ewallet     | 172.80 | 4.761905 |  8.6400 | 9.9 | 181.4400 |\n| 549-59-1358 | A | Member | Male   | Sports and travel      | 88.63 |  3 | 13.2945 | 3/2/2019  | 17:36 | Ewallet     | 265.89 | 4.761905 | 13.2945 | 6.0 | 279.1845 |\n| 227-03-5010 | A | Member | Female | Home and lifestyle     | 52.59 |  8 | 21.0360 | 3/22/2019 | 19:20 | Credit card | 420.72 | 4.761905 | 21.0360 | 8.5 | 441.7560 |\n| 649-29-6775 | B | Normal | Male   | Fashion accessories    | 33.52 |  1 |  1.6760 | 2/8/2019  | 15:31 | Cash        |  33.52 | 4.761905 |  1.6760 | 6.7 |  35.1960 |\n| 189-17-4241 | A | Normal | Female | Fashion accessories    | 87.67 |  2 |  8.7670 | 3/10/2019 | 12:17 | Credit card | 175.34 | 4.761905 |  8.7670 | 7.7 | 184.1070 |\n| 145-94-9061 | B | Normal | Female | Food and beverages     | 88.36 |  5 | 22.0900 | 1/25/2019 | 19:48 | Cash        | 441.80 | 4.761905 | 22.0900 | 9.6 | 463.8900 |\n| 848-62-7243 | A | Normal | Male   | Health and beauty      | 24.89 |  9 | 11.2005 | 3/15/2019 | 15:36 | Cash        | 224.01 | 4.761905 | 11.2005 | 7.4 | 235.2105 |\n| ⋮ | ⋮ | ⋮ | ⋮ | ⋮ | ⋮ | ⋮ | ⋮ | ⋮ | ⋮ | ⋮ | ⋮ | ⋮ | ⋮ | ⋮ | ⋮ |\n| 746-04-1077 | B | Member | Female | Food and beverages     | 84.63 | 10 | 42.3150 | 1/1/2019  | 11:36 | Credit card | 846.30 | 4.761905 | 42.3150 | 9.0 |  888.6150 |\n| 448-34-8700 | B | Member | Male   | Home and lifestyle     | 36.91 |  7 | 12.9185 | 2/10/2019 | 13:51 | Ewallet     | 258.37 | 4.761905 | 12.9185 | 6.7 |  271.2885 |\n| 452-04-8808 | B | Normal | Male   | Electronic accessories | 87.08 |  7 | 30.4780 | 1/26/2019 | 15:17 | Cash        | 609.56 | 4.761905 | 30.4780 | 5.5 |  640.0380 |\n| 531-56-4728 | A | Normal | Male   | Home and lifestyle     | 80.08 |  3 | 12.0120 | 2/11/2019 | 15:29 | Cash        | 240.24 | 4.761905 | 12.0120 | 5.4 |  252.2520 |\n| 744-82-9138 | C | Normal | Male   | Fashion accessories    | 86.13 |  2 |  8.6130 | 2/7/2019  | 17:59 | Cash        | 172.26 | 4.761905 |  8.6130 | 8.2 |  180.8730 |\n| 883-69-1285 | B | Member | Male   | Fashion accessories    | 49.92 |  2 |  4.9920 | 3/6/2019  | 11:55 | Credit card |  99.84 | 4.761905 |  4.9920 | 7.0 |  104.8320 |\n| 221-25-5073 | A | Normal | Female | Food and beverages     | 74.66 |  4 | 14.9320 | 3/4/2019  | 10:39 | Cash        | 298.64 | 4.761905 | 14.9320 | 8.5 |  313.5720 |\n| 518-71-6847 | B | Member | Male   | Food and beverages     | 26.60 |  6 |  7.9800 | 2/26/2019 | 15:10 | Ewallet     | 159.60 | 4.761905 |  7.9800 | 4.9 |  167.5800 |\n| 156-20-0370 | B | Normal | Female | Electronic accessories | 25.45 |  1 |  1.2725 | 3/10/2019 | 18:10 | Credit card |  25.45 | 4.761905 |  1.2725 | 5.1 |   26.7225 |\n| 151-33-7434 | B | Normal | Female | Food and beverages     | 67.77 |  1 |  3.3885 | 2/4/2019  | 20:43 | Credit card |  67.77 | 4.761905 |  3.3885 | 6.5 |   71.1585 |\n| 728-47-9078 | C | Member | Male   | Food and beverages     | 59.59 |  4 | 11.9180 | 1/19/2019 | 12:46 | Cash        | 238.36 | 4.761905 | 11.9180 | 9.8 |  250.2780 |\n| 809-46-1866 | A | Normal | Male   | Health and beauty      | 58.15 |  4 | 11.6300 | 1/23/2019 | 17:44 | Cash        | 232.60 | 4.761905 | 11.6300 | 8.4 |  244.2300 |\n| 139-32-4183 | A | Member | Female | Sports and travel      | 97.48 |  9 | 43.8660 | 3/14/2019 | 14:19 | Ewallet     | 877.32 | 4.761905 | 43.8660 | 7.4 |  921.1860 |\n| 148-41-7930 | C | Normal | Male   | Health and beauty      | 99.96 |  7 | 34.9860 | 1/23/2019 | 10:33 | Cash        | 699.72 | 4.761905 | 34.9860 | 6.1 |  734.7060 |\n| 189-40-5216 | C | Normal | Male   | Electronic accessories | 96.37 |  7 | 33.7295 | 1/9/2019  | 11:40 | Cash        | 674.59 | 4.761905 | 33.7295 | 6.0 |  708.3195 |\n| 374-38-5555 | B | Normal | Female | Fashion accessories    | 63.71 |  5 | 15.9275 | 2/7/2019  | 19:30 | Ewallet     | 318.55 | 4.761905 | 15.9275 | 8.5 |  334.4775 |\n| 764-44-8999 | B | Normal | Female | Health and beauty      | 14.76 |  2 |  1.4760 | 2/18/2019 | 14:42 | Ewallet     |  29.52 | 4.761905 |  1.4760 | 4.3 |   30.9960 |\n| 552-44-5977 | B | Member | Male   | Health and beauty      | 62.00 |  8 | 24.8000 | 1/3/2019  | 19:08 | Credit card | 496.00 | 4.761905 | 24.8000 | 6.2 |  520.8000 |\n| 267-62-7380 | C | Member | Male   | Electronic accessories | 82.34 | 10 | 41.1700 | 3/29/2019 | 19:12 | Ewallet     | 823.40 | 4.761905 | 41.1700 | 4.3 |  864.5700 |\n| 430-53-4718 | B | Member | Male   | Health and beauty      | 75.37 |  8 | 30.1480 | 1/28/2019 | 15:46 | Credit card | 602.96 | 4.761905 | 30.1480 | 8.4 |  633.1080 |\n| 886-18-2897 | A | Normal | Female | Food and beverages     | 56.56 |  5 | 14.1400 | 3/22/2019 | 19:06 | Credit card | 282.80 | 4.761905 | 14.1400 | 4.5 |  296.9400 |\n| 602-16-6955 | B | Normal | Female | Sports and travel      | 76.60 | 10 | 38.3000 | 1/24/2019 | 18:10 | Ewallet     | 766.00 | 4.761905 | 38.3000 | 6.0 |  804.3000 |\n| 745-74-0715 | A | Normal | Male   | Electronic accessories | 58.03 |  2 |  5.8030 | 3/10/2019 | 20:46 | Ewallet     | 116.06 | 4.761905 |  5.8030 | 8.8 |  121.8630 |\n| 690-01-6631 | B | Normal | Male   | Fashion accessories    | 17.49 | 10 |  8.7450 | 2/22/2019 | 18:35 | Ewallet     | 174.90 | 4.761905 |  8.7450 | 6.6 |  183.6450 |\n| 652-49-6720 | C | Member | Female | Electronic accessories | 60.95 |  1 |  3.0475 | 2/18/2019 | 11:40 | Ewallet     |  60.95 | 4.761905 |  3.0475 | 5.9 |   63.9975 |\n| 233-67-5758 | C | Normal | Male   | Health and beauty      | 40.35 |  1 |  2.0175 | 1/29/2019 | 13:46 | Ewallet     |  40.35 | 4.761905 |  2.0175 | 6.2 |   42.3675 |\n| 303-96-2227 | B | Normal | Female | Home and lifestyle     | 97.38 | 10 | 48.6900 | 3/2/2019  | 17:16 | Ewallet     | 973.80 | 4.761905 | 48.6900 | 4.4 | 1022.4900 |\n| 727-02-1313 | A | Member | Male   | Food and beverages     | 31.84 |  1 |  1.5920 | 2/9/2019  | 13:22 | Cash        |  31.84 | 4.761905 |  1.5920 | 7.7 |   33.4320 |\n| 347-56-2442 | A | Normal | Male   | Home and lifestyle     | 65.82 |  1 |  3.2910 | 2/22/2019 | 15:33 | Cash        |  65.82 | 4.761905 |  3.2910 | 4.1 |   69.1110 |\n| 849-09-3807 | A | Member | Female | Fashion accessories    | 88.34 |  7 | 30.9190 | 2/18/2019 | 13:28 | Cash        | 618.38 | 4.761905 | 30.9190 | 6.6 |  649.2990 |\n\n",
            "text/html": [
              "<table class=\"dataframe\">\n",
              "<caption>A data.frame: 1000 × 16</caption>\n",
              "<thead>\n",
              "\t<tr><th scope=col>Invoice.ID</th><th scope=col>Branch</th><th scope=col>Customer.type</th><th scope=col>Gender</th><th scope=col>Product.line</th><th scope=col>Unit.price</th><th scope=col>Quantity</th><th scope=col>Tax</th><th scope=col>Date</th><th scope=col>Time</th><th scope=col>Payment</th><th scope=col>cogs</th><th scope=col>gross.margin.percentage</th><th scope=col>gross.income</th><th scope=col>Rating</th><th scope=col>Total</th></tr>\n",
              "\t<tr><th scope=col>&lt;chr&gt;</th><th scope=col>&lt;chr&gt;</th><th scope=col>&lt;chr&gt;</th><th scope=col>&lt;chr&gt;</th><th scope=col>&lt;chr&gt;</th><th scope=col>&lt;dbl&gt;</th><th scope=col>&lt;int&gt;</th><th scope=col>&lt;dbl&gt;</th><th scope=col>&lt;chr&gt;</th><th scope=col>&lt;chr&gt;</th><th scope=col>&lt;chr&gt;</th><th scope=col>&lt;dbl&gt;</th><th scope=col>&lt;dbl&gt;</th><th scope=col>&lt;dbl&gt;</th><th scope=col>&lt;dbl&gt;</th><th scope=col>&lt;dbl&gt;</th></tr>\n",
              "</thead>\n",
              "<tbody>\n",
              "\t<tr><td>750-67-8428</td><td>A</td><td>Member</td><td>Female</td><td>Health and beauty     </td><td>74.69</td><td> 7</td><td>26.1415</td><td>1/5/2019 </td><td>13:08</td><td>Ewallet    </td><td>522.83</td><td>4.761905</td><td>26.1415</td><td>9.1</td><td>548.9715</td></tr>\n",
              "\t<tr><td>226-31-3081</td><td>C</td><td>Normal</td><td>Female</td><td>Electronic accessories</td><td>15.28</td><td> 5</td><td> 3.8200</td><td>3/8/2019 </td><td>10:29</td><td>Cash       </td><td> 76.40</td><td>4.761905</td><td> 3.8200</td><td>9.6</td><td> 80.2200</td></tr>\n",
              "\t<tr><td>631-41-3108</td><td>A</td><td>Normal</td><td>Male  </td><td>Home and lifestyle    </td><td>46.33</td><td> 7</td><td>16.2155</td><td>3/3/2019 </td><td>13:23</td><td>Credit card</td><td>324.31</td><td>4.761905</td><td>16.2155</td><td>7.4</td><td>340.5255</td></tr>\n",
              "\t<tr><td>123-19-1176</td><td>A</td><td>Member</td><td>Male  </td><td>Health and beauty     </td><td>58.22</td><td> 8</td><td>23.2880</td><td>1/27/2019</td><td>20:33</td><td>Ewallet    </td><td>465.76</td><td>4.761905</td><td>23.2880</td><td>8.4</td><td>489.0480</td></tr>\n",
              "\t<tr><td>373-73-7910</td><td>A</td><td>Normal</td><td>Male  </td><td>Sports and travel     </td><td>86.31</td><td> 7</td><td>30.2085</td><td>2/8/2019 </td><td>10:37</td><td>Ewallet    </td><td>604.17</td><td>4.761905</td><td>30.2085</td><td>5.3</td><td>634.3785</td></tr>\n",
              "\t<tr><td>699-14-3026</td><td>C</td><td>Normal</td><td>Male  </td><td>Electronic accessories</td><td>85.39</td><td> 7</td><td>29.8865</td><td>3/25/2019</td><td>18:30</td><td>Ewallet    </td><td>597.73</td><td>4.761905</td><td>29.8865</td><td>4.1</td><td>627.6165</td></tr>\n",
              "\t<tr><td>355-53-5943</td><td>A</td><td>Member</td><td>Female</td><td>Electronic accessories</td><td>68.84</td><td> 6</td><td>20.6520</td><td>2/25/2019</td><td>14:36</td><td>Ewallet    </td><td>413.04</td><td>4.761905</td><td>20.6520</td><td>5.8</td><td>433.6920</td></tr>\n",
              "\t<tr><td>315-22-5665</td><td>C</td><td>Normal</td><td>Female</td><td>Home and lifestyle    </td><td>73.56</td><td>10</td><td>36.7800</td><td>2/24/2019</td><td>11:38</td><td>Ewallet    </td><td>735.60</td><td>4.761905</td><td>36.7800</td><td>8.0</td><td>772.3800</td></tr>\n",
              "\t<tr><td>665-32-9167</td><td>A</td><td>Member</td><td>Female</td><td>Health and beauty     </td><td>36.26</td><td> 2</td><td> 3.6260</td><td>1/10/2019</td><td>17:15</td><td>Credit card</td><td> 72.52</td><td>4.761905</td><td> 3.6260</td><td>7.2</td><td> 76.1460</td></tr>\n",
              "\t<tr><td>692-92-5582</td><td>B</td><td>Member</td><td>Female</td><td>Food and beverages    </td><td>54.84</td><td> 3</td><td> 8.2260</td><td>2/20/2019</td><td>13:27</td><td>Credit card</td><td>164.52</td><td>4.761905</td><td> 8.2260</td><td>5.9</td><td>172.7460</td></tr>\n",
              "\t<tr><td>351-62-0822</td><td>B</td><td>Member</td><td>Female</td><td>Fashion accessories   </td><td>14.48</td><td> 4</td><td> 2.8960</td><td>2/6/2019 </td><td>18:07</td><td>Ewallet    </td><td> 57.92</td><td>4.761905</td><td> 2.8960</td><td>4.5</td><td> 60.8160</td></tr>\n",
              "\t<tr><td>529-56-3974</td><td>B</td><td>Member</td><td>Male  </td><td>Electronic accessories</td><td>25.51</td><td> 4</td><td> 5.1020</td><td>3/9/2019 </td><td>17:03</td><td>Cash       </td><td>102.04</td><td>4.761905</td><td> 5.1020</td><td>6.8</td><td>107.1420</td></tr>\n",
              "\t<tr><td>365-64-0515</td><td>A</td><td>Normal</td><td>Female</td><td>Electronic accessories</td><td>46.95</td><td> 5</td><td>11.7375</td><td>2/12/2019</td><td>10:25</td><td>Ewallet    </td><td>234.75</td><td>4.761905</td><td>11.7375</td><td>7.1</td><td>246.4875</td></tr>\n",
              "\t<tr><td>252-56-2699</td><td>A</td><td>Normal</td><td>Male  </td><td>Food and beverages    </td><td>43.19</td><td>10</td><td>21.5950</td><td>2/7/2019 </td><td>16:48</td><td>Ewallet    </td><td>431.90</td><td>4.761905</td><td>21.5950</td><td>8.2</td><td>453.4950</td></tr>\n",
              "\t<tr><td>829-34-3910</td><td>A</td><td>Normal</td><td>Female</td><td>Health and beauty     </td><td>71.38</td><td>10</td><td>35.6900</td><td>3/29/2019</td><td>19:21</td><td>Cash       </td><td>713.80</td><td>4.761905</td><td>35.6900</td><td>5.7</td><td>749.4900</td></tr>\n",
              "\t<tr><td>299-46-1805</td><td>B</td><td>Member</td><td>Female</td><td>Sports and travel     </td><td>93.72</td><td> 6</td><td>28.1160</td><td>1/15/2019</td><td>16:19</td><td>Cash       </td><td>562.32</td><td>4.761905</td><td>28.1160</td><td>4.5</td><td>590.4360</td></tr>\n",
              "\t<tr><td>656-95-9349</td><td>A</td><td>Member</td><td>Female</td><td>Health and beauty     </td><td>68.93</td><td> 7</td><td>24.1255</td><td>3/11/2019</td><td>11:03</td><td>Credit card</td><td>482.51</td><td>4.761905</td><td>24.1255</td><td>4.6</td><td>506.6355</td></tr>\n",
              "\t<tr><td>765-26-6951</td><td>A</td><td>Normal</td><td>Male  </td><td>Sports and travel     </td><td>72.61</td><td> 6</td><td>21.7830</td><td>1/1/2019 </td><td>10:39</td><td>Credit card</td><td>435.66</td><td>4.761905</td><td>21.7830</td><td>6.9</td><td>457.4430</td></tr>\n",
              "\t<tr><td>329-62-1586</td><td>A</td><td>Normal</td><td>Male  </td><td>Food and beverages    </td><td>54.67</td><td> 3</td><td> 8.2005</td><td>1/21/2019</td><td>18:00</td><td>Credit card</td><td>164.01</td><td>4.761905</td><td> 8.2005</td><td>8.6</td><td>172.2105</td></tr>\n",
              "\t<tr><td>319-50-3348</td><td>B</td><td>Normal</td><td>Female</td><td>Home and lifestyle    </td><td>40.30</td><td> 2</td><td> 4.0300</td><td>3/11/2019</td><td>15:30</td><td>Ewallet    </td><td> 80.60</td><td>4.761905</td><td> 4.0300</td><td>4.4</td><td> 84.6300</td></tr>\n",
              "\t<tr><td>300-71-4605</td><td>C</td><td>Member</td><td>Male  </td><td>Electronic accessories</td><td>86.04</td><td> 5</td><td>21.5100</td><td>2/25/2019</td><td>11:24</td><td>Ewallet    </td><td>430.20</td><td>4.761905</td><td>21.5100</td><td>4.8</td><td>451.7100</td></tr>\n",
              "\t<tr><td>371-85-5789</td><td>B</td><td>Normal</td><td>Male  </td><td>Health and beauty     </td><td>87.98</td><td> 3</td><td>13.1970</td><td>3/5/2019 </td><td>10:40</td><td>Ewallet    </td><td>263.94</td><td>4.761905</td><td>13.1970</td><td>5.1</td><td>277.1370</td></tr>\n",
              "\t<tr><td>273-16-6619</td><td>B</td><td>Normal</td><td>Male  </td><td>Home and lifestyle    </td><td>33.20</td><td> 2</td><td> 3.3200</td><td>3/15/2019</td><td>12:20</td><td>Credit card</td><td> 66.40</td><td>4.761905</td><td> 3.3200</td><td>4.4</td><td> 69.7200</td></tr>\n",
              "\t<tr><td>636-48-8204</td><td>A</td><td>Normal</td><td>Male  </td><td>Electronic accessories</td><td>34.56</td><td> 5</td><td> 8.6400</td><td>2/17/2019</td><td>11:15</td><td>Ewallet    </td><td>172.80</td><td>4.761905</td><td> 8.6400</td><td>9.9</td><td>181.4400</td></tr>\n",
              "\t<tr><td>549-59-1358</td><td>A</td><td>Member</td><td>Male  </td><td>Sports and travel     </td><td>88.63</td><td> 3</td><td>13.2945</td><td>3/2/2019 </td><td>17:36</td><td>Ewallet    </td><td>265.89</td><td>4.761905</td><td>13.2945</td><td>6.0</td><td>279.1845</td></tr>\n",
              "\t<tr><td>227-03-5010</td><td>A</td><td>Member</td><td>Female</td><td>Home and lifestyle    </td><td>52.59</td><td> 8</td><td>21.0360</td><td>3/22/2019</td><td>19:20</td><td>Credit card</td><td>420.72</td><td>4.761905</td><td>21.0360</td><td>8.5</td><td>441.7560</td></tr>\n",
              "\t<tr><td>649-29-6775</td><td>B</td><td>Normal</td><td>Male  </td><td>Fashion accessories   </td><td>33.52</td><td> 1</td><td> 1.6760</td><td>2/8/2019 </td><td>15:31</td><td>Cash       </td><td> 33.52</td><td>4.761905</td><td> 1.6760</td><td>6.7</td><td> 35.1960</td></tr>\n",
              "\t<tr><td>189-17-4241</td><td>A</td><td>Normal</td><td>Female</td><td>Fashion accessories   </td><td>87.67</td><td> 2</td><td> 8.7670</td><td>3/10/2019</td><td>12:17</td><td>Credit card</td><td>175.34</td><td>4.761905</td><td> 8.7670</td><td>7.7</td><td>184.1070</td></tr>\n",
              "\t<tr><td>145-94-9061</td><td>B</td><td>Normal</td><td>Female</td><td>Food and beverages    </td><td>88.36</td><td> 5</td><td>22.0900</td><td>1/25/2019</td><td>19:48</td><td>Cash       </td><td>441.80</td><td>4.761905</td><td>22.0900</td><td>9.6</td><td>463.8900</td></tr>\n",
              "\t<tr><td>848-62-7243</td><td>A</td><td>Normal</td><td>Male  </td><td>Health and beauty     </td><td>24.89</td><td> 9</td><td>11.2005</td><td>3/15/2019</td><td>15:36</td><td>Cash       </td><td>224.01</td><td>4.761905</td><td>11.2005</td><td>7.4</td><td>235.2105</td></tr>\n",
              "\t<tr><td>⋮</td><td>⋮</td><td>⋮</td><td>⋮</td><td>⋮</td><td>⋮</td><td>⋮</td><td>⋮</td><td>⋮</td><td>⋮</td><td>⋮</td><td>⋮</td><td>⋮</td><td>⋮</td><td>⋮</td><td>⋮</td></tr>\n",
              "\t<tr><td>746-04-1077</td><td>B</td><td>Member</td><td>Female</td><td>Food and beverages    </td><td>84.63</td><td>10</td><td>42.3150</td><td>1/1/2019 </td><td>11:36</td><td>Credit card</td><td>846.30</td><td>4.761905</td><td>42.3150</td><td>9.0</td><td> 888.6150</td></tr>\n",
              "\t<tr><td>448-34-8700</td><td>B</td><td>Member</td><td>Male  </td><td>Home and lifestyle    </td><td>36.91</td><td> 7</td><td>12.9185</td><td>2/10/2019</td><td>13:51</td><td>Ewallet    </td><td>258.37</td><td>4.761905</td><td>12.9185</td><td>6.7</td><td> 271.2885</td></tr>\n",
              "\t<tr><td>452-04-8808</td><td>B</td><td>Normal</td><td>Male  </td><td>Electronic accessories</td><td>87.08</td><td> 7</td><td>30.4780</td><td>1/26/2019</td><td>15:17</td><td>Cash       </td><td>609.56</td><td>4.761905</td><td>30.4780</td><td>5.5</td><td> 640.0380</td></tr>\n",
              "\t<tr><td>531-56-4728</td><td>A</td><td>Normal</td><td>Male  </td><td>Home and lifestyle    </td><td>80.08</td><td> 3</td><td>12.0120</td><td>2/11/2019</td><td>15:29</td><td>Cash       </td><td>240.24</td><td>4.761905</td><td>12.0120</td><td>5.4</td><td> 252.2520</td></tr>\n",
              "\t<tr><td>744-82-9138</td><td>C</td><td>Normal</td><td>Male  </td><td>Fashion accessories   </td><td>86.13</td><td> 2</td><td> 8.6130</td><td>2/7/2019 </td><td>17:59</td><td>Cash       </td><td>172.26</td><td>4.761905</td><td> 8.6130</td><td>8.2</td><td> 180.8730</td></tr>\n",
              "\t<tr><td>883-69-1285</td><td>B</td><td>Member</td><td>Male  </td><td>Fashion accessories   </td><td>49.92</td><td> 2</td><td> 4.9920</td><td>3/6/2019 </td><td>11:55</td><td>Credit card</td><td> 99.84</td><td>4.761905</td><td> 4.9920</td><td>7.0</td><td> 104.8320</td></tr>\n",
              "\t<tr><td>221-25-5073</td><td>A</td><td>Normal</td><td>Female</td><td>Food and beverages    </td><td>74.66</td><td> 4</td><td>14.9320</td><td>3/4/2019 </td><td>10:39</td><td>Cash       </td><td>298.64</td><td>4.761905</td><td>14.9320</td><td>8.5</td><td> 313.5720</td></tr>\n",
              "\t<tr><td>518-71-6847</td><td>B</td><td>Member</td><td>Male  </td><td>Food and beverages    </td><td>26.60</td><td> 6</td><td> 7.9800</td><td>2/26/2019</td><td>15:10</td><td>Ewallet    </td><td>159.60</td><td>4.761905</td><td> 7.9800</td><td>4.9</td><td> 167.5800</td></tr>\n",
              "\t<tr><td>156-20-0370</td><td>B</td><td>Normal</td><td>Female</td><td>Electronic accessories</td><td>25.45</td><td> 1</td><td> 1.2725</td><td>3/10/2019</td><td>18:10</td><td>Credit card</td><td> 25.45</td><td>4.761905</td><td> 1.2725</td><td>5.1</td><td>  26.7225</td></tr>\n",
              "\t<tr><td>151-33-7434</td><td>B</td><td>Normal</td><td>Female</td><td>Food and beverages    </td><td>67.77</td><td> 1</td><td> 3.3885</td><td>2/4/2019 </td><td>20:43</td><td>Credit card</td><td> 67.77</td><td>4.761905</td><td> 3.3885</td><td>6.5</td><td>  71.1585</td></tr>\n",
              "\t<tr><td>728-47-9078</td><td>C</td><td>Member</td><td>Male  </td><td>Food and beverages    </td><td>59.59</td><td> 4</td><td>11.9180</td><td>1/19/2019</td><td>12:46</td><td>Cash       </td><td>238.36</td><td>4.761905</td><td>11.9180</td><td>9.8</td><td> 250.2780</td></tr>\n",
              "\t<tr><td>809-46-1866</td><td>A</td><td>Normal</td><td>Male  </td><td>Health and beauty     </td><td>58.15</td><td> 4</td><td>11.6300</td><td>1/23/2019</td><td>17:44</td><td>Cash       </td><td>232.60</td><td>4.761905</td><td>11.6300</td><td>8.4</td><td> 244.2300</td></tr>\n",
              "\t<tr><td>139-32-4183</td><td>A</td><td>Member</td><td>Female</td><td>Sports and travel     </td><td>97.48</td><td> 9</td><td>43.8660</td><td>3/14/2019</td><td>14:19</td><td>Ewallet    </td><td>877.32</td><td>4.761905</td><td>43.8660</td><td>7.4</td><td> 921.1860</td></tr>\n",
              "\t<tr><td>148-41-7930</td><td>C</td><td>Normal</td><td>Male  </td><td>Health and beauty     </td><td>99.96</td><td> 7</td><td>34.9860</td><td>1/23/2019</td><td>10:33</td><td>Cash       </td><td>699.72</td><td>4.761905</td><td>34.9860</td><td>6.1</td><td> 734.7060</td></tr>\n",
              "\t<tr><td>189-40-5216</td><td>C</td><td>Normal</td><td>Male  </td><td>Electronic accessories</td><td>96.37</td><td> 7</td><td>33.7295</td><td>1/9/2019 </td><td>11:40</td><td>Cash       </td><td>674.59</td><td>4.761905</td><td>33.7295</td><td>6.0</td><td> 708.3195</td></tr>\n",
              "\t<tr><td>374-38-5555</td><td>B</td><td>Normal</td><td>Female</td><td>Fashion accessories   </td><td>63.71</td><td> 5</td><td>15.9275</td><td>2/7/2019 </td><td>19:30</td><td>Ewallet    </td><td>318.55</td><td>4.761905</td><td>15.9275</td><td>8.5</td><td> 334.4775</td></tr>\n",
              "\t<tr><td>764-44-8999</td><td>B</td><td>Normal</td><td>Female</td><td>Health and beauty     </td><td>14.76</td><td> 2</td><td> 1.4760</td><td>2/18/2019</td><td>14:42</td><td>Ewallet    </td><td> 29.52</td><td>4.761905</td><td> 1.4760</td><td>4.3</td><td>  30.9960</td></tr>\n",
              "\t<tr><td>552-44-5977</td><td>B</td><td>Member</td><td>Male  </td><td>Health and beauty     </td><td>62.00</td><td> 8</td><td>24.8000</td><td>1/3/2019 </td><td>19:08</td><td>Credit card</td><td>496.00</td><td>4.761905</td><td>24.8000</td><td>6.2</td><td> 520.8000</td></tr>\n",
              "\t<tr><td>267-62-7380</td><td>C</td><td>Member</td><td>Male  </td><td>Electronic accessories</td><td>82.34</td><td>10</td><td>41.1700</td><td>3/29/2019</td><td>19:12</td><td>Ewallet    </td><td>823.40</td><td>4.761905</td><td>41.1700</td><td>4.3</td><td> 864.5700</td></tr>\n",
              "\t<tr><td>430-53-4718</td><td>B</td><td>Member</td><td>Male  </td><td>Health and beauty     </td><td>75.37</td><td> 8</td><td>30.1480</td><td>1/28/2019</td><td>15:46</td><td>Credit card</td><td>602.96</td><td>4.761905</td><td>30.1480</td><td>8.4</td><td> 633.1080</td></tr>\n",
              "\t<tr><td>886-18-2897</td><td>A</td><td>Normal</td><td>Female</td><td>Food and beverages    </td><td>56.56</td><td> 5</td><td>14.1400</td><td>3/22/2019</td><td>19:06</td><td>Credit card</td><td>282.80</td><td>4.761905</td><td>14.1400</td><td>4.5</td><td> 296.9400</td></tr>\n",
              "\t<tr><td>602-16-6955</td><td>B</td><td>Normal</td><td>Female</td><td>Sports and travel     </td><td>76.60</td><td>10</td><td>38.3000</td><td>1/24/2019</td><td>18:10</td><td>Ewallet    </td><td>766.00</td><td>4.761905</td><td>38.3000</td><td>6.0</td><td> 804.3000</td></tr>\n",
              "\t<tr><td>745-74-0715</td><td>A</td><td>Normal</td><td>Male  </td><td>Electronic accessories</td><td>58.03</td><td> 2</td><td> 5.8030</td><td>3/10/2019</td><td>20:46</td><td>Ewallet    </td><td>116.06</td><td>4.761905</td><td> 5.8030</td><td>8.8</td><td> 121.8630</td></tr>\n",
              "\t<tr><td>690-01-6631</td><td>B</td><td>Normal</td><td>Male  </td><td>Fashion accessories   </td><td>17.49</td><td>10</td><td> 8.7450</td><td>2/22/2019</td><td>18:35</td><td>Ewallet    </td><td>174.90</td><td>4.761905</td><td> 8.7450</td><td>6.6</td><td> 183.6450</td></tr>\n",
              "\t<tr><td>652-49-6720</td><td>C</td><td>Member</td><td>Female</td><td>Electronic accessories</td><td>60.95</td><td> 1</td><td> 3.0475</td><td>2/18/2019</td><td>11:40</td><td>Ewallet    </td><td> 60.95</td><td>4.761905</td><td> 3.0475</td><td>5.9</td><td>  63.9975</td></tr>\n",
              "\t<tr><td>233-67-5758</td><td>C</td><td>Normal</td><td>Male  </td><td>Health and beauty     </td><td>40.35</td><td> 1</td><td> 2.0175</td><td>1/29/2019</td><td>13:46</td><td>Ewallet    </td><td> 40.35</td><td>4.761905</td><td> 2.0175</td><td>6.2</td><td>  42.3675</td></tr>\n",
              "\t<tr><td>303-96-2227</td><td>B</td><td>Normal</td><td>Female</td><td>Home and lifestyle    </td><td>97.38</td><td>10</td><td>48.6900</td><td>3/2/2019 </td><td>17:16</td><td>Ewallet    </td><td>973.80</td><td>4.761905</td><td>48.6900</td><td>4.4</td><td>1022.4900</td></tr>\n",
              "\t<tr><td>727-02-1313</td><td>A</td><td>Member</td><td>Male  </td><td>Food and beverages    </td><td>31.84</td><td> 1</td><td> 1.5920</td><td>2/9/2019 </td><td>13:22</td><td>Cash       </td><td> 31.84</td><td>4.761905</td><td> 1.5920</td><td>7.7</td><td>  33.4320</td></tr>\n",
              "\t<tr><td>347-56-2442</td><td>A</td><td>Normal</td><td>Male  </td><td>Home and lifestyle    </td><td>65.82</td><td> 1</td><td> 3.2910</td><td>2/22/2019</td><td>15:33</td><td>Cash       </td><td> 65.82</td><td>4.761905</td><td> 3.2910</td><td>4.1</td><td>  69.1110</td></tr>\n",
              "\t<tr><td>849-09-3807</td><td>A</td><td>Member</td><td>Female</td><td>Fashion accessories   </td><td>88.34</td><td> 7</td><td>30.9190</td><td>2/18/2019</td><td>13:28</td><td>Cash       </td><td>618.38</td><td>4.761905</td><td>30.9190</td><td>6.6</td><td> 649.2990</td></tr>\n",
              "</tbody>\n",
              "</table>\n"
            ]
          },
          "metadata": {}
        }
      ]
    },
    {
      "cell_type": "code",
      "metadata": {
        "colab": {
          "base_uri": "https://localhost:8080/",
          "height": 1000
        },
        "id": "wjbYmZoekLVX",
        "outputId": "911f02e3-ec36-4ceb-811b-3d9aedf6bfce"
      },
      "source": [
        "df2"
      ],
      "execution_count": 3,
      "outputs": [
        {
          "output_type": "display_data",
          "data": {
            "text/plain": [
              "     V1                V2                V3                V4              \n",
              "1    shrimp            almonds           avocado           vegetables mix  \n",
              "2    burgers           meatballs         eggs                              \n",
              "3    chutney                                                               \n",
              "4    turkey            avocado                                             \n",
              "5    mineral water     milk              energy bar        whole wheat rice\n",
              "6    low fat yogurt                                                        \n",
              "7    whole wheat pasta french fries                                        \n",
              "8    soup              light cream       shallot                           \n",
              "9    frozen vegetables spaghetti         green tea                         \n",
              "10   french fries                                                          \n",
              "11   eggs              pet food                                            \n",
              "12   cookies                                                               \n",
              "13   turkey            burgers           mineral water     eggs            \n",
              "14   spaghetti         champagne         cookies                           \n",
              "15   mineral water     salmon                                              \n",
              "16   mineral water                                                         \n",
              "17   shrimp            chocolate         chicken           honey           \n",
              "18   turkey            eggs                                                \n",
              "19   turkey            fresh tuna        tomatoes          spaghetti       \n",
              "20   meatballs         milk              honey             french fries    \n",
              "21   red wine          shrimp            pasta             pepper          \n",
              "22   rice              sparkling water                                     \n",
              "23   spaghetti         mineral water     ham               body spray      \n",
              "24   burgers           grated cheese     shrimp            pasta           \n",
              "25   eggs                                                                  \n",
              "26   parmesan cheese   spaghetti         soup              avocado         \n",
              "27   ground beef       spaghetti         mineral water     milk            \n",
              "28   sparkling water                                                       \n",
              "29   mineral water     eggs              chicken           chocolate       \n",
              "30   frozen vegetables spaghetti         yams              mineral water   \n",
              "⋮    ⋮                 ⋮                 ⋮                 ⋮               \n",
              "7472 mineral water     chocolate                                           \n",
              "7473 chocolate         grated cheese     mineral water     olive oil       \n",
              "7474 whole wheat rice  cake              cottage cheese                    \n",
              "7475 turkey            shrimp            pasta             mineral water   \n",
              "7476 turkey            mineral water     cooking oil       chocolate       \n",
              "7477 tomatoes          tomato sauce      spaghetti         mineral water   \n",
              "7478 tomato juice                                                          \n",
              "7479 turkey            ground beef       mineral water     chocolate       \n",
              "7480 shrimp            pasta             mineral water     olive oil       \n",
              "7481 frozen vegetables french wine       pancakes          french fries    \n",
              "7482 chocolate         shrimp            pasta             spaghetti       \n",
              "7483 chocolate                                                             \n",
              "7484 fresh tuna        parmesan cheese   whole wheat pasta french wine     \n",
              "7485 cookies           energy drink                                        \n",
              "7486 parmesan cheese   champagne         white wine                        \n",
              "7487 red wine          tomato sauce      spaghetti         chocolate       \n",
              "7488 soup              milk                                                \n",
              "7489 eggs              whole wheat rice                                    \n",
              "7490 brownies                                                              \n",
              "7491 herb & pepper     spaghetti         low fat yogurt                    \n",
              "7492 herb & pepper                                                         \n",
              "7493 chocolate         escalope                                            \n",
              "7494 burgers           salmon            pancakes          french fries    \n",
              "7495 turkey            burgers           dessert wine      shrimp          \n",
              "7496 pancakes          light mayo                                          \n",
              "7497 butter            light mayo        fresh bread                       \n",
              "7498 burgers           frozen vegetables eggs              french fries    \n",
              "7499 chicken                                                               \n",
              "7500 escalope          green tea                                           \n",
              "7501 eggs              frozen smoothie   yogurt cake       low fat yogurt  \n",
              "     V5              V6               V7               V8             \n",
              "1    green grapes    whole weat flour yams             cottage cheese \n",
              "2                                                                     \n",
              "3                                                                     \n",
              "4                                                                     \n",
              "5    green tea                                                        \n",
              "6                                                                     \n",
              "7                                                                     \n",
              "8                                                                     \n",
              "9                                                                     \n",
              "10                                                                    \n",
              "11                                                                    \n",
              "12                                                                    \n",
              "13   cooking oil                                                      \n",
              "14                                                                    \n",
              "15                                                                    \n",
              "16                                                                    \n",
              "17   oil             cooking oil      low fat yogurt                  \n",
              "18                                                                    \n",
              "19   mineral water   black tea        salmon           eggs           \n",
              "20   protein bar                                                      \n",
              "21   eggs            chocolate        shampoo                         \n",
              "22                                                                    \n",
              "23   pancakes        green tea                                        \n",
              "24   avocado         honey            white wine       toothpaste     \n",
              "25                                                                    \n",
              "26   milk            fresh bread                                      \n",
              "27   energy bar      black tea        salmon           frozen smoothie\n",
              "28                                                                    \n",
              "29   french fries                                                     \n",
              "30                                                                    \n",
              "⋮    ⋮               ⋮                ⋮                ⋮              \n",
              "7472                                                                  \n",
              "7473 green tea                                                        \n",
              "7474                                                                  \n",
              "7475 chocolate       milk             salmon           vegetables mix \n",
              "7476 french fries    protein bar                                      \n",
              "7477 soup            olive oil        mashed potato    fresh bread    \n",
              "7478                                                                  \n",
              "7479 soup            pancakes         whole wheat rice light cream    \n",
              "7480 pancakes        bug spray        low fat yogurt                  \n",
              "7481 champagne       strawberries                                     \n",
              "7482                                                                  \n",
              "7483                                                                  \n",
              "7484 fromage blanc   cottage cheese   brownies         salad          \n",
              "7485                                                                  \n",
              "7486                                                                  \n",
              "7487 olive oil       french fries     salt             asparagus      \n",
              "7488                                                                  \n",
              "7489                                                                  \n",
              "7490                                                                  \n",
              "7491                                                                  \n",
              "7492                                                                  \n",
              "7493                                                                  \n",
              "7494 frozen smoothie fresh bread      mint                            \n",
              "7495 pasta           tomatoes         pepper           milk           \n",
              "7496                                                                  \n",
              "7497                                                                  \n",
              "7498 magazines       green tea                                        \n",
              "7499                                                                  \n",
              "7500                                                                  \n",
              "7501                                                                  \n",
              "     V9           V10                  V11             V12             V13  \n",
              "1    energy drink tomato juice         low fat yogurt  green tea       honey\n",
              "2                                                                           \n",
              "3                                                                           \n",
              "4                                                                           \n",
              "5                                                                           \n",
              "6                                                                           \n",
              "7                                                                           \n",
              "8                                                                           \n",
              "9                                                                           \n",
              "10                                                                          \n",
              "11                                                                          \n",
              "12                                                                          \n",
              "13                                                                          \n",
              "14                                                                          \n",
              "15                                                                          \n",
              "16                                                                          \n",
              "17                                                                          \n",
              "18                                                                          \n",
              "19   chicken      extra dark chocolate                                      \n",
              "20                                                                          \n",
              "21                                                                          \n",
              "22                                                                          \n",
              "23                                                                          \n",
              "24                                                                          \n",
              "25                                                                          \n",
              "26                                                                          \n",
              "27   escalope                                                               \n",
              "28                                                                          \n",
              "29                                                                          \n",
              "30                                                                          \n",
              "⋮    ⋮            ⋮                    ⋮               ⋮               ⋮    \n",
              "7472                                                                        \n",
              "7473                                                                        \n",
              "7474                                                                        \n",
              "7475 muffins      eggs                 sparkling water gluten free bar      \n",
              "7476                                                                        \n",
              "7477 mayonnaise   green tea                                                 \n",
              "7478                                                                        \n",
              "7479 carrots      mayonnaise                                                \n",
              "7480                                                                        \n",
              "7481                                                                        \n",
              "7482                                                                        \n",
              "7483                                                                        \n",
              "7484 mint         green tea                                                 \n",
              "7485                                                                        \n",
              "7486                                                                        \n",
              "7487                                                                        \n",
              "7488                                                                        \n",
              "7489                                                                        \n",
              "7490                                                                        \n",
              "7491                                                                        \n",
              "7492                                                                        \n",
              "7493                                                                        \n",
              "7494                                                                        \n",
              "7495 pancakes     whole wheat rice     oil             frozen smoothie      \n",
              "7496                                                                        \n",
              "7497                                                                        \n",
              "7498                                                                        \n",
              "7499                                                                        \n",
              "7500                                                                        \n",
              "7501                                                                        \n",
              "     V14   V15           V16    V17               V18             V19    \n",
              "1    salad mineral water salmon antioxydant juice frozen smoothie spinach\n",
              "2                                                                        \n",
              "3                                                                        \n",
              "4                                                                        \n",
              "5                                                                        \n",
              "6                                                                        \n",
              "7                                                                        \n",
              "8                                                                        \n",
              "9                                                                        \n",
              "10                                                                       \n",
              "11                                                                       \n",
              "12                                                                       \n",
              "13                                                                       \n",
              "14                                                                       \n",
              "15                                                                       \n",
              "16                                                                       \n",
              "17                                                                       \n",
              "18                                                                       \n",
              "19                                                                       \n",
              "20                                                                       \n",
              "21                                                                       \n",
              "22                                                                       \n",
              "23                                                                       \n",
              "24                                                                       \n",
              "25                                                                       \n",
              "26                                                                       \n",
              "27                                                                       \n",
              "28                                                                       \n",
              "29                                                                       \n",
              "30                                                                       \n",
              "⋮    ⋮     ⋮             ⋮      ⋮                 ⋮               ⋮      \n",
              "7472                                                                     \n",
              "7473                                                                     \n",
              "7474                                                                     \n",
              "7475                                                                     \n",
              "7476                                                                     \n",
              "7477                                                                     \n",
              "7478                                                                     \n",
              "7479                                                                     \n",
              "7480                                                                     \n",
              "7481                                                                     \n",
              "7482                                                                     \n",
              "7483                                                                     \n",
              "7484                                                                     \n",
              "7485                                                                     \n",
              "7486                                                                     \n",
              "7487                                                                     \n",
              "7488                                                                     \n",
              "7489                                                                     \n",
              "7490                                                                     \n",
              "7491                                                                     \n",
              "7492                                                                     \n",
              "7493                                                                     \n",
              "7494                                                                     \n",
              "7495                                                                     \n",
              "7496                                                                     \n",
              "7497                                                                     \n",
              "7498                                                                     \n",
              "7499                                                                     \n",
              "7500                                                                     \n",
              "7501                                                                     \n",
              "     V20      \n",
              "1    olive oil\n",
              "2             \n",
              "3             \n",
              "4             \n",
              "5             \n",
              "6             \n",
              "7             \n",
              "8             \n",
              "9             \n",
              "10            \n",
              "11            \n",
              "12            \n",
              "13            \n",
              "14            \n",
              "15            \n",
              "16            \n",
              "17            \n",
              "18            \n",
              "19            \n",
              "20            \n",
              "21            \n",
              "22            \n",
              "23            \n",
              "24            \n",
              "25            \n",
              "26            \n",
              "27            \n",
              "28            \n",
              "29            \n",
              "30            \n",
              "⋮    ⋮        \n",
              "7472          \n",
              "7473          \n",
              "7474          \n",
              "7475          \n",
              "7476          \n",
              "7477          \n",
              "7478          \n",
              "7479          \n",
              "7480          \n",
              "7481          \n",
              "7482          \n",
              "7483          \n",
              "7484          \n",
              "7485          \n",
              "7486          \n",
              "7487          \n",
              "7488          \n",
              "7489          \n",
              "7490          \n",
              "7491          \n",
              "7492          \n",
              "7493          \n",
              "7494          \n",
              "7495          \n",
              "7496          \n",
              "7497          \n",
              "7498          \n",
              "7499          \n",
              "7500          \n",
              "7501          "
            ],
            "text/latex": "A data.frame: 7501 × 20\n\\begin{tabular}{llllllllllllllllllll}\n V1 & V2 & V3 & V4 & V5 & V6 & V7 & V8 & V9 & V10 & V11 & V12 & V13 & V14 & V15 & V16 & V17 & V18 & V19 & V20\\\\\n <chr> & <chr> & <chr> & <chr> & <chr> & <chr> & <chr> & <chr> & <chr> & <chr> & <chr> & <chr> & <chr> & <chr> & <chr> & <chr> & <chr> & <chr> & <chr> & <chr>\\\\\n\\hline\n\t shrimp            & almonds         & avocado       & vegetables mix   & green grapes  & whole weat flour & yams           & cottage cheese  & energy drink & tomato juice         & low fat yogurt & green tea & honey & salad & mineral water & salmon & antioxydant juice & frozen smoothie & spinach & olive oil\\\\\n\t burgers           & meatballs       & eggs          &                  &               &                  &                &                 &              &                      &                &           &       &       &               &        &                   &                 &         &          \\\\\n\t chutney           &                 &               &                  &               &                  &                &                 &              &                      &                &           &       &       &               &        &                   &                 &         &          \\\\\n\t turkey            & avocado         &               &                  &               &                  &                &                 &              &                      &                &           &       &       &               &        &                   &                 &         &          \\\\\n\t mineral water     & milk            & energy bar    & whole wheat rice & green tea     &                  &                &                 &              &                      &                &           &       &       &               &        &                   &                 &         &          \\\\\n\t low fat yogurt    &                 &               &                  &               &                  &                &                 &              &                      &                &           &       &       &               &        &                   &                 &         &          \\\\\n\t whole wheat pasta & french fries    &               &                  &               &                  &                &                 &              &                      &                &           &       &       &               &        &                   &                 &         &          \\\\\n\t soup              & light cream     & shallot       &                  &               &                  &                &                 &              &                      &                &           &       &       &               &        &                   &                 &         &          \\\\\n\t frozen vegetables & spaghetti       & green tea     &                  &               &                  &                &                 &              &                      &                &           &       &       &               &        &                   &                 &         &          \\\\\n\t french fries      &                 &               &                  &               &                  &                &                 &              &                      &                &           &       &       &               &        &                   &                 &         &          \\\\\n\t eggs              & pet food        &               &                  &               &                  &                &                 &              &                      &                &           &       &       &               &        &                   &                 &         &          \\\\\n\t cookies           &                 &               &                  &               &                  &                &                 &              &                      &                &           &       &       &               &        &                   &                 &         &          \\\\\n\t turkey            & burgers         & mineral water & eggs             & cooking oil   &                  &                &                 &              &                      &                &           &       &       &               &        &                   &                 &         &          \\\\\n\t spaghetti         & champagne       & cookies       &                  &               &                  &                &                 &              &                      &                &           &       &       &               &        &                   &                 &         &          \\\\\n\t mineral water     & salmon          &               &                  &               &                  &                &                 &              &                      &                &           &       &       &               &        &                   &                 &         &          \\\\\n\t mineral water     &                 &               &                  &               &                  &                &                 &              &                      &                &           &       &       &               &        &                   &                 &         &          \\\\\n\t shrimp            & chocolate       & chicken       & honey            & oil           & cooking oil      & low fat yogurt &                 &              &                      &                &           &       &       &               &        &                   &                 &         &          \\\\\n\t turkey            & eggs            &               &                  &               &                  &                &                 &              &                      &                &           &       &       &               &        &                   &                 &         &          \\\\\n\t turkey            & fresh tuna      & tomatoes      & spaghetti        & mineral water & black tea        & salmon         & eggs            & chicken      & extra dark chocolate &                &           &       &       &               &        &                   &                 &         &          \\\\\n\t meatballs         & milk            & honey         & french fries     & protein bar   &                  &                &                 &              &                      &                &           &       &       &               &        &                   &                 &         &          \\\\\n\t red wine          & shrimp          & pasta         & pepper           & eggs          & chocolate        & shampoo        &                 &              &                      &                &           &       &       &               &        &                   &                 &         &          \\\\\n\t rice              & sparkling water &               &                  &               &                  &                &                 &              &                      &                &           &       &       &               &        &                   &                 &         &          \\\\\n\t spaghetti         & mineral water   & ham           & body spray       & pancakes      & green tea        &                &                 &              &                      &                &           &       &       &               &        &                   &                 &         &          \\\\\n\t burgers           & grated cheese   & shrimp        & pasta            & avocado       & honey            & white wine     & toothpaste      &              &                      &                &           &       &       &               &        &                   &                 &         &          \\\\\n\t eggs              &                 &               &                  &               &                  &                &                 &              &                      &                &           &       &       &               &        &                   &                 &         &          \\\\\n\t parmesan cheese   & spaghetti       & soup          & avocado          & milk          & fresh bread      &                &                 &              &                      &                &           &       &       &               &        &                   &                 &         &          \\\\\n\t ground beef       & spaghetti       & mineral water & milk             & energy bar    & black tea        & salmon         & frozen smoothie & escalope     &                      &                &           &       &       &               &        &                   &                 &         &          \\\\\n\t sparkling water   &                 &               &                  &               &                  &                &                 &              &                      &                &           &       &       &               &        &                   &                 &         &          \\\\\n\t mineral water     & eggs            & chicken       & chocolate        & french fries  &                  &                &                 &              &                      &                &           &       &       &               &        &                   &                 &         &          \\\\\n\t frozen vegetables & spaghetti       & yams          & mineral water    &               &                  &                &                 &              &                      &                &           &       &       &               &        &                   &                 &         &          \\\\\n\t ⋮ & ⋮ & ⋮ & ⋮ & ⋮ & ⋮ & ⋮ & ⋮ & ⋮ & ⋮ & ⋮ & ⋮ & ⋮ & ⋮ & ⋮ & ⋮ & ⋮ & ⋮ & ⋮ & ⋮\\\\\n\t mineral water     & chocolate         &                   &                &                 &                &                  &                &            &                  &                 &                 &  &  &  &  &  &  &  & \\\\\n\t chocolate         & grated cheese     & mineral water     & olive oil      & green tea       &                &                  &                &            &                  &                 &                 &  &  &  &  &  &  &  & \\\\\n\t whole wheat rice  & cake              & cottage cheese    &                &                 &                &                  &                &            &                  &                 &                 &  &  &  &  &  &  &  & \\\\\n\t turkey            & shrimp            & pasta             & mineral water  & chocolate       & milk           & salmon           & vegetables mix & muffins    & eggs             & sparkling water & gluten free bar &  &  &  &  &  &  &  & \\\\\n\t turkey            & mineral water     & cooking oil       & chocolate      & french fries    & protein bar    &                  &                &            &                  &                 &                 &  &  &  &  &  &  &  & \\\\\n\t tomatoes          & tomato sauce      & spaghetti         & mineral water  & soup            & olive oil      & mashed potato    & fresh bread    & mayonnaise & green tea        &                 &                 &  &  &  &  &  &  &  & \\\\\n\t tomato juice      &                   &                   &                &                 &                &                  &                &            &                  &                 &                 &  &  &  &  &  &  &  & \\\\\n\t turkey            & ground beef       & mineral water     & chocolate      & soup            & pancakes       & whole wheat rice & light cream    & carrots    & mayonnaise       &                 &                 &  &  &  &  &  &  &  & \\\\\n\t shrimp            & pasta             & mineral water     & olive oil      & pancakes        & bug spray      & low fat yogurt   &                &            &                  &                 &                 &  &  &  &  &  &  &  & \\\\\n\t frozen vegetables & french wine       & pancakes          & french fries   & champagne       & strawberries   &                  &                &            &                  &                 &                 &  &  &  &  &  &  &  & \\\\\n\t chocolate         & shrimp            & pasta             & spaghetti      &                 &                &                  &                &            &                  &                 &                 &  &  &  &  &  &  &  & \\\\\n\t chocolate         &                   &                   &                &                 &                &                  &                &            &                  &                 &                 &  &  &  &  &  &  &  & \\\\\n\t fresh tuna        & parmesan cheese   & whole wheat pasta & french wine    & fromage blanc   & cottage cheese & brownies         & salad          & mint       & green tea        &                 &                 &  &  &  &  &  &  &  & \\\\\n\t cookies           & energy drink      &                   &                &                 &                &                  &                &            &                  &                 &                 &  &  &  &  &  &  &  & \\\\\n\t parmesan cheese   & champagne         & white wine        &                &                 &                &                  &                &            &                  &                 &                 &  &  &  &  &  &  &  & \\\\\n\t red wine          & tomato sauce      & spaghetti         & chocolate      & olive oil       & french fries   & salt             & asparagus      &            &                  &                 &                 &  &  &  &  &  &  &  & \\\\\n\t soup              & milk              &                   &                &                 &                &                  &                &            &                  &                 &                 &  &  &  &  &  &  &  & \\\\\n\t eggs              & whole wheat rice  &                   &                &                 &                &                  &                &            &                  &                 &                 &  &  &  &  &  &  &  & \\\\\n\t brownies          &                   &                   &                &                 &                &                  &                &            &                  &                 &                 &  &  &  &  &  &  &  & \\\\\n\t herb \\& pepper     & spaghetti         & low fat yogurt    &                &                 &                &                  &                &            &                  &                 &                 &  &  &  &  &  &  &  & \\\\\n\t herb \\& pepper     &                   &                   &                &                 &                &                  &                &            &                  &                 &                 &  &  &  &  &  &  &  & \\\\\n\t chocolate         & escalope          &                   &                &                 &                &                  &                &            &                  &                 &                 &  &  &  &  &  &  &  & \\\\\n\t burgers           & salmon            & pancakes          & french fries   & frozen smoothie & fresh bread    & mint             &                &            &                  &                 &                 &  &  &  &  &  &  &  & \\\\\n\t turkey            & burgers           & dessert wine      & shrimp         & pasta           & tomatoes       & pepper           & milk           & pancakes   & whole wheat rice & oil             & frozen smoothie &  &  &  &  &  &  &  & \\\\\n\t pancakes          & light mayo        &                   &                &                 &                &                  &                &            &                  &                 &                 &  &  &  &  &  &  &  & \\\\\n\t butter            & light mayo        & fresh bread       &                &                 &                &                  &                &            &                  &                 &                 &  &  &  &  &  &  &  & \\\\\n\t burgers           & frozen vegetables & eggs              & french fries   & magazines       & green tea      &                  &                &            &                  &                 &                 &  &  &  &  &  &  &  & \\\\\n\t chicken           &                   &                   &                &                 &                &                  &                &            &                  &                 &                 &  &  &  &  &  &  &  & \\\\\n\t escalope          & green tea         &                   &                &                 &                &                  &                &            &                  &                 &                 &  &  &  &  &  &  &  & \\\\\n\t eggs              & frozen smoothie   & yogurt cake       & low fat yogurt &                 &                &                  &                &            &                  &                 &                 &  &  &  &  &  &  &  & \\\\\n\\end{tabular}\n",
            "text/markdown": "\nA data.frame: 7501 × 20\n\n| V1 &lt;chr&gt; | V2 &lt;chr&gt; | V3 &lt;chr&gt; | V4 &lt;chr&gt; | V5 &lt;chr&gt; | V6 &lt;chr&gt; | V7 &lt;chr&gt; | V8 &lt;chr&gt; | V9 &lt;chr&gt; | V10 &lt;chr&gt; | V11 &lt;chr&gt; | V12 &lt;chr&gt; | V13 &lt;chr&gt; | V14 &lt;chr&gt; | V15 &lt;chr&gt; | V16 &lt;chr&gt; | V17 &lt;chr&gt; | V18 &lt;chr&gt; | V19 &lt;chr&gt; | V20 &lt;chr&gt; |\n|---|---|---|---|---|---|---|---|---|---|---|---|---|---|---|---|---|---|---|---|\n| shrimp            | almonds         | avocado       | vegetables mix   | green grapes  | whole weat flour | yams           | cottage cheese  | energy drink | tomato juice         | low fat yogurt | green tea | honey | salad | mineral water | salmon | antioxydant juice | frozen smoothie | spinach | olive oil |\n| burgers           | meatballs       | eggs          | <!----> | <!----> | <!----> | <!----> | <!----> | <!----> | <!----> | <!----> | <!----> | <!----> | <!----> | <!----> | <!----> | <!----> | <!----> | <!----> | <!----> |\n| chutney           | <!----> | <!----> | <!----> | <!----> | <!----> | <!----> | <!----> | <!----> | <!----> | <!----> | <!----> | <!----> | <!----> | <!----> | <!----> | <!----> | <!----> | <!----> | <!----> |\n| turkey            | avocado         | <!----> | <!----> | <!----> | <!----> | <!----> | <!----> | <!----> | <!----> | <!----> | <!----> | <!----> | <!----> | <!----> | <!----> | <!----> | <!----> | <!----> | <!----> |\n| mineral water     | milk            | energy bar    | whole wheat rice | green tea     | <!----> | <!----> | <!----> | <!----> | <!----> | <!----> | <!----> | <!----> | <!----> | <!----> | <!----> | <!----> | <!----> | <!----> | <!----> |\n| low fat yogurt    | <!----> | <!----> | <!----> | <!----> | <!----> | <!----> | <!----> | <!----> | <!----> | <!----> | <!----> | <!----> | <!----> | <!----> | <!----> | <!----> | <!----> | <!----> | <!----> |\n| whole wheat pasta | french fries    | <!----> | <!----> | <!----> | <!----> | <!----> | <!----> | <!----> | <!----> | <!----> | <!----> | <!----> | <!----> | <!----> | <!----> | <!----> | <!----> | <!----> | <!----> |\n| soup              | light cream     | shallot       | <!----> | <!----> | <!----> | <!----> | <!----> | <!----> | <!----> | <!----> | <!----> | <!----> | <!----> | <!----> | <!----> | <!----> | <!----> | <!----> | <!----> |\n| frozen vegetables | spaghetti       | green tea     | <!----> | <!----> | <!----> | <!----> | <!----> | <!----> | <!----> | <!----> | <!----> | <!----> | <!----> | <!----> | <!----> | <!----> | <!----> | <!----> | <!----> |\n| french fries      | <!----> | <!----> | <!----> | <!----> | <!----> | <!----> | <!----> | <!----> | <!----> | <!----> | <!----> | <!----> | <!----> | <!----> | <!----> | <!----> | <!----> | <!----> | <!----> |\n| eggs              | pet food        | <!----> | <!----> | <!----> | <!----> | <!----> | <!----> | <!----> | <!----> | <!----> | <!----> | <!----> | <!----> | <!----> | <!----> | <!----> | <!----> | <!----> | <!----> |\n| cookies           | <!----> | <!----> | <!----> | <!----> | <!----> | <!----> | <!----> | <!----> | <!----> | <!----> | <!----> | <!----> | <!----> | <!----> | <!----> | <!----> | <!----> | <!----> | <!----> |\n| turkey            | burgers         | mineral water | eggs             | cooking oil   | <!----> | <!----> | <!----> | <!----> | <!----> | <!----> | <!----> | <!----> | <!----> | <!----> | <!----> | <!----> | <!----> | <!----> | <!----> |\n| spaghetti         | champagne       | cookies       | <!----> | <!----> | <!----> | <!----> | <!----> | <!----> | <!----> | <!----> | <!----> | <!----> | <!----> | <!----> | <!----> | <!----> | <!----> | <!----> | <!----> |\n| mineral water     | salmon          | <!----> | <!----> | <!----> | <!----> | <!----> | <!----> | <!----> | <!----> | <!----> | <!----> | <!----> | <!----> | <!----> | <!----> | <!----> | <!----> | <!----> | <!----> |\n| mineral water     | <!----> | <!----> | <!----> | <!----> | <!----> | <!----> | <!----> | <!----> | <!----> | <!----> | <!----> | <!----> | <!----> | <!----> | <!----> | <!----> | <!----> | <!----> | <!----> |\n| shrimp            | chocolate       | chicken       | honey            | oil           | cooking oil      | low fat yogurt | <!----> | <!----> | <!----> | <!----> | <!----> | <!----> | <!----> | <!----> | <!----> | <!----> | <!----> | <!----> | <!----> |\n| turkey            | eggs            | <!----> | <!----> | <!----> | <!----> | <!----> | <!----> | <!----> | <!----> | <!----> | <!----> | <!----> | <!----> | <!----> | <!----> | <!----> | <!----> | <!----> | <!----> |\n| turkey            | fresh tuna      | tomatoes      | spaghetti        | mineral water | black tea        | salmon         | eggs            | chicken      | extra dark chocolate | <!----> | <!----> | <!----> | <!----> | <!----> | <!----> | <!----> | <!----> | <!----> | <!----> |\n| meatballs         | milk            | honey         | french fries     | protein bar   | <!----> | <!----> | <!----> | <!----> | <!----> | <!----> | <!----> | <!----> | <!----> | <!----> | <!----> | <!----> | <!----> | <!----> | <!----> |\n| red wine          | shrimp          | pasta         | pepper           | eggs          | chocolate        | shampoo        | <!----> | <!----> | <!----> | <!----> | <!----> | <!----> | <!----> | <!----> | <!----> | <!----> | <!----> | <!----> | <!----> |\n| rice              | sparkling water | <!----> | <!----> | <!----> | <!----> | <!----> | <!----> | <!----> | <!----> | <!----> | <!----> | <!----> | <!----> | <!----> | <!----> | <!----> | <!----> | <!----> | <!----> |\n| spaghetti         | mineral water   | ham           | body spray       | pancakes      | green tea        | <!----> | <!----> | <!----> | <!----> | <!----> | <!----> | <!----> | <!----> | <!----> | <!----> | <!----> | <!----> | <!----> | <!----> |\n| burgers           | grated cheese   | shrimp        | pasta            | avocado       | honey            | white wine     | toothpaste      | <!----> | <!----> | <!----> | <!----> | <!----> | <!----> | <!----> | <!----> | <!----> | <!----> | <!----> | <!----> |\n| eggs              | <!----> | <!----> | <!----> | <!----> | <!----> | <!----> | <!----> | <!----> | <!----> | <!----> | <!----> | <!----> | <!----> | <!----> | <!----> | <!----> | <!----> | <!----> | <!----> |\n| parmesan cheese   | spaghetti       | soup          | avocado          | milk          | fresh bread      | <!----> | <!----> | <!----> | <!----> | <!----> | <!----> | <!----> | <!----> | <!----> | <!----> | <!----> | <!----> | <!----> | <!----> |\n| ground beef       | spaghetti       | mineral water | milk             | energy bar    | black tea        | salmon         | frozen smoothie | escalope     | <!----> | <!----> | <!----> | <!----> | <!----> | <!----> | <!----> | <!----> | <!----> | <!----> | <!----> |\n| sparkling water   | <!----> | <!----> | <!----> | <!----> | <!----> | <!----> | <!----> | <!----> | <!----> | <!----> | <!----> | <!----> | <!----> | <!----> | <!----> | <!----> | <!----> | <!----> | <!----> |\n| mineral water     | eggs            | chicken       | chocolate        | french fries  | <!----> | <!----> | <!----> | <!----> | <!----> | <!----> | <!----> | <!----> | <!----> | <!----> | <!----> | <!----> | <!----> | <!----> | <!----> |\n| frozen vegetables | spaghetti       | yams          | mineral water    | <!----> | <!----> | <!----> | <!----> | <!----> | <!----> | <!----> | <!----> | <!----> | <!----> | <!----> | <!----> | <!----> | <!----> | <!----> | <!----> |\n| ⋮ | ⋮ | ⋮ | ⋮ | ⋮ | ⋮ | ⋮ | ⋮ | ⋮ | ⋮ | ⋮ | ⋮ | ⋮ | ⋮ | ⋮ | ⋮ | ⋮ | ⋮ | ⋮ | ⋮ |\n| mineral water     | chocolate         | <!----> | <!----> | <!----> | <!----> | <!----> | <!----> | <!----> | <!----> | <!----> | <!----> | <!----> | <!----> | <!----> | <!----> | <!----> | <!----> | <!----> | <!----> |\n| chocolate         | grated cheese     | mineral water     | olive oil      | green tea       | <!----> | <!----> | <!----> | <!----> | <!----> | <!----> | <!----> | <!----> | <!----> | <!----> | <!----> | <!----> | <!----> | <!----> | <!----> |\n| whole wheat rice  | cake              | cottage cheese    | <!----> | <!----> | <!----> | <!----> | <!----> | <!----> | <!----> | <!----> | <!----> | <!----> | <!----> | <!----> | <!----> | <!----> | <!----> | <!----> | <!----> |\n| turkey            | shrimp            | pasta             | mineral water  | chocolate       | milk           | salmon           | vegetables mix | muffins    | eggs             | sparkling water | gluten free bar | <!----> | <!----> | <!----> | <!----> | <!----> | <!----> | <!----> | <!----> |\n| turkey            | mineral water     | cooking oil       | chocolate      | french fries    | protein bar    | <!----> | <!----> | <!----> | <!----> | <!----> | <!----> | <!----> | <!----> | <!----> | <!----> | <!----> | <!----> | <!----> | <!----> |\n| tomatoes          | tomato sauce      | spaghetti         | mineral water  | soup            | olive oil      | mashed potato    | fresh bread    | mayonnaise | green tea        | <!----> | <!----> | <!----> | <!----> | <!----> | <!----> | <!----> | <!----> | <!----> | <!----> |\n| tomato juice      | <!----> | <!----> | <!----> | <!----> | <!----> | <!----> | <!----> | <!----> | <!----> | <!----> | <!----> | <!----> | <!----> | <!----> | <!----> | <!----> | <!----> | <!----> | <!----> |\n| turkey            | ground beef       | mineral water     | chocolate      | soup            | pancakes       | whole wheat rice | light cream    | carrots    | mayonnaise       | <!----> | <!----> | <!----> | <!----> | <!----> | <!----> | <!----> | <!----> | <!----> | <!----> |\n| shrimp            | pasta             | mineral water     | olive oil      | pancakes        | bug spray      | low fat yogurt   | <!----> | <!----> | <!----> | <!----> | <!----> | <!----> | <!----> | <!----> | <!----> | <!----> | <!----> | <!----> | <!----> |\n| frozen vegetables | french wine       | pancakes          | french fries   | champagne       | strawberries   | <!----> | <!----> | <!----> | <!----> | <!----> | <!----> | <!----> | <!----> | <!----> | <!----> | <!----> | <!----> | <!----> | <!----> |\n| chocolate         | shrimp            | pasta             | spaghetti      | <!----> | <!----> | <!----> | <!----> | <!----> | <!----> | <!----> | <!----> | <!----> | <!----> | <!----> | <!----> | <!----> | <!----> | <!----> | <!----> |\n| chocolate         | <!----> | <!----> | <!----> | <!----> | <!----> | <!----> | <!----> | <!----> | <!----> | <!----> | <!----> | <!----> | <!----> | <!----> | <!----> | <!----> | <!----> | <!----> | <!----> |\n| fresh tuna        | parmesan cheese   | whole wheat pasta | french wine    | fromage blanc   | cottage cheese | brownies         | salad          | mint       | green tea        | <!----> | <!----> | <!----> | <!----> | <!----> | <!----> | <!----> | <!----> | <!----> | <!----> |\n| cookies           | energy drink      | <!----> | <!----> | <!----> | <!----> | <!----> | <!----> | <!----> | <!----> | <!----> | <!----> | <!----> | <!----> | <!----> | <!----> | <!----> | <!----> | <!----> | <!----> |\n| parmesan cheese   | champagne         | white wine        | <!----> | <!----> | <!----> | <!----> | <!----> | <!----> | <!----> | <!----> | <!----> | <!----> | <!----> | <!----> | <!----> | <!----> | <!----> | <!----> | <!----> |\n| red wine          | tomato sauce      | spaghetti         | chocolate      | olive oil       | french fries   | salt             | asparagus      | <!----> | <!----> | <!----> | <!----> | <!----> | <!----> | <!----> | <!----> | <!----> | <!----> | <!----> | <!----> |\n| soup              | milk              | <!----> | <!----> | <!----> | <!----> | <!----> | <!----> | <!----> | <!----> | <!----> | <!----> | <!----> | <!----> | <!----> | <!----> | <!----> | <!----> | <!----> | <!----> |\n| eggs              | whole wheat rice  | <!----> | <!----> | <!----> | <!----> | <!----> | <!----> | <!----> | <!----> | <!----> | <!----> | <!----> | <!----> | <!----> | <!----> | <!----> | <!----> | <!----> | <!----> |\n| brownies          | <!----> | <!----> | <!----> | <!----> | <!----> | <!----> | <!----> | <!----> | <!----> | <!----> | <!----> | <!----> | <!----> | <!----> | <!----> | <!----> | <!----> | <!----> | <!----> |\n| herb &amp; pepper     | spaghetti         | low fat yogurt    | <!----> | <!----> | <!----> | <!----> | <!----> | <!----> | <!----> | <!----> | <!----> | <!----> | <!----> | <!----> | <!----> | <!----> | <!----> | <!----> | <!----> |\n| herb &amp; pepper     | <!----> | <!----> | <!----> | <!----> | <!----> | <!----> | <!----> | <!----> | <!----> | <!----> | <!----> | <!----> | <!----> | <!----> | <!----> | <!----> | <!----> | <!----> | <!----> |\n| chocolate         | escalope          | <!----> | <!----> | <!----> | <!----> | <!----> | <!----> | <!----> | <!----> | <!----> | <!----> | <!----> | <!----> | <!----> | <!----> | <!----> | <!----> | <!----> | <!----> |\n| burgers           | salmon            | pancakes          | french fries   | frozen smoothie | fresh bread    | mint             | <!----> | <!----> | <!----> | <!----> | <!----> | <!----> | <!----> | <!----> | <!----> | <!----> | <!----> | <!----> | <!----> |\n| turkey            | burgers           | dessert wine      | shrimp         | pasta           | tomatoes       | pepper           | milk           | pancakes   | whole wheat rice | oil             | frozen smoothie | <!----> | <!----> | <!----> | <!----> | <!----> | <!----> | <!----> | <!----> |\n| pancakes          | light mayo        | <!----> | <!----> | <!----> | <!----> | <!----> | <!----> | <!----> | <!----> | <!----> | <!----> | <!----> | <!----> | <!----> | <!----> | <!----> | <!----> | <!----> | <!----> |\n| butter            | light mayo        | fresh bread       | <!----> | <!----> | <!----> | <!----> | <!----> | <!----> | <!----> | <!----> | <!----> | <!----> | <!----> | <!----> | <!----> | <!----> | <!----> | <!----> | <!----> |\n| burgers           | frozen vegetables | eggs              | french fries   | magazines       | green tea      | <!----> | <!----> | <!----> | <!----> | <!----> | <!----> | <!----> | <!----> | <!----> | <!----> | <!----> | <!----> | <!----> | <!----> |\n| chicken           | <!----> | <!----> | <!----> | <!----> | <!----> | <!----> | <!----> | <!----> | <!----> | <!----> | <!----> | <!----> | <!----> | <!----> | <!----> | <!----> | <!----> | <!----> | <!----> |\n| escalope          | green tea         | <!----> | <!----> | <!----> | <!----> | <!----> | <!----> | <!----> | <!----> | <!----> | <!----> | <!----> | <!----> | <!----> | <!----> | <!----> | <!----> | <!----> | <!----> |\n| eggs              | frozen smoothie   | yogurt cake       | low fat yogurt | <!----> | <!----> | <!----> | <!----> | <!----> | <!----> | <!----> | <!----> | <!----> | <!----> | <!----> | <!----> | <!----> | <!----> | <!----> | <!----> |\n\n",
            "text/html": [
              "<table class=\"dataframe\">\n",
              "<caption>A data.frame: 7501 × 20</caption>\n",
              "<thead>\n",
              "\t<tr><th scope=col>V1</th><th scope=col>V2</th><th scope=col>V3</th><th scope=col>V4</th><th scope=col>V5</th><th scope=col>V6</th><th scope=col>V7</th><th scope=col>V8</th><th scope=col>V9</th><th scope=col>V10</th><th scope=col>V11</th><th scope=col>V12</th><th scope=col>V13</th><th scope=col>V14</th><th scope=col>V15</th><th scope=col>V16</th><th scope=col>V17</th><th scope=col>V18</th><th scope=col>V19</th><th scope=col>V20</th></tr>\n",
              "\t<tr><th scope=col>&lt;chr&gt;</th><th scope=col>&lt;chr&gt;</th><th scope=col>&lt;chr&gt;</th><th scope=col>&lt;chr&gt;</th><th scope=col>&lt;chr&gt;</th><th scope=col>&lt;chr&gt;</th><th scope=col>&lt;chr&gt;</th><th scope=col>&lt;chr&gt;</th><th scope=col>&lt;chr&gt;</th><th scope=col>&lt;chr&gt;</th><th scope=col>&lt;chr&gt;</th><th scope=col>&lt;chr&gt;</th><th scope=col>&lt;chr&gt;</th><th scope=col>&lt;chr&gt;</th><th scope=col>&lt;chr&gt;</th><th scope=col>&lt;chr&gt;</th><th scope=col>&lt;chr&gt;</th><th scope=col>&lt;chr&gt;</th><th scope=col>&lt;chr&gt;</th><th scope=col>&lt;chr&gt;</th></tr>\n",
              "</thead>\n",
              "<tbody>\n",
              "\t<tr><td>shrimp           </td><td>almonds        </td><td>avocado      </td><td>vegetables mix  </td><td>green grapes </td><td>whole weat flour</td><td>yams          </td><td>cottage cheese </td><td>energy drink</td><td>tomato juice        </td><td>low fat yogurt</td><td>green tea</td><td>honey</td><td>salad</td><td>mineral water</td><td>salmon</td><td>antioxydant juice</td><td>frozen smoothie</td><td>spinach</td><td>olive oil</td></tr>\n",
              "\t<tr><td>burgers          </td><td>meatballs      </td><td>eggs         </td><td>                </td><td>             </td><td>                </td><td>              </td><td>               </td><td>            </td><td>                    </td><td>              </td><td>         </td><td>     </td><td>     </td><td>             </td><td>      </td><td>                 </td><td>               </td><td>       </td><td>         </td></tr>\n",
              "\t<tr><td>chutney          </td><td>               </td><td>             </td><td>                </td><td>             </td><td>                </td><td>              </td><td>               </td><td>            </td><td>                    </td><td>              </td><td>         </td><td>     </td><td>     </td><td>             </td><td>      </td><td>                 </td><td>               </td><td>       </td><td>         </td></tr>\n",
              "\t<tr><td>turkey           </td><td>avocado        </td><td>             </td><td>                </td><td>             </td><td>                </td><td>              </td><td>               </td><td>            </td><td>                    </td><td>              </td><td>         </td><td>     </td><td>     </td><td>             </td><td>      </td><td>                 </td><td>               </td><td>       </td><td>         </td></tr>\n",
              "\t<tr><td>mineral water    </td><td>milk           </td><td>energy bar   </td><td>whole wheat rice</td><td>green tea    </td><td>                </td><td>              </td><td>               </td><td>            </td><td>                    </td><td>              </td><td>         </td><td>     </td><td>     </td><td>             </td><td>      </td><td>                 </td><td>               </td><td>       </td><td>         </td></tr>\n",
              "\t<tr><td>low fat yogurt   </td><td>               </td><td>             </td><td>                </td><td>             </td><td>                </td><td>              </td><td>               </td><td>            </td><td>                    </td><td>              </td><td>         </td><td>     </td><td>     </td><td>             </td><td>      </td><td>                 </td><td>               </td><td>       </td><td>         </td></tr>\n",
              "\t<tr><td>whole wheat pasta</td><td>french fries   </td><td>             </td><td>                </td><td>             </td><td>                </td><td>              </td><td>               </td><td>            </td><td>                    </td><td>              </td><td>         </td><td>     </td><td>     </td><td>             </td><td>      </td><td>                 </td><td>               </td><td>       </td><td>         </td></tr>\n",
              "\t<tr><td>soup             </td><td>light cream    </td><td>shallot      </td><td>                </td><td>             </td><td>                </td><td>              </td><td>               </td><td>            </td><td>                    </td><td>              </td><td>         </td><td>     </td><td>     </td><td>             </td><td>      </td><td>                 </td><td>               </td><td>       </td><td>         </td></tr>\n",
              "\t<tr><td>frozen vegetables</td><td>spaghetti      </td><td>green tea    </td><td>                </td><td>             </td><td>                </td><td>              </td><td>               </td><td>            </td><td>                    </td><td>              </td><td>         </td><td>     </td><td>     </td><td>             </td><td>      </td><td>                 </td><td>               </td><td>       </td><td>         </td></tr>\n",
              "\t<tr><td>french fries     </td><td>               </td><td>             </td><td>                </td><td>             </td><td>                </td><td>              </td><td>               </td><td>            </td><td>                    </td><td>              </td><td>         </td><td>     </td><td>     </td><td>             </td><td>      </td><td>                 </td><td>               </td><td>       </td><td>         </td></tr>\n",
              "\t<tr><td>eggs             </td><td>pet food       </td><td>             </td><td>                </td><td>             </td><td>                </td><td>              </td><td>               </td><td>            </td><td>                    </td><td>              </td><td>         </td><td>     </td><td>     </td><td>             </td><td>      </td><td>                 </td><td>               </td><td>       </td><td>         </td></tr>\n",
              "\t<tr><td>cookies          </td><td>               </td><td>             </td><td>                </td><td>             </td><td>                </td><td>              </td><td>               </td><td>            </td><td>                    </td><td>              </td><td>         </td><td>     </td><td>     </td><td>             </td><td>      </td><td>                 </td><td>               </td><td>       </td><td>         </td></tr>\n",
              "\t<tr><td>turkey           </td><td>burgers        </td><td>mineral water</td><td>eggs            </td><td>cooking oil  </td><td>                </td><td>              </td><td>               </td><td>            </td><td>                    </td><td>              </td><td>         </td><td>     </td><td>     </td><td>             </td><td>      </td><td>                 </td><td>               </td><td>       </td><td>         </td></tr>\n",
              "\t<tr><td>spaghetti        </td><td>champagne      </td><td>cookies      </td><td>                </td><td>             </td><td>                </td><td>              </td><td>               </td><td>            </td><td>                    </td><td>              </td><td>         </td><td>     </td><td>     </td><td>             </td><td>      </td><td>                 </td><td>               </td><td>       </td><td>         </td></tr>\n",
              "\t<tr><td>mineral water    </td><td>salmon         </td><td>             </td><td>                </td><td>             </td><td>                </td><td>              </td><td>               </td><td>            </td><td>                    </td><td>              </td><td>         </td><td>     </td><td>     </td><td>             </td><td>      </td><td>                 </td><td>               </td><td>       </td><td>         </td></tr>\n",
              "\t<tr><td>mineral water    </td><td>               </td><td>             </td><td>                </td><td>             </td><td>                </td><td>              </td><td>               </td><td>            </td><td>                    </td><td>              </td><td>         </td><td>     </td><td>     </td><td>             </td><td>      </td><td>                 </td><td>               </td><td>       </td><td>         </td></tr>\n",
              "\t<tr><td>shrimp           </td><td>chocolate      </td><td>chicken      </td><td>honey           </td><td>oil          </td><td>cooking oil     </td><td>low fat yogurt</td><td>               </td><td>            </td><td>                    </td><td>              </td><td>         </td><td>     </td><td>     </td><td>             </td><td>      </td><td>                 </td><td>               </td><td>       </td><td>         </td></tr>\n",
              "\t<tr><td>turkey           </td><td>eggs           </td><td>             </td><td>                </td><td>             </td><td>                </td><td>              </td><td>               </td><td>            </td><td>                    </td><td>              </td><td>         </td><td>     </td><td>     </td><td>             </td><td>      </td><td>                 </td><td>               </td><td>       </td><td>         </td></tr>\n",
              "\t<tr><td>turkey           </td><td>fresh tuna     </td><td>tomatoes     </td><td>spaghetti       </td><td>mineral water</td><td>black tea       </td><td>salmon        </td><td>eggs           </td><td>chicken     </td><td>extra dark chocolate</td><td>              </td><td>         </td><td>     </td><td>     </td><td>             </td><td>      </td><td>                 </td><td>               </td><td>       </td><td>         </td></tr>\n",
              "\t<tr><td>meatballs        </td><td>milk           </td><td>honey        </td><td>french fries    </td><td>protein bar  </td><td>                </td><td>              </td><td>               </td><td>            </td><td>                    </td><td>              </td><td>         </td><td>     </td><td>     </td><td>             </td><td>      </td><td>                 </td><td>               </td><td>       </td><td>         </td></tr>\n",
              "\t<tr><td>red wine         </td><td>shrimp         </td><td>pasta        </td><td>pepper          </td><td>eggs         </td><td>chocolate       </td><td>shampoo       </td><td>               </td><td>            </td><td>                    </td><td>              </td><td>         </td><td>     </td><td>     </td><td>             </td><td>      </td><td>                 </td><td>               </td><td>       </td><td>         </td></tr>\n",
              "\t<tr><td>rice             </td><td>sparkling water</td><td>             </td><td>                </td><td>             </td><td>                </td><td>              </td><td>               </td><td>            </td><td>                    </td><td>              </td><td>         </td><td>     </td><td>     </td><td>             </td><td>      </td><td>                 </td><td>               </td><td>       </td><td>         </td></tr>\n",
              "\t<tr><td>spaghetti        </td><td>mineral water  </td><td>ham          </td><td>body spray      </td><td>pancakes     </td><td>green tea       </td><td>              </td><td>               </td><td>            </td><td>                    </td><td>              </td><td>         </td><td>     </td><td>     </td><td>             </td><td>      </td><td>                 </td><td>               </td><td>       </td><td>         </td></tr>\n",
              "\t<tr><td>burgers          </td><td>grated cheese  </td><td>shrimp       </td><td>pasta           </td><td>avocado      </td><td>honey           </td><td>white wine    </td><td>toothpaste     </td><td>            </td><td>                    </td><td>              </td><td>         </td><td>     </td><td>     </td><td>             </td><td>      </td><td>                 </td><td>               </td><td>       </td><td>         </td></tr>\n",
              "\t<tr><td>eggs             </td><td>               </td><td>             </td><td>                </td><td>             </td><td>                </td><td>              </td><td>               </td><td>            </td><td>                    </td><td>              </td><td>         </td><td>     </td><td>     </td><td>             </td><td>      </td><td>                 </td><td>               </td><td>       </td><td>         </td></tr>\n",
              "\t<tr><td>parmesan cheese  </td><td>spaghetti      </td><td>soup         </td><td>avocado         </td><td>milk         </td><td>fresh bread     </td><td>              </td><td>               </td><td>            </td><td>                    </td><td>              </td><td>         </td><td>     </td><td>     </td><td>             </td><td>      </td><td>                 </td><td>               </td><td>       </td><td>         </td></tr>\n",
              "\t<tr><td>ground beef      </td><td>spaghetti      </td><td>mineral water</td><td>milk            </td><td>energy bar   </td><td>black tea       </td><td>salmon        </td><td>frozen smoothie</td><td>escalope    </td><td>                    </td><td>              </td><td>         </td><td>     </td><td>     </td><td>             </td><td>      </td><td>                 </td><td>               </td><td>       </td><td>         </td></tr>\n",
              "\t<tr><td>sparkling water  </td><td>               </td><td>             </td><td>                </td><td>             </td><td>                </td><td>              </td><td>               </td><td>            </td><td>                    </td><td>              </td><td>         </td><td>     </td><td>     </td><td>             </td><td>      </td><td>                 </td><td>               </td><td>       </td><td>         </td></tr>\n",
              "\t<tr><td>mineral water    </td><td>eggs           </td><td>chicken      </td><td>chocolate       </td><td>french fries </td><td>                </td><td>              </td><td>               </td><td>            </td><td>                    </td><td>              </td><td>         </td><td>     </td><td>     </td><td>             </td><td>      </td><td>                 </td><td>               </td><td>       </td><td>         </td></tr>\n",
              "\t<tr><td>frozen vegetables</td><td>spaghetti      </td><td>yams         </td><td>mineral water   </td><td>             </td><td>                </td><td>              </td><td>               </td><td>            </td><td>                    </td><td>              </td><td>         </td><td>     </td><td>     </td><td>             </td><td>      </td><td>                 </td><td>               </td><td>       </td><td>         </td></tr>\n",
              "\t<tr><td>⋮</td><td>⋮</td><td>⋮</td><td>⋮</td><td>⋮</td><td>⋮</td><td>⋮</td><td>⋮</td><td>⋮</td><td>⋮</td><td>⋮</td><td>⋮</td><td>⋮</td><td>⋮</td><td>⋮</td><td>⋮</td><td>⋮</td><td>⋮</td><td>⋮</td><td>⋮</td></tr>\n",
              "\t<tr><td>mineral water    </td><td>chocolate        </td><td>                 </td><td>              </td><td>               </td><td>              </td><td>                </td><td>              </td><td>          </td><td>                </td><td>               </td><td>               </td><td></td><td></td><td></td><td></td><td></td><td></td><td></td><td></td></tr>\n",
              "\t<tr><td>chocolate        </td><td>grated cheese    </td><td>mineral water    </td><td>olive oil     </td><td>green tea      </td><td>              </td><td>                </td><td>              </td><td>          </td><td>                </td><td>               </td><td>               </td><td></td><td></td><td></td><td></td><td></td><td></td><td></td><td></td></tr>\n",
              "\t<tr><td>whole wheat rice </td><td>cake             </td><td>cottage cheese   </td><td>              </td><td>               </td><td>              </td><td>                </td><td>              </td><td>          </td><td>                </td><td>               </td><td>               </td><td></td><td></td><td></td><td></td><td></td><td></td><td></td><td></td></tr>\n",
              "\t<tr><td>turkey           </td><td>shrimp           </td><td>pasta            </td><td>mineral water </td><td>chocolate      </td><td>milk          </td><td>salmon          </td><td>vegetables mix</td><td>muffins   </td><td>eggs            </td><td>sparkling water</td><td>gluten free bar</td><td></td><td></td><td></td><td></td><td></td><td></td><td></td><td></td></tr>\n",
              "\t<tr><td>turkey           </td><td>mineral water    </td><td>cooking oil      </td><td>chocolate     </td><td>french fries   </td><td>protein bar   </td><td>                </td><td>              </td><td>          </td><td>                </td><td>               </td><td>               </td><td></td><td></td><td></td><td></td><td></td><td></td><td></td><td></td></tr>\n",
              "\t<tr><td>tomatoes         </td><td>tomato sauce     </td><td>spaghetti        </td><td>mineral water </td><td>soup           </td><td>olive oil     </td><td>mashed potato   </td><td>fresh bread   </td><td>mayonnaise</td><td>green tea       </td><td>               </td><td>               </td><td></td><td></td><td></td><td></td><td></td><td></td><td></td><td></td></tr>\n",
              "\t<tr><td>tomato juice     </td><td>                 </td><td>                 </td><td>              </td><td>               </td><td>              </td><td>                </td><td>              </td><td>          </td><td>                </td><td>               </td><td>               </td><td></td><td></td><td></td><td></td><td></td><td></td><td></td><td></td></tr>\n",
              "\t<tr><td>turkey           </td><td>ground beef      </td><td>mineral water    </td><td>chocolate     </td><td>soup           </td><td>pancakes      </td><td>whole wheat rice</td><td>light cream   </td><td>carrots   </td><td>mayonnaise      </td><td>               </td><td>               </td><td></td><td></td><td></td><td></td><td></td><td></td><td></td><td></td></tr>\n",
              "\t<tr><td>shrimp           </td><td>pasta            </td><td>mineral water    </td><td>olive oil     </td><td>pancakes       </td><td>bug spray     </td><td>low fat yogurt  </td><td>              </td><td>          </td><td>                </td><td>               </td><td>               </td><td></td><td></td><td></td><td></td><td></td><td></td><td></td><td></td></tr>\n",
              "\t<tr><td>frozen vegetables</td><td>french wine      </td><td>pancakes         </td><td>french fries  </td><td>champagne      </td><td>strawberries  </td><td>                </td><td>              </td><td>          </td><td>                </td><td>               </td><td>               </td><td></td><td></td><td></td><td></td><td></td><td></td><td></td><td></td></tr>\n",
              "\t<tr><td>chocolate        </td><td>shrimp           </td><td>pasta            </td><td>spaghetti     </td><td>               </td><td>              </td><td>                </td><td>              </td><td>          </td><td>                </td><td>               </td><td>               </td><td></td><td></td><td></td><td></td><td></td><td></td><td></td><td></td></tr>\n",
              "\t<tr><td>chocolate        </td><td>                 </td><td>                 </td><td>              </td><td>               </td><td>              </td><td>                </td><td>              </td><td>          </td><td>                </td><td>               </td><td>               </td><td></td><td></td><td></td><td></td><td></td><td></td><td></td><td></td></tr>\n",
              "\t<tr><td>fresh tuna       </td><td>parmesan cheese  </td><td>whole wheat pasta</td><td>french wine   </td><td>fromage blanc  </td><td>cottage cheese</td><td>brownies        </td><td>salad         </td><td>mint      </td><td>green tea       </td><td>               </td><td>               </td><td></td><td></td><td></td><td></td><td></td><td></td><td></td><td></td></tr>\n",
              "\t<tr><td>cookies          </td><td>energy drink     </td><td>                 </td><td>              </td><td>               </td><td>              </td><td>                </td><td>              </td><td>          </td><td>                </td><td>               </td><td>               </td><td></td><td></td><td></td><td></td><td></td><td></td><td></td><td></td></tr>\n",
              "\t<tr><td>parmesan cheese  </td><td>champagne        </td><td>white wine       </td><td>              </td><td>               </td><td>              </td><td>                </td><td>              </td><td>          </td><td>                </td><td>               </td><td>               </td><td></td><td></td><td></td><td></td><td></td><td></td><td></td><td></td></tr>\n",
              "\t<tr><td>red wine         </td><td>tomato sauce     </td><td>spaghetti        </td><td>chocolate     </td><td>olive oil      </td><td>french fries  </td><td>salt            </td><td>asparagus     </td><td>          </td><td>                </td><td>               </td><td>               </td><td></td><td></td><td></td><td></td><td></td><td></td><td></td><td></td></tr>\n",
              "\t<tr><td>soup             </td><td>milk             </td><td>                 </td><td>              </td><td>               </td><td>              </td><td>                </td><td>              </td><td>          </td><td>                </td><td>               </td><td>               </td><td></td><td></td><td></td><td></td><td></td><td></td><td></td><td></td></tr>\n",
              "\t<tr><td>eggs             </td><td>whole wheat rice </td><td>                 </td><td>              </td><td>               </td><td>              </td><td>                </td><td>              </td><td>          </td><td>                </td><td>               </td><td>               </td><td></td><td></td><td></td><td></td><td></td><td></td><td></td><td></td></tr>\n",
              "\t<tr><td>brownies         </td><td>                 </td><td>                 </td><td>              </td><td>               </td><td>              </td><td>                </td><td>              </td><td>          </td><td>                </td><td>               </td><td>               </td><td></td><td></td><td></td><td></td><td></td><td></td><td></td><td></td></tr>\n",
              "\t<tr><td><span style=white-space:pre-wrap>herb &amp; pepper    </span></td><td><span style=white-space:pre-wrap>spaghetti        </span></td><td><span style=white-space:pre-wrap>low fat yogurt   </span></td><td><span style=white-space:pre-wrap>              </span></td><td><span style=white-space:pre-wrap>               </span></td><td><span style=white-space:pre-wrap>              </span></td><td><span style=white-space:pre-wrap>                </span></td><td><span style=white-space:pre-wrap>              </span></td><td><span style=white-space:pre-wrap>          </span></td><td><span style=white-space:pre-wrap>                </span></td><td><span style=white-space:pre-wrap>               </span></td><td><span style=white-space:pre-wrap>               </span></td><td></td><td></td><td></td><td></td><td></td><td></td><td></td><td></td></tr>\n",
              "\t<tr><td><span style=white-space:pre-wrap>herb &amp; pepper    </span></td><td><span style=white-space:pre-wrap>                 </span></td><td><span style=white-space:pre-wrap>                 </span></td><td><span style=white-space:pre-wrap>              </span></td><td><span style=white-space:pre-wrap>               </span></td><td><span style=white-space:pre-wrap>              </span></td><td><span style=white-space:pre-wrap>                </span></td><td><span style=white-space:pre-wrap>              </span></td><td><span style=white-space:pre-wrap>          </span></td><td><span style=white-space:pre-wrap>                </span></td><td><span style=white-space:pre-wrap>               </span></td><td><span style=white-space:pre-wrap>               </span></td><td></td><td></td><td></td><td></td><td></td><td></td><td></td><td></td></tr>\n",
              "\t<tr><td>chocolate        </td><td>escalope         </td><td>                 </td><td>              </td><td>               </td><td>              </td><td>                </td><td>              </td><td>          </td><td>                </td><td>               </td><td>               </td><td></td><td></td><td></td><td></td><td></td><td></td><td></td><td></td></tr>\n",
              "\t<tr><td>burgers          </td><td>salmon           </td><td>pancakes         </td><td>french fries  </td><td>frozen smoothie</td><td>fresh bread   </td><td>mint            </td><td>              </td><td>          </td><td>                </td><td>               </td><td>               </td><td></td><td></td><td></td><td></td><td></td><td></td><td></td><td></td></tr>\n",
              "\t<tr><td>turkey           </td><td>burgers          </td><td>dessert wine     </td><td>shrimp        </td><td>pasta          </td><td>tomatoes      </td><td>pepper          </td><td>milk          </td><td>pancakes  </td><td>whole wheat rice</td><td>oil            </td><td>frozen smoothie</td><td></td><td></td><td></td><td></td><td></td><td></td><td></td><td></td></tr>\n",
              "\t<tr><td>pancakes         </td><td>light mayo       </td><td>                 </td><td>              </td><td>               </td><td>              </td><td>                </td><td>              </td><td>          </td><td>                </td><td>               </td><td>               </td><td></td><td></td><td></td><td></td><td></td><td></td><td></td><td></td></tr>\n",
              "\t<tr><td>butter           </td><td>light mayo       </td><td>fresh bread      </td><td>              </td><td>               </td><td>              </td><td>                </td><td>              </td><td>          </td><td>                </td><td>               </td><td>               </td><td></td><td></td><td></td><td></td><td></td><td></td><td></td><td></td></tr>\n",
              "\t<tr><td>burgers          </td><td>frozen vegetables</td><td>eggs             </td><td>french fries  </td><td>magazines      </td><td>green tea     </td><td>                </td><td>              </td><td>          </td><td>                </td><td>               </td><td>               </td><td></td><td></td><td></td><td></td><td></td><td></td><td></td><td></td></tr>\n",
              "\t<tr><td>chicken          </td><td>                 </td><td>                 </td><td>              </td><td>               </td><td>              </td><td>                </td><td>              </td><td>          </td><td>                </td><td>               </td><td>               </td><td></td><td></td><td></td><td></td><td></td><td></td><td></td><td></td></tr>\n",
              "\t<tr><td>escalope         </td><td>green tea        </td><td>                 </td><td>              </td><td>               </td><td>              </td><td>                </td><td>              </td><td>          </td><td>                </td><td>               </td><td>               </td><td></td><td></td><td></td><td></td><td></td><td></td><td></td><td></td></tr>\n",
              "\t<tr><td>eggs             </td><td>frozen smoothie  </td><td>yogurt cake      </td><td>low fat yogurt</td><td>               </td><td>              </td><td>                </td><td>              </td><td>          </td><td>                </td><td>               </td><td>               </td><td></td><td></td><td></td><td></td><td></td><td></td><td></td><td></td></tr>\n",
              "</tbody>\n",
              "</table>\n"
            ]
          },
          "metadata": {}
        }
      ]
    },
    {
      "cell_type": "code",
      "metadata": {
        "colab": {
          "base_uri": "https://localhost:8080/",
          "height": 1000
        },
        "id": "DNOlaLg7kL6A",
        "outputId": "6b8fc4d3-f700-4c51-b939-d184675b7628"
      },
      "source": [
        "df3"
      ],
      "execution_count": 4,
      "outputs": [
        {
          "output_type": "display_data",
          "data": {
            "text/plain": [
              "     Date      Sales    \n",
              "1    1/5/2019  548.9715 \n",
              "2    3/8/2019   80.2200 \n",
              "3    3/3/2019  340.5255 \n",
              "4    1/27/2019 489.0480 \n",
              "5    2/8/2019  634.3785 \n",
              "6    3/25/2019 627.6165 \n",
              "7    2/25/2019 433.6920 \n",
              "8    2/24/2019 772.3800 \n",
              "9    1/10/2019  76.1460 \n",
              "10   2/20/2019 172.7460 \n",
              "11   2/6/2019   60.8160 \n",
              "12   3/9/2019  107.1420 \n",
              "13   2/12/2019 246.4875 \n",
              "14   2/7/2019  453.4950 \n",
              "15   3/29/2019 749.4900 \n",
              "16   1/15/2019 590.4360 \n",
              "17   3/11/2019 506.6355 \n",
              "18   1/1/2019  457.4430 \n",
              "19   1/21/2019 172.2105 \n",
              "20   3/11/2019  84.6300 \n",
              "21   2/25/2019 451.7100 \n",
              "22   3/5/2019  277.1370 \n",
              "23   3/15/2019  69.7200 \n",
              "24   2/17/2019 181.4400 \n",
              "25   3/2/2019  279.1845 \n",
              "26   3/22/2019 441.7560 \n",
              "27   2/8/2019   35.1960 \n",
              "28   3/10/2019 184.1070 \n",
              "29   1/25/2019 463.8900 \n",
              "30   3/15/2019 235.2105 \n",
              "⋮    ⋮         ⋮        \n",
              "971  1/1/2019   888.6150\n",
              "972  2/10/2019  271.2885\n",
              "973  1/26/2019  640.0380\n",
              "974  2/11/2019  252.2520\n",
              "975  2/7/2019   180.8730\n",
              "976  3/6/2019   104.8320\n",
              "977  3/4/2019   313.5720\n",
              "978  2/26/2019  167.5800\n",
              "979  3/10/2019   26.7225\n",
              "980  2/4/2019    71.1585\n",
              "981  1/19/2019  250.2780\n",
              "982  1/23/2019  244.2300\n",
              "983  3/14/2019  921.1860\n",
              "984  1/23/2019  734.7060\n",
              "985  1/9/2019   708.3195\n",
              "986  2/7/2019   334.4775\n",
              "987  2/18/2019   30.9960\n",
              "988  1/3/2019   520.8000\n",
              "989  3/29/2019  864.5700\n",
              "990  1/28/2019  633.1080\n",
              "991  3/22/2019  296.9400\n",
              "992  1/24/2019  804.3000\n",
              "993  3/10/2019  121.8630\n",
              "994  2/22/2019  183.6450\n",
              "995  2/18/2019   63.9975\n",
              "996  1/29/2019   42.3675\n",
              "997  3/2/2019  1022.4900\n",
              "998  2/9/2019    33.4320\n",
              "999  2/22/2019   69.1110\n",
              "1000 2/18/2019  649.2990"
            ],
            "text/latex": "A data.frame: 1000 × 2\n\\begin{tabular}{ll}\n Date & Sales\\\\\n <chr> & <dbl>\\\\\n\\hline\n\t 1/5/2019  & 548.9715\\\\\n\t 3/8/2019  &  80.2200\\\\\n\t 3/3/2019  & 340.5255\\\\\n\t 1/27/2019 & 489.0480\\\\\n\t 2/8/2019  & 634.3785\\\\\n\t 3/25/2019 & 627.6165\\\\\n\t 2/25/2019 & 433.6920\\\\\n\t 2/24/2019 & 772.3800\\\\\n\t 1/10/2019 &  76.1460\\\\\n\t 2/20/2019 & 172.7460\\\\\n\t 2/6/2019  &  60.8160\\\\\n\t 3/9/2019  & 107.1420\\\\\n\t 2/12/2019 & 246.4875\\\\\n\t 2/7/2019  & 453.4950\\\\\n\t 3/29/2019 & 749.4900\\\\\n\t 1/15/2019 & 590.4360\\\\\n\t 3/11/2019 & 506.6355\\\\\n\t 1/1/2019  & 457.4430\\\\\n\t 1/21/2019 & 172.2105\\\\\n\t 3/11/2019 &  84.6300\\\\\n\t 2/25/2019 & 451.7100\\\\\n\t 3/5/2019  & 277.1370\\\\\n\t 3/15/2019 &  69.7200\\\\\n\t 2/17/2019 & 181.4400\\\\\n\t 3/2/2019  & 279.1845\\\\\n\t 3/22/2019 & 441.7560\\\\\n\t 2/8/2019  &  35.1960\\\\\n\t 3/10/2019 & 184.1070\\\\\n\t 1/25/2019 & 463.8900\\\\\n\t 3/15/2019 & 235.2105\\\\\n\t ⋮ & ⋮\\\\\n\t 1/1/2019  &  888.6150\\\\\n\t 2/10/2019 &  271.2885\\\\\n\t 1/26/2019 &  640.0380\\\\\n\t 2/11/2019 &  252.2520\\\\\n\t 2/7/2019  &  180.8730\\\\\n\t 3/6/2019  &  104.8320\\\\\n\t 3/4/2019  &  313.5720\\\\\n\t 2/26/2019 &  167.5800\\\\\n\t 3/10/2019 &   26.7225\\\\\n\t 2/4/2019  &   71.1585\\\\\n\t 1/19/2019 &  250.2780\\\\\n\t 1/23/2019 &  244.2300\\\\\n\t 3/14/2019 &  921.1860\\\\\n\t 1/23/2019 &  734.7060\\\\\n\t 1/9/2019  &  708.3195\\\\\n\t 2/7/2019  &  334.4775\\\\\n\t 2/18/2019 &   30.9960\\\\\n\t 1/3/2019  &  520.8000\\\\\n\t 3/29/2019 &  864.5700\\\\\n\t 1/28/2019 &  633.1080\\\\\n\t 3/22/2019 &  296.9400\\\\\n\t 1/24/2019 &  804.3000\\\\\n\t 3/10/2019 &  121.8630\\\\\n\t 2/22/2019 &  183.6450\\\\\n\t 2/18/2019 &   63.9975\\\\\n\t 1/29/2019 &   42.3675\\\\\n\t 3/2/2019  & 1022.4900\\\\\n\t 2/9/2019  &   33.4320\\\\\n\t 2/22/2019 &   69.1110\\\\\n\t 2/18/2019 &  649.2990\\\\\n\\end{tabular}\n",
            "text/markdown": "\nA data.frame: 1000 × 2\n\n| Date &lt;chr&gt; | Sales &lt;dbl&gt; |\n|---|---|\n| 1/5/2019  | 548.9715 |\n| 3/8/2019  |  80.2200 |\n| 3/3/2019  | 340.5255 |\n| 1/27/2019 | 489.0480 |\n| 2/8/2019  | 634.3785 |\n| 3/25/2019 | 627.6165 |\n| 2/25/2019 | 433.6920 |\n| 2/24/2019 | 772.3800 |\n| 1/10/2019 |  76.1460 |\n| 2/20/2019 | 172.7460 |\n| 2/6/2019  |  60.8160 |\n| 3/9/2019  | 107.1420 |\n| 2/12/2019 | 246.4875 |\n| 2/7/2019  | 453.4950 |\n| 3/29/2019 | 749.4900 |\n| 1/15/2019 | 590.4360 |\n| 3/11/2019 | 506.6355 |\n| 1/1/2019  | 457.4430 |\n| 1/21/2019 | 172.2105 |\n| 3/11/2019 |  84.6300 |\n| 2/25/2019 | 451.7100 |\n| 3/5/2019  | 277.1370 |\n| 3/15/2019 |  69.7200 |\n| 2/17/2019 | 181.4400 |\n| 3/2/2019  | 279.1845 |\n| 3/22/2019 | 441.7560 |\n| 2/8/2019  |  35.1960 |\n| 3/10/2019 | 184.1070 |\n| 1/25/2019 | 463.8900 |\n| 3/15/2019 | 235.2105 |\n| ⋮ | ⋮ |\n| 1/1/2019  |  888.6150 |\n| 2/10/2019 |  271.2885 |\n| 1/26/2019 |  640.0380 |\n| 2/11/2019 |  252.2520 |\n| 2/7/2019  |  180.8730 |\n| 3/6/2019  |  104.8320 |\n| 3/4/2019  |  313.5720 |\n| 2/26/2019 |  167.5800 |\n| 3/10/2019 |   26.7225 |\n| 2/4/2019  |   71.1585 |\n| 1/19/2019 |  250.2780 |\n| 1/23/2019 |  244.2300 |\n| 3/14/2019 |  921.1860 |\n| 1/23/2019 |  734.7060 |\n| 1/9/2019  |  708.3195 |\n| 2/7/2019  |  334.4775 |\n| 2/18/2019 |   30.9960 |\n| 1/3/2019  |  520.8000 |\n| 3/29/2019 |  864.5700 |\n| 1/28/2019 |  633.1080 |\n| 3/22/2019 |  296.9400 |\n| 1/24/2019 |  804.3000 |\n| 3/10/2019 |  121.8630 |\n| 2/22/2019 |  183.6450 |\n| 2/18/2019 |   63.9975 |\n| 1/29/2019 |   42.3675 |\n| 3/2/2019  | 1022.4900 |\n| 2/9/2019  |   33.4320 |\n| 2/22/2019 |   69.1110 |\n| 2/18/2019 |  649.2990 |\n\n",
            "text/html": [
              "<table class=\"dataframe\">\n",
              "<caption>A data.frame: 1000 × 2</caption>\n",
              "<thead>\n",
              "\t<tr><th scope=col>Date</th><th scope=col>Sales</th></tr>\n",
              "\t<tr><th scope=col>&lt;chr&gt;</th><th scope=col>&lt;dbl&gt;</th></tr>\n",
              "</thead>\n",
              "<tbody>\n",
              "\t<tr><td>1/5/2019 </td><td>548.9715</td></tr>\n",
              "\t<tr><td>3/8/2019 </td><td> 80.2200</td></tr>\n",
              "\t<tr><td>3/3/2019 </td><td>340.5255</td></tr>\n",
              "\t<tr><td>1/27/2019</td><td>489.0480</td></tr>\n",
              "\t<tr><td>2/8/2019 </td><td>634.3785</td></tr>\n",
              "\t<tr><td>3/25/2019</td><td>627.6165</td></tr>\n",
              "\t<tr><td>2/25/2019</td><td>433.6920</td></tr>\n",
              "\t<tr><td>2/24/2019</td><td>772.3800</td></tr>\n",
              "\t<tr><td>1/10/2019</td><td> 76.1460</td></tr>\n",
              "\t<tr><td>2/20/2019</td><td>172.7460</td></tr>\n",
              "\t<tr><td>2/6/2019 </td><td> 60.8160</td></tr>\n",
              "\t<tr><td>3/9/2019 </td><td>107.1420</td></tr>\n",
              "\t<tr><td>2/12/2019</td><td>246.4875</td></tr>\n",
              "\t<tr><td>2/7/2019 </td><td>453.4950</td></tr>\n",
              "\t<tr><td>3/29/2019</td><td>749.4900</td></tr>\n",
              "\t<tr><td>1/15/2019</td><td>590.4360</td></tr>\n",
              "\t<tr><td>3/11/2019</td><td>506.6355</td></tr>\n",
              "\t<tr><td>1/1/2019 </td><td>457.4430</td></tr>\n",
              "\t<tr><td>1/21/2019</td><td>172.2105</td></tr>\n",
              "\t<tr><td>3/11/2019</td><td> 84.6300</td></tr>\n",
              "\t<tr><td>2/25/2019</td><td>451.7100</td></tr>\n",
              "\t<tr><td>3/5/2019 </td><td>277.1370</td></tr>\n",
              "\t<tr><td>3/15/2019</td><td> 69.7200</td></tr>\n",
              "\t<tr><td>2/17/2019</td><td>181.4400</td></tr>\n",
              "\t<tr><td>3/2/2019 </td><td>279.1845</td></tr>\n",
              "\t<tr><td>3/22/2019</td><td>441.7560</td></tr>\n",
              "\t<tr><td>2/8/2019 </td><td> 35.1960</td></tr>\n",
              "\t<tr><td>3/10/2019</td><td>184.1070</td></tr>\n",
              "\t<tr><td>1/25/2019</td><td>463.8900</td></tr>\n",
              "\t<tr><td>3/15/2019</td><td>235.2105</td></tr>\n",
              "\t<tr><td>⋮</td><td>⋮</td></tr>\n",
              "\t<tr><td>1/1/2019 </td><td> 888.6150</td></tr>\n",
              "\t<tr><td>2/10/2019</td><td> 271.2885</td></tr>\n",
              "\t<tr><td>1/26/2019</td><td> 640.0380</td></tr>\n",
              "\t<tr><td>2/11/2019</td><td> 252.2520</td></tr>\n",
              "\t<tr><td>2/7/2019 </td><td> 180.8730</td></tr>\n",
              "\t<tr><td>3/6/2019 </td><td> 104.8320</td></tr>\n",
              "\t<tr><td>3/4/2019 </td><td> 313.5720</td></tr>\n",
              "\t<tr><td>2/26/2019</td><td> 167.5800</td></tr>\n",
              "\t<tr><td>3/10/2019</td><td>  26.7225</td></tr>\n",
              "\t<tr><td>2/4/2019 </td><td>  71.1585</td></tr>\n",
              "\t<tr><td>1/19/2019</td><td> 250.2780</td></tr>\n",
              "\t<tr><td>1/23/2019</td><td> 244.2300</td></tr>\n",
              "\t<tr><td>3/14/2019</td><td> 921.1860</td></tr>\n",
              "\t<tr><td>1/23/2019</td><td> 734.7060</td></tr>\n",
              "\t<tr><td>1/9/2019 </td><td> 708.3195</td></tr>\n",
              "\t<tr><td>2/7/2019 </td><td> 334.4775</td></tr>\n",
              "\t<tr><td>2/18/2019</td><td>  30.9960</td></tr>\n",
              "\t<tr><td>1/3/2019 </td><td> 520.8000</td></tr>\n",
              "\t<tr><td>3/29/2019</td><td> 864.5700</td></tr>\n",
              "\t<tr><td>1/28/2019</td><td> 633.1080</td></tr>\n",
              "\t<tr><td>3/22/2019</td><td> 296.9400</td></tr>\n",
              "\t<tr><td>1/24/2019</td><td> 804.3000</td></tr>\n",
              "\t<tr><td>3/10/2019</td><td> 121.8630</td></tr>\n",
              "\t<tr><td>2/22/2019</td><td> 183.6450</td></tr>\n",
              "\t<tr><td>2/18/2019</td><td>  63.9975</td></tr>\n",
              "\t<tr><td>1/29/2019</td><td>  42.3675</td></tr>\n",
              "\t<tr><td>3/2/2019 </td><td>1022.4900</td></tr>\n",
              "\t<tr><td>2/9/2019 </td><td>  33.4320</td></tr>\n",
              "\t<tr><td>2/22/2019</td><td>  69.1110</td></tr>\n",
              "\t<tr><td>2/18/2019</td><td> 649.2990</td></tr>\n",
              "</tbody>\n",
              "</table>\n"
            ]
          },
          "metadata": {}
        }
      ]
    },
    {
      "cell_type": "markdown",
      "metadata": {
        "id": "RY0UZBxFkfWW"
      },
      "source": [
        "#Exploring the datasets"
      ]
    },
    {
      "cell_type": "markdown",
      "metadata": {
        "id": "ocO3G4JMkwQa"
      },
      "source": [
        "Dataset 1"
      ]
    },
    {
      "cell_type": "code",
      "metadata": {
        "colab": {
          "base_uri": "https://localhost:8080/",
          "height": 531
        },
        "id": "aWRkqilbksKS",
        "outputId": "ba340e42-adb0-467a-927a-037771c436df"
      },
      "source": [
        "#data structure\n",
        "summary(df1)"
      ],
      "execution_count": 5,
      "outputs": [
        {
          "output_type": "display_data",
          "data": {
            "text/plain": [
              "  Invoice.ID           Branch          Customer.type         Gender         \n",
              " Length:1000        Length:1000        Length:1000        Length:1000       \n",
              " Class :character   Class :character   Class :character   Class :character  \n",
              " Mode  :character   Mode  :character   Mode  :character   Mode  :character  \n",
              "                                                                            \n",
              "                                                                            \n",
              "                                                                            \n",
              " Product.line         Unit.price       Quantity          Tax         \n",
              " Length:1000        Min.   :10.08   Min.   : 1.00   Min.   : 0.5085  \n",
              " Class :character   1st Qu.:32.88   1st Qu.: 3.00   1st Qu.: 5.9249  \n",
              " Mode  :character   Median :55.23   Median : 5.00   Median :12.0880  \n",
              "                    Mean   :55.67   Mean   : 5.51   Mean   :15.3794  \n",
              "                    3rd Qu.:77.94   3rd Qu.: 8.00   3rd Qu.:22.4453  \n",
              "                    Max.   :99.96   Max.   :10.00   Max.   :49.6500  \n",
              "     Date               Time             Payment               cogs       \n",
              " Length:1000        Length:1000        Length:1000        Min.   : 10.17  \n",
              " Class :character   Class :character   Class :character   1st Qu.:118.50  \n",
              " Mode  :character   Mode  :character   Mode  :character   Median :241.76  \n",
              "                                                          Mean   :307.59  \n",
              "                                                          3rd Qu.:448.90  \n",
              "                                                          Max.   :993.00  \n",
              " gross.margin.percentage  gross.income         Rating           Total        \n",
              " Min.   :4.762           Min.   : 0.5085   Min.   : 4.000   Min.   :  10.68  \n",
              " 1st Qu.:4.762           1st Qu.: 5.9249   1st Qu.: 5.500   1st Qu.: 124.42  \n",
              " Median :4.762           Median :12.0880   Median : 7.000   Median : 253.85  \n",
              " Mean   :4.762           Mean   :15.3794   Mean   : 6.973   Mean   : 322.97  \n",
              " 3rd Qu.:4.762           3rd Qu.:22.4453   3rd Qu.: 8.500   3rd Qu.: 471.35  \n",
              " Max.   :4.762           Max.   :49.6500   Max.   :10.000   Max.   :1042.65  "
            ]
          },
          "metadata": {}
        }
      ]
    },
    {
      "cell_type": "code",
      "metadata": {
        "colab": {
          "base_uri": "https://localhost:8080/",
          "height": 34
        },
        "id": "G7oDQQhJlEca",
        "outputId": "4578323e-aea7-4731-d891-c68e31b81798"
      },
      "source": [
        "#number of columns\n",
        "ncol(df1)"
      ],
      "execution_count": 6,
      "outputs": [
        {
          "output_type": "display_data",
          "data": {
            "text/plain": [
              "[1] 16"
            ],
            "text/latex": "16",
            "text/markdown": "16",
            "text/html": [
              "16"
            ]
          },
          "metadata": {}
        }
      ]
    },
    {
      "cell_type": "code",
      "metadata": {
        "colab": {
          "base_uri": "https://localhost:8080/",
          "height": 34
        },
        "id": "5nFnlPVVlMcQ",
        "outputId": "6d4fce3c-74e3-4465-c489-672813a9bea0"
      },
      "source": [
        "#number of rows\n",
        "nrow(df1)"
      ],
      "execution_count": 7,
      "outputs": [
        {
          "output_type": "display_data",
          "data": {
            "text/plain": [
              "[1] 1000"
            ],
            "text/latex": "1000",
            "text/markdown": "1000",
            "text/html": [
              "1000"
            ]
          },
          "metadata": {}
        }
      ]
    },
    {
      "cell_type": "code",
      "metadata": {
        "colab": {
          "base_uri": "https://localhost:8080/",
          "height": 34
        },
        "id": "ckaxcZcMle5r",
        "outputId": "ed7cb4af-0b82-4520-a75f-9394d8f52b88"
      },
      "source": [
        "#checking for duplicates\n",
        "sum(duplicated(df1))"
      ],
      "execution_count": 8,
      "outputs": [
        {
          "output_type": "display_data",
          "data": {
            "text/plain": [
              "[1] 0"
            ],
            "text/latex": "0",
            "text/markdown": "0",
            "text/html": [
              "0"
            ]
          },
          "metadata": {}
        }
      ]
    },
    {
      "cell_type": "code",
      "metadata": {
        "colab": {
          "base_uri": "https://localhost:8080/",
          "height": 34
        },
        "id": "fjH0xen3lqpD",
        "outputId": "aafd63bc-2bb7-4ef3-93aa-6c061e655f9a"
      },
      "source": [
        "#checking for missing values\n",
        "sum(is.na(df1))"
      ],
      "execution_count": 9,
      "outputs": [
        {
          "output_type": "display_data",
          "data": {
            "text/plain": [
              "[1] 0"
            ],
            "text/latex": "0",
            "text/markdown": "0",
            "text/html": [
              "0"
            ]
          },
          "metadata": {}
        }
      ]
    },
    {
      "cell_type": "markdown",
      "metadata": {
        "id": "Luw2AWVal2KA"
      },
      "source": [
        "Dataset 2"
      ]
    },
    {
      "cell_type": "code",
      "metadata": {
        "colab": {
          "base_uri": "https://localhost:8080/",
          "height": 384
        },
        "id": "7XuSssVxl6oj",
        "outputId": "c814f25f-41b0-42ed-b15f-3d3d3e554a82"
      },
      "source": [
        "#data structure\n",
        "summary(df2)"
      ],
      "execution_count": 10,
      "outputs": [
        {
          "output_type": "display_data",
          "data": {
            "text/plain": [
              "      V1                 V2                 V3                 V4           \n",
              " Length:7501        Length:7501        Length:7501        Length:7501       \n",
              " Class :character   Class :character   Class :character   Class :character  \n",
              " Mode  :character   Mode  :character   Mode  :character   Mode  :character  \n",
              "      V5                 V6                 V7                 V8           \n",
              " Length:7501        Length:7501        Length:7501        Length:7501       \n",
              " Class :character   Class :character   Class :character   Class :character  \n",
              " Mode  :character   Mode  :character   Mode  :character   Mode  :character  \n",
              "      V9                V10                V11                V12           \n",
              " Length:7501        Length:7501        Length:7501        Length:7501       \n",
              " Class :character   Class :character   Class :character   Class :character  \n",
              " Mode  :character   Mode  :character   Mode  :character   Mode  :character  \n",
              "     V13                V14                V15                V16           \n",
              " Length:7501        Length:7501        Length:7501        Length:7501       \n",
              " Class :character   Class :character   Class :character   Class :character  \n",
              " Mode  :character   Mode  :character   Mode  :character   Mode  :character  \n",
              "     V17                V18                V19                V20           \n",
              " Length:7501        Length:7501        Length:7501        Length:7501       \n",
              " Class :character   Class :character   Class :character   Class :character  \n",
              " Mode  :character   Mode  :character   Mode  :character   Mode  :character  "
            ]
          },
          "metadata": {}
        }
      ]
    },
    {
      "cell_type": "code",
      "metadata": {
        "colab": {
          "base_uri": "https://localhost:8080/",
          "height": 34
        },
        "id": "15pT0anqmF6q",
        "outputId": "6f47cbf9-7c9c-46d7-c6c7-36e8ccb9fc05"
      },
      "source": [
        "#number of columns\n",
        "ncol(df2)"
      ],
      "execution_count": 11,
      "outputs": [
        {
          "output_type": "display_data",
          "data": {
            "text/plain": [
              "[1] 20"
            ],
            "text/latex": "20",
            "text/markdown": "20",
            "text/html": [
              "20"
            ]
          },
          "metadata": {}
        }
      ]
    },
    {
      "cell_type": "code",
      "metadata": {
        "colab": {
          "base_uri": "https://localhost:8080/",
          "height": 34
        },
        "id": "OUs9v1lXmLAK",
        "outputId": "cd70527c-d20a-42e5-978a-feaff5212b48"
      },
      "source": [
        "#number of rows\n",
        "nrow(df2)"
      ],
      "execution_count": 12,
      "outputs": [
        {
          "output_type": "display_data",
          "data": {
            "text/plain": [
              "[1] 7501"
            ],
            "text/latex": "7501",
            "text/markdown": "7501",
            "text/html": [
              "7501"
            ]
          },
          "metadata": {}
        }
      ]
    },
    {
      "cell_type": "code",
      "metadata": {
        "colab": {
          "base_uri": "https://localhost:8080/",
          "height": 34
        },
        "id": "H_MG5WS7mQey",
        "outputId": "62ae76f0-5462-4472-ebeb-b6723994d4c5"
      },
      "source": [
        "#checking for duplicated values\n",
        "sum(duplicated(df2))"
      ],
      "execution_count": 13,
      "outputs": [
        {
          "output_type": "display_data",
          "data": {
            "text/plain": [
              "[1] 2325"
            ],
            "text/latex": "2325",
            "text/markdown": "2325",
            "text/html": [
              "2325"
            ]
          },
          "metadata": {}
        }
      ]
    },
    {
      "cell_type": "code",
      "metadata": {
        "colab": {
          "base_uri": "https://localhost:8080/",
          "height": 34
        },
        "id": "3wdznJ-NmXxG",
        "outputId": "7268b33c-a6a5-46cd-babe-1369ff28dcd5"
      },
      "source": [
        "#checking for missing values\n",
        "sum(is.na(df2))"
      ],
      "execution_count": 14,
      "outputs": [
        {
          "output_type": "display_data",
          "data": {
            "text/plain": [
              "[1] 0"
            ],
            "text/latex": "0",
            "text/markdown": "0",
            "text/html": [
              "0"
            ]
          },
          "metadata": {}
        }
      ]
    },
    {
      "cell_type": "markdown",
      "metadata": {
        "id": "fS9QX2KcmnEK"
      },
      "source": [
        "Dataset 3"
      ]
    },
    {
      "cell_type": "code",
      "metadata": {
        "colab": {
          "base_uri": "https://localhost:8080/",
          "height": 146
        },
        "id": "Vd6K_P1wmpnb",
        "outputId": "665d5a77-d8db-41ab-f7dc-6b22aab2ba4c"
      },
      "source": [
        "#data structure\n",
        "summary(df3)"
      ],
      "execution_count": 15,
      "outputs": [
        {
          "output_type": "display_data",
          "data": {
            "text/plain": [
              "     Date               Sales        \n",
              " Length:1000        Min.   :  10.68  \n",
              " Class :character   1st Qu.: 124.42  \n",
              " Mode  :character   Median : 253.85  \n",
              "                    Mean   : 322.97  \n",
              "                    3rd Qu.: 471.35  \n",
              "                    Max.   :1042.65  "
            ]
          },
          "metadata": {}
        }
      ]
    },
    {
      "cell_type": "code",
      "metadata": {
        "colab": {
          "base_uri": "https://localhost:8080/",
          "height": 34
        },
        "id": "m3KgEMlYnWYj",
        "outputId": "91fc15eb-ddf1-43ad-c712-416ca1f7f0a6"
      },
      "source": [
        "#number of columns\n",
        "ncol(df3)"
      ],
      "execution_count": 16,
      "outputs": [
        {
          "output_type": "display_data",
          "data": {
            "text/plain": [
              "[1] 2"
            ],
            "text/latex": "2",
            "text/markdown": "2",
            "text/html": [
              "2"
            ]
          },
          "metadata": {}
        }
      ]
    },
    {
      "cell_type": "code",
      "metadata": {
        "colab": {
          "base_uri": "https://localhost:8080/",
          "height": 34
        },
        "id": "o2y1fUPOnbbz",
        "outputId": "a0c3a608-b49b-4724-9fda-a2a1685b16a5"
      },
      "source": [
        "#number of rows\n",
        "nrow(df3)"
      ],
      "execution_count": 17,
      "outputs": [
        {
          "output_type": "display_data",
          "data": {
            "text/plain": [
              "[1] 1000"
            ],
            "text/latex": "1000",
            "text/markdown": "1000",
            "text/html": [
              "1000"
            ]
          },
          "metadata": {}
        }
      ]
    },
    {
      "cell_type": "code",
      "metadata": {
        "colab": {
          "base_uri": "https://localhost:8080/",
          "height": 34
        },
        "id": "_5ru3FCGngQM",
        "outputId": "3107a731-6d65-40c6-a1e9-4957060371bd"
      },
      "source": [
        "#checking for duplicated values\n",
        "sum(duplicated(df3))"
      ],
      "execution_count": 18,
      "outputs": [
        {
          "output_type": "display_data",
          "data": {
            "text/plain": [
              "[1] 0"
            ],
            "text/latex": "0",
            "text/markdown": "0",
            "text/html": [
              "0"
            ]
          },
          "metadata": {}
        }
      ]
    },
    {
      "cell_type": "code",
      "metadata": {
        "colab": {
          "base_uri": "https://localhost:8080/",
          "height": 34
        },
        "id": "GA3doHHKnsXQ",
        "outputId": "08eebdbb-9995-4321-c72f-4ba06e95ddfd"
      },
      "source": [
        "#checking for missing values\n",
        "sum(is.na(df3))"
      ],
      "execution_count": 19,
      "outputs": [
        {
          "output_type": "display_data",
          "data": {
            "text/plain": [
              "[1] 0"
            ],
            "text/latex": "0",
            "text/markdown": "0",
            "text/html": [
              "0"
            ]
          },
          "metadata": {}
        }
      ]
    },
    {
      "cell_type": "markdown",
      "metadata": {
        "id": "Y25f1plJn0z6"
      },
      "source": [
        "* We see that Dataset 1 and dataset 3 are clean with no missing values nor duplicates thus we are going to merge them and perform feature selection and dimensionality reduction\n",
        "\n",
        "* As for dataset 2 we are going to use it as it is in association analysis"
      ]
    },
    {
      "cell_type": "markdown",
      "metadata": {
        "id": "P4XasiMa1fwV"
      },
      "source": [
        "#Exploratory Data Analysis"
      ]
    },
    {
      "cell_type": "code",
      "metadata": {
        "id": "M_4S2GwS1kZc"
      },
      "source": [
        "#merging df1 and df3 together\n",
        "#changing the joining columns to numeric first\n",
        "df1$Date <- as.numeric(as.factor(df1$Date))\n",
        "df3$Date <- as.numeric(as.factor(df3$Date))"
      ],
      "execution_count": 20,
      "outputs": []
    },
    {
      "cell_type": "code",
      "metadata": {
        "colab": {
          "base_uri": "https://localhost:8080/",
          "height": 34
        },
        "id": "zwkY8c5S9QEc",
        "outputId": "1c43325d-1b66-4025-bd69-a7d853d75384"
      },
      "source": [
        "is.numeric(df1$Date)"
      ],
      "execution_count": 21,
      "outputs": [
        {
          "output_type": "display_data",
          "data": {
            "text/plain": [
              "[1] TRUE"
            ],
            "text/latex": "TRUE",
            "text/markdown": "TRUE",
            "text/html": [
              "TRUE"
            ]
          },
          "metadata": {}
        }
      ]
    },
    {
      "cell_type": "code",
      "metadata": {
        "colab": {
          "base_uri": "https://localhost:8080/",
          "height": 34
        },
        "id": "MPxQIx-X9Xbp",
        "outputId": "9a86fdaf-ef4d-46bd-ecfd-e09aa3372c5b"
      },
      "source": [
        "is.numeric(df3$Date)"
      ],
      "execution_count": 22,
      "outputs": [
        {
          "output_type": "display_data",
          "data": {
            "text/plain": [
              "[1] TRUE"
            ],
            "text/latex": "TRUE",
            "text/markdown": "TRUE",
            "text/html": [
              "TRUE"
            ]
          },
          "metadata": {}
        }
      ]
    },
    {
      "cell_type": "code",
      "metadata": {
        "id": "dfbr0YHN-MEH"
      },
      "source": [
        "#merging the two datasets with the date column\n",
        "sales = merge(x = df1, y = df3, by = \"Date\", all = TRUE)"
      ],
      "execution_count": 23,
      "outputs": []
    },
    {
      "cell_type": "code",
      "metadata": {
        "colab": {
          "base_uri": "https://localhost:8080/",
          "height": 1000
        },
        "id": "Gp3MIs1s-UCI",
        "outputId": "530349e5-a149-4488-c5f5-ebd2c7c396aa"
      },
      "source": [
        "#viewing the merged dataset\n",
        "sales"
      ],
      "execution_count": 24,
      "outputs": [
        {
          "output_type": "display_data",
          "data": {
            "text/plain": [
              "      Date Invoice.ID  Branch Customer.type Gender Product.line          \n",
              "1     1    556-97-7101 C      Normal        Female Electronic accessories\n",
              "2     1    556-97-7101 C      Normal        Female Electronic accessories\n",
              "3     1    556-97-7101 C      Normal        Female Electronic accessories\n",
              "4     1    556-97-7101 C      Normal        Female Electronic accessories\n",
              "5     1    556-97-7101 C      Normal        Female Electronic accessories\n",
              "6     1    556-97-7101 C      Normal        Female Electronic accessories\n",
              "7     1    556-97-7101 C      Normal        Female Electronic accessories\n",
              "8     1    556-97-7101 C      Normal        Female Electronic accessories\n",
              "9     1    556-97-7101 C      Normal        Female Electronic accessories\n",
              "10    1    556-97-7101 C      Normal        Female Electronic accessories\n",
              "11    1    556-97-7101 C      Normal        Female Electronic accessories\n",
              "12    1    556-97-7101 C      Normal        Female Electronic accessories\n",
              "13    1    651-88-7328 A      Normal        Female Fashion accessories   \n",
              "14    1    651-88-7328 A      Normal        Female Fashion accessories   \n",
              "15    1    651-88-7328 A      Normal        Female Fashion accessories   \n",
              "16    1    651-88-7328 A      Normal        Female Fashion accessories   \n",
              "17    1    651-88-7328 A      Normal        Female Fashion accessories   \n",
              "18    1    651-88-7328 A      Normal        Female Fashion accessories   \n",
              "19    1    651-88-7328 A      Normal        Female Fashion accessories   \n",
              "20    1    651-88-7328 A      Normal        Female Fashion accessories   \n",
              "21    1    651-88-7328 A      Normal        Female Fashion accessories   \n",
              "22    1    651-88-7328 A      Normal        Female Fashion accessories   \n",
              "23    1    651-88-7328 A      Normal        Female Fashion accessories   \n",
              "24    1    651-88-7328 A      Normal        Female Fashion accessories   \n",
              "25    1    133-14-7229 C      Normal        Male   Health and beauty     \n",
              "26    1    133-14-7229 C      Normal        Male   Health and beauty     \n",
              "27    1    133-14-7229 C      Normal        Male   Health and beauty     \n",
              "28    1    133-14-7229 C      Normal        Male   Health and beauty     \n",
              "29    1    133-14-7229 C      Normal        Male   Health and beauty     \n",
              "30    1    133-14-7229 C      Normal        Male   Health and beauty     \n",
              "⋮     ⋮    ⋮           ⋮      ⋮             ⋮      ⋮                     \n",
              "12213 89   489-64-4354 C      Normal        Male   Fashion accessories   \n",
              "12214 89   489-64-4354 C      Normal        Male   Fashion accessories   \n",
              "12215 89   489-64-4354 C      Normal        Male   Fashion accessories   \n",
              "12216 89   489-64-4354 C      Normal        Male   Fashion accessories   \n",
              "12217 89   489-64-4354 C      Normal        Male   Fashion accessories   \n",
              "12218 89   489-64-4354 C      Normal        Male   Fashion accessories   \n",
              "12219 89   489-64-4354 C      Normal        Male   Fashion accessories   \n",
              "12220 89   489-64-4354 C      Normal        Male   Fashion accessories   \n",
              "12221 89   489-64-4354 C      Normal        Male   Fashion accessories   \n",
              "12222 89   489-64-4354 C      Normal        Male   Fashion accessories   \n",
              "12223 89   489-64-4354 C      Normal        Male   Fashion accessories   \n",
              "12224 89   489-64-4354 C      Normal        Male   Fashion accessories   \n",
              "12225 89   489-64-4354 C      Normal        Male   Fashion accessories   \n",
              "12226 89   489-64-4354 C      Normal        Male   Fashion accessories   \n",
              "12227 89   299-29-0180 B      Member        Female Home and lifestyle    \n",
              "12228 89   299-29-0180 B      Member        Female Home and lifestyle    \n",
              "12229 89   299-29-0180 B      Member        Female Home and lifestyle    \n",
              "12230 89   299-29-0180 B      Member        Female Home and lifestyle    \n",
              "12231 89   299-29-0180 B      Member        Female Home and lifestyle    \n",
              "12232 89   299-29-0180 B      Member        Female Home and lifestyle    \n",
              "12233 89   299-29-0180 B      Member        Female Home and lifestyle    \n",
              "12234 89   299-29-0180 B      Member        Female Home and lifestyle    \n",
              "12235 89   299-29-0180 B      Member        Female Home and lifestyle    \n",
              "12236 89   299-29-0180 B      Member        Female Home and lifestyle    \n",
              "12237 89   299-29-0180 B      Member        Female Home and lifestyle    \n",
              "12238 89   299-29-0180 B      Member        Female Home and lifestyle    \n",
              "12239 89   299-29-0180 B      Member        Female Home and lifestyle    \n",
              "12240 89   299-29-0180 B      Member        Female Home and lifestyle    \n",
              "12241 89   299-29-0180 B      Member        Female Home and lifestyle    \n",
              "12242 89   299-29-0180 B      Member        Female Home and lifestyle    \n",
              "      Unit.price Quantity Tax    Time  Payment cogs   gross.margin.percentage\n",
              "1     63.22      2         6.322 15:51 Cash    126.44 4.761905               \n",
              "2     63.22      2         6.322 15:51 Cash    126.44 4.761905               \n",
              "3     63.22      2         6.322 15:51 Cash    126.44 4.761905               \n",
              "4     63.22      2         6.322 15:51 Cash    126.44 4.761905               \n",
              "5     63.22      2         6.322 15:51 Cash    126.44 4.761905               \n",
              "6     63.22      2         6.322 15:51 Cash    126.44 4.761905               \n",
              "7     63.22      2         6.322 15:51 Cash    126.44 4.761905               \n",
              "8     63.22      2         6.322 15:51 Cash    126.44 4.761905               \n",
              "9     63.22      2         6.322 15:51 Cash    126.44 4.761905               \n",
              "10    63.22      2         6.322 15:51 Cash    126.44 4.761905               \n",
              "11    63.22      2         6.322 15:51 Cash    126.44 4.761905               \n",
              "12    63.22      2         6.322 15:51 Cash    126.44 4.761905               \n",
              "13    65.74      9        29.583 13:55 Cash    591.66 4.761905               \n",
              "14    65.74      9        29.583 13:55 Cash    591.66 4.761905               \n",
              "15    65.74      9        29.583 13:55 Cash    591.66 4.761905               \n",
              "16    65.74      9        29.583 13:55 Cash    591.66 4.761905               \n",
              "17    65.74      9        29.583 13:55 Cash    591.66 4.761905               \n",
              "18    65.74      9        29.583 13:55 Cash    591.66 4.761905               \n",
              "19    65.74      9        29.583 13:55 Cash    591.66 4.761905               \n",
              "20    65.74      9        29.583 13:55 Cash    591.66 4.761905               \n",
              "21    65.74      9        29.583 13:55 Cash    591.66 4.761905               \n",
              "22    65.74      9        29.583 13:55 Cash    591.66 4.761905               \n",
              "23    65.74      9        29.583 13:55 Cash    591.66 4.761905               \n",
              "24    65.74      9        29.583 13:55 Cash    591.66 4.761905               \n",
              "25    62.87      2         6.287 11:43 Cash    125.74 4.761905               \n",
              "26    62.87      2         6.287 11:43 Cash    125.74 4.761905               \n",
              "27    62.87      2         6.287 11:43 Cash    125.74 4.761905               \n",
              "28    62.87      2         6.287 11:43 Cash    125.74 4.761905               \n",
              "29    62.87      2         6.287 11:43 Cash    125.74 4.761905               \n",
              "30    62.87      2         6.287 11:43 Cash    125.74 4.761905               \n",
              "⋮     ⋮          ⋮        ⋮      ⋮     ⋮       ⋮      ⋮                      \n",
              "12213 16.28      1         0.814 15:36 Cash     16.28 4.761905               \n",
              "12214 16.28      1         0.814 15:36 Cash     16.28 4.761905               \n",
              "12215 16.28      1         0.814 15:36 Cash     16.28 4.761905               \n",
              "12216 16.28      1         0.814 15:36 Cash     16.28 4.761905               \n",
              "12217 16.28      1         0.814 15:36 Cash     16.28 4.761905               \n",
              "12218 16.28      1         0.814 15:36 Cash     16.28 4.761905               \n",
              "12219 16.28      1         0.814 15:36 Cash     16.28 4.761905               \n",
              "12220 16.28      1         0.814 15:36 Cash     16.28 4.761905               \n",
              "12221 16.28      1         0.814 15:36 Cash     16.28 4.761905               \n",
              "12222 16.28      1         0.814 15:36 Cash     16.28 4.761905               \n",
              "12223 16.28      1         0.814 15:36 Cash     16.28 4.761905               \n",
              "12224 16.28      1         0.814 15:36 Cash     16.28 4.761905               \n",
              "12225 16.28      1         0.814 15:36 Cash     16.28 4.761905               \n",
              "12226 16.28      1         0.814 15:36 Cash     16.28 4.761905               \n",
              "12227 52.18      7        18.263 10:54 Cash    365.26 4.761905               \n",
              "12228 52.18      7        18.263 10:54 Cash    365.26 4.761905               \n",
              "12229 52.18      7        18.263 10:54 Cash    365.26 4.761905               \n",
              "12230 52.18      7        18.263 10:54 Cash    365.26 4.761905               \n",
              "12231 52.18      7        18.263 10:54 Cash    365.26 4.761905               \n",
              "12232 52.18      7        18.263 10:54 Cash    365.26 4.761905               \n",
              "12233 52.18      7        18.263 10:54 Cash    365.26 4.761905               \n",
              "12234 52.18      7        18.263 10:54 Cash    365.26 4.761905               \n",
              "12235 52.18      7        18.263 10:54 Cash    365.26 4.761905               \n",
              "12236 52.18      7        18.263 10:54 Cash    365.26 4.761905               \n",
              "12237 52.18      7        18.263 10:54 Cash    365.26 4.761905               \n",
              "12238 52.18      7        18.263 10:54 Cash    365.26 4.761905               \n",
              "12239 52.18      7        18.263 10:54 Cash    365.26 4.761905               \n",
              "12240 52.18      7        18.263 10:54 Cash    365.26 4.761905               \n",
              "12241 52.18      7        18.263 10:54 Cash    365.26 4.761905               \n",
              "12242 52.18      7        18.263 10:54 Cash    365.26 4.761905               \n",
              "      gross.income Rating Total   Sales   \n",
              "1      6.322       8.5    132.762 132.762 \n",
              "2      6.322       8.5    132.762 621.243 \n",
              "3      6.322       8.5    132.762 132.027 \n",
              "4      6.322       8.5    132.762 184.086 \n",
              "5      6.322       8.5    132.762 457.443 \n",
              "6      6.322       8.5    132.762 399.756 \n",
              "7      6.322       8.5    132.762 779.310 \n",
              "8      6.322       8.5    132.762 470.673 \n",
              "9      6.322       8.5    132.762 888.615 \n",
              "10     6.322       8.5    132.762 388.290 \n",
              "11     6.322       8.5    132.762 177.408 \n",
              "12     6.322       8.5    132.762 113.568 \n",
              "13    29.583       7.7    621.243 132.762 \n",
              "14    29.583       7.7    621.243 621.243 \n",
              "15    29.583       7.7    621.243 132.027 \n",
              "16    29.583       7.7    621.243 184.086 \n",
              "17    29.583       7.7    621.243 457.443 \n",
              "18    29.583       7.7    621.243 399.756 \n",
              "19    29.583       7.7    621.243 779.310 \n",
              "20    29.583       7.7    621.243 470.673 \n",
              "21    29.583       7.7    621.243 888.615 \n",
              "22    29.583       7.7    621.243 388.290 \n",
              "23    29.583       7.7    621.243 177.408 \n",
              "24    29.583       7.7    621.243 113.568 \n",
              "25     6.287       5.0    132.027 132.762 \n",
              "26     6.287       5.0    132.027 621.243 \n",
              "27     6.287       5.0    132.027 132.027 \n",
              "28     6.287       5.0    132.027 184.086 \n",
              "29     6.287       5.0    132.027 457.443 \n",
              "30     6.287       5.0    132.027 399.756 \n",
              "⋮     ⋮            ⋮      ⋮       ⋮       \n",
              "12213  0.814       5.0     17.094 935.2665\n",
              "12214  0.814       5.0     17.094 944.6220\n",
              "12215  0.814       5.0     17.094 107.1420\n",
              "12216  0.814       5.0     17.094 545.3700\n",
              "12217  0.814       5.0     17.094 548.7300\n",
              "12218  0.814       5.0     17.094 256.7775\n",
              "12219  0.814       5.0     17.094 702.2190\n",
              "12220  0.814       5.0     17.094 817.2360\n",
              "12221  0.814       5.0     17.094 474.3480\n",
              "12222  0.814       5.0     17.094 394.6320\n",
              "12223  0.814       5.0     17.094 127.8270\n",
              "12224  0.814       5.0     17.094 217.1820\n",
              "12225  0.814       5.0     17.094  17.0940\n",
              "12226  0.814       5.0     17.094 383.5230\n",
              "12227 18.263       9.3    383.523 523.8450\n",
              "12228 18.263       9.3    383.523 478.2330\n",
              "12229 18.263       9.3    383.523 935.2665\n",
              "12230 18.263       9.3    383.523 944.6220\n",
              "12231 18.263       9.3    383.523 107.1420\n",
              "12232 18.263       9.3    383.523 545.3700\n",
              "12233 18.263       9.3    383.523 548.7300\n",
              "12234 18.263       9.3    383.523 256.7775\n",
              "12235 18.263       9.3    383.523 702.2190\n",
              "12236 18.263       9.3    383.523 817.2360\n",
              "12237 18.263       9.3    383.523 474.3480\n",
              "12238 18.263       9.3    383.523 394.6320\n",
              "12239 18.263       9.3    383.523 127.8270\n",
              "12240 18.263       9.3    383.523 217.1820\n",
              "12241 18.263       9.3    383.523  17.0940\n",
              "12242 18.263       9.3    383.523 383.5230"
            ],
            "text/latex": "A data.frame: 12242 × 17\n\\begin{tabular}{lllllllllllllllll}\n Date & Invoice.ID & Branch & Customer.type & Gender & Product.line & Unit.price & Quantity & Tax & Time & Payment & cogs & gross.margin.percentage & gross.income & Rating & Total & Sales\\\\\n <dbl> & <chr> & <chr> & <chr> & <chr> & <chr> & <dbl> & <int> & <dbl> & <chr> & <chr> & <dbl> & <dbl> & <dbl> & <dbl> & <dbl> & <dbl>\\\\\n\\hline\n\t 1 & 556-97-7101 & C & Normal & Female & Electronic accessories & 63.22 & 2 &  6.322 & 15:51 & Cash & 126.44 & 4.761905 &  6.322 & 8.5 & 132.762 & 132.762\\\\\n\t 1 & 556-97-7101 & C & Normal & Female & Electronic accessories & 63.22 & 2 &  6.322 & 15:51 & Cash & 126.44 & 4.761905 &  6.322 & 8.5 & 132.762 & 621.243\\\\\n\t 1 & 556-97-7101 & C & Normal & Female & Electronic accessories & 63.22 & 2 &  6.322 & 15:51 & Cash & 126.44 & 4.761905 &  6.322 & 8.5 & 132.762 & 132.027\\\\\n\t 1 & 556-97-7101 & C & Normal & Female & Electronic accessories & 63.22 & 2 &  6.322 & 15:51 & Cash & 126.44 & 4.761905 &  6.322 & 8.5 & 132.762 & 184.086\\\\\n\t 1 & 556-97-7101 & C & Normal & Female & Electronic accessories & 63.22 & 2 &  6.322 & 15:51 & Cash & 126.44 & 4.761905 &  6.322 & 8.5 & 132.762 & 457.443\\\\\n\t 1 & 556-97-7101 & C & Normal & Female & Electronic accessories & 63.22 & 2 &  6.322 & 15:51 & Cash & 126.44 & 4.761905 &  6.322 & 8.5 & 132.762 & 399.756\\\\\n\t 1 & 556-97-7101 & C & Normal & Female & Electronic accessories & 63.22 & 2 &  6.322 & 15:51 & Cash & 126.44 & 4.761905 &  6.322 & 8.5 & 132.762 & 779.310\\\\\n\t 1 & 556-97-7101 & C & Normal & Female & Electronic accessories & 63.22 & 2 &  6.322 & 15:51 & Cash & 126.44 & 4.761905 &  6.322 & 8.5 & 132.762 & 470.673\\\\\n\t 1 & 556-97-7101 & C & Normal & Female & Electronic accessories & 63.22 & 2 &  6.322 & 15:51 & Cash & 126.44 & 4.761905 &  6.322 & 8.5 & 132.762 & 888.615\\\\\n\t 1 & 556-97-7101 & C & Normal & Female & Electronic accessories & 63.22 & 2 &  6.322 & 15:51 & Cash & 126.44 & 4.761905 &  6.322 & 8.5 & 132.762 & 388.290\\\\\n\t 1 & 556-97-7101 & C & Normal & Female & Electronic accessories & 63.22 & 2 &  6.322 & 15:51 & Cash & 126.44 & 4.761905 &  6.322 & 8.5 & 132.762 & 177.408\\\\\n\t 1 & 556-97-7101 & C & Normal & Female & Electronic accessories & 63.22 & 2 &  6.322 & 15:51 & Cash & 126.44 & 4.761905 &  6.322 & 8.5 & 132.762 & 113.568\\\\\n\t 1 & 651-88-7328 & A & Normal & Female & Fashion accessories    & 65.74 & 9 & 29.583 & 13:55 & Cash & 591.66 & 4.761905 & 29.583 & 7.7 & 621.243 & 132.762\\\\\n\t 1 & 651-88-7328 & A & Normal & Female & Fashion accessories    & 65.74 & 9 & 29.583 & 13:55 & Cash & 591.66 & 4.761905 & 29.583 & 7.7 & 621.243 & 621.243\\\\\n\t 1 & 651-88-7328 & A & Normal & Female & Fashion accessories    & 65.74 & 9 & 29.583 & 13:55 & Cash & 591.66 & 4.761905 & 29.583 & 7.7 & 621.243 & 132.027\\\\\n\t 1 & 651-88-7328 & A & Normal & Female & Fashion accessories    & 65.74 & 9 & 29.583 & 13:55 & Cash & 591.66 & 4.761905 & 29.583 & 7.7 & 621.243 & 184.086\\\\\n\t 1 & 651-88-7328 & A & Normal & Female & Fashion accessories    & 65.74 & 9 & 29.583 & 13:55 & Cash & 591.66 & 4.761905 & 29.583 & 7.7 & 621.243 & 457.443\\\\\n\t 1 & 651-88-7328 & A & Normal & Female & Fashion accessories    & 65.74 & 9 & 29.583 & 13:55 & Cash & 591.66 & 4.761905 & 29.583 & 7.7 & 621.243 & 399.756\\\\\n\t 1 & 651-88-7328 & A & Normal & Female & Fashion accessories    & 65.74 & 9 & 29.583 & 13:55 & Cash & 591.66 & 4.761905 & 29.583 & 7.7 & 621.243 & 779.310\\\\\n\t 1 & 651-88-7328 & A & Normal & Female & Fashion accessories    & 65.74 & 9 & 29.583 & 13:55 & Cash & 591.66 & 4.761905 & 29.583 & 7.7 & 621.243 & 470.673\\\\\n\t 1 & 651-88-7328 & A & Normal & Female & Fashion accessories    & 65.74 & 9 & 29.583 & 13:55 & Cash & 591.66 & 4.761905 & 29.583 & 7.7 & 621.243 & 888.615\\\\\n\t 1 & 651-88-7328 & A & Normal & Female & Fashion accessories    & 65.74 & 9 & 29.583 & 13:55 & Cash & 591.66 & 4.761905 & 29.583 & 7.7 & 621.243 & 388.290\\\\\n\t 1 & 651-88-7328 & A & Normal & Female & Fashion accessories    & 65.74 & 9 & 29.583 & 13:55 & Cash & 591.66 & 4.761905 & 29.583 & 7.7 & 621.243 & 177.408\\\\\n\t 1 & 651-88-7328 & A & Normal & Female & Fashion accessories    & 65.74 & 9 & 29.583 & 13:55 & Cash & 591.66 & 4.761905 & 29.583 & 7.7 & 621.243 & 113.568\\\\\n\t 1 & 133-14-7229 & C & Normal & Male   & Health and beauty      & 62.87 & 2 &  6.287 & 11:43 & Cash & 125.74 & 4.761905 &  6.287 & 5.0 & 132.027 & 132.762\\\\\n\t 1 & 133-14-7229 & C & Normal & Male   & Health and beauty      & 62.87 & 2 &  6.287 & 11:43 & Cash & 125.74 & 4.761905 &  6.287 & 5.0 & 132.027 & 621.243\\\\\n\t 1 & 133-14-7229 & C & Normal & Male   & Health and beauty      & 62.87 & 2 &  6.287 & 11:43 & Cash & 125.74 & 4.761905 &  6.287 & 5.0 & 132.027 & 132.027\\\\\n\t 1 & 133-14-7229 & C & Normal & Male   & Health and beauty      & 62.87 & 2 &  6.287 & 11:43 & Cash & 125.74 & 4.761905 &  6.287 & 5.0 & 132.027 & 184.086\\\\\n\t 1 & 133-14-7229 & C & Normal & Male   & Health and beauty      & 62.87 & 2 &  6.287 & 11:43 & Cash & 125.74 & 4.761905 &  6.287 & 5.0 & 132.027 & 457.443\\\\\n\t 1 & 133-14-7229 & C & Normal & Male   & Health and beauty      & 62.87 & 2 &  6.287 & 11:43 & Cash & 125.74 & 4.761905 &  6.287 & 5.0 & 132.027 & 399.756\\\\\n\t ⋮ & ⋮ & ⋮ & ⋮ & ⋮ & ⋮ & ⋮ & ⋮ & ⋮ & ⋮ & ⋮ & ⋮ & ⋮ & ⋮ & ⋮ & ⋮ & ⋮\\\\\n\t 89 & 489-64-4354 & C & Normal & Male   & Fashion accessories & 16.28 & 1 &  0.814 & 15:36 & Cash &  16.28 & 4.761905 &  0.814 & 5.0 &  17.094 & 935.2665\\\\\n\t 89 & 489-64-4354 & C & Normal & Male   & Fashion accessories & 16.28 & 1 &  0.814 & 15:36 & Cash &  16.28 & 4.761905 &  0.814 & 5.0 &  17.094 & 944.6220\\\\\n\t 89 & 489-64-4354 & C & Normal & Male   & Fashion accessories & 16.28 & 1 &  0.814 & 15:36 & Cash &  16.28 & 4.761905 &  0.814 & 5.0 &  17.094 & 107.1420\\\\\n\t 89 & 489-64-4354 & C & Normal & Male   & Fashion accessories & 16.28 & 1 &  0.814 & 15:36 & Cash &  16.28 & 4.761905 &  0.814 & 5.0 &  17.094 & 545.3700\\\\\n\t 89 & 489-64-4354 & C & Normal & Male   & Fashion accessories & 16.28 & 1 &  0.814 & 15:36 & Cash &  16.28 & 4.761905 &  0.814 & 5.0 &  17.094 & 548.7300\\\\\n\t 89 & 489-64-4354 & C & Normal & Male   & Fashion accessories & 16.28 & 1 &  0.814 & 15:36 & Cash &  16.28 & 4.761905 &  0.814 & 5.0 &  17.094 & 256.7775\\\\\n\t 89 & 489-64-4354 & C & Normal & Male   & Fashion accessories & 16.28 & 1 &  0.814 & 15:36 & Cash &  16.28 & 4.761905 &  0.814 & 5.0 &  17.094 & 702.2190\\\\\n\t 89 & 489-64-4354 & C & Normal & Male   & Fashion accessories & 16.28 & 1 &  0.814 & 15:36 & Cash &  16.28 & 4.761905 &  0.814 & 5.0 &  17.094 & 817.2360\\\\\n\t 89 & 489-64-4354 & C & Normal & Male   & Fashion accessories & 16.28 & 1 &  0.814 & 15:36 & Cash &  16.28 & 4.761905 &  0.814 & 5.0 &  17.094 & 474.3480\\\\\n\t 89 & 489-64-4354 & C & Normal & Male   & Fashion accessories & 16.28 & 1 &  0.814 & 15:36 & Cash &  16.28 & 4.761905 &  0.814 & 5.0 &  17.094 & 394.6320\\\\\n\t 89 & 489-64-4354 & C & Normal & Male   & Fashion accessories & 16.28 & 1 &  0.814 & 15:36 & Cash &  16.28 & 4.761905 &  0.814 & 5.0 &  17.094 & 127.8270\\\\\n\t 89 & 489-64-4354 & C & Normal & Male   & Fashion accessories & 16.28 & 1 &  0.814 & 15:36 & Cash &  16.28 & 4.761905 &  0.814 & 5.0 &  17.094 & 217.1820\\\\\n\t 89 & 489-64-4354 & C & Normal & Male   & Fashion accessories & 16.28 & 1 &  0.814 & 15:36 & Cash &  16.28 & 4.761905 &  0.814 & 5.0 &  17.094 &  17.0940\\\\\n\t 89 & 489-64-4354 & C & Normal & Male   & Fashion accessories & 16.28 & 1 &  0.814 & 15:36 & Cash &  16.28 & 4.761905 &  0.814 & 5.0 &  17.094 & 383.5230\\\\\n\t 89 & 299-29-0180 & B & Member & Female & Home and lifestyle  & 52.18 & 7 & 18.263 & 10:54 & Cash & 365.26 & 4.761905 & 18.263 & 9.3 & 383.523 & 523.8450\\\\\n\t 89 & 299-29-0180 & B & Member & Female & Home and lifestyle  & 52.18 & 7 & 18.263 & 10:54 & Cash & 365.26 & 4.761905 & 18.263 & 9.3 & 383.523 & 478.2330\\\\\n\t 89 & 299-29-0180 & B & Member & Female & Home and lifestyle  & 52.18 & 7 & 18.263 & 10:54 & Cash & 365.26 & 4.761905 & 18.263 & 9.3 & 383.523 & 935.2665\\\\\n\t 89 & 299-29-0180 & B & Member & Female & Home and lifestyle  & 52.18 & 7 & 18.263 & 10:54 & Cash & 365.26 & 4.761905 & 18.263 & 9.3 & 383.523 & 944.6220\\\\\n\t 89 & 299-29-0180 & B & Member & Female & Home and lifestyle  & 52.18 & 7 & 18.263 & 10:54 & Cash & 365.26 & 4.761905 & 18.263 & 9.3 & 383.523 & 107.1420\\\\\n\t 89 & 299-29-0180 & B & Member & Female & Home and lifestyle  & 52.18 & 7 & 18.263 & 10:54 & Cash & 365.26 & 4.761905 & 18.263 & 9.3 & 383.523 & 545.3700\\\\\n\t 89 & 299-29-0180 & B & Member & Female & Home and lifestyle  & 52.18 & 7 & 18.263 & 10:54 & Cash & 365.26 & 4.761905 & 18.263 & 9.3 & 383.523 & 548.7300\\\\\n\t 89 & 299-29-0180 & B & Member & Female & Home and lifestyle  & 52.18 & 7 & 18.263 & 10:54 & Cash & 365.26 & 4.761905 & 18.263 & 9.3 & 383.523 & 256.7775\\\\\n\t 89 & 299-29-0180 & B & Member & Female & Home and lifestyle  & 52.18 & 7 & 18.263 & 10:54 & Cash & 365.26 & 4.761905 & 18.263 & 9.3 & 383.523 & 702.2190\\\\\n\t 89 & 299-29-0180 & B & Member & Female & Home and lifestyle  & 52.18 & 7 & 18.263 & 10:54 & Cash & 365.26 & 4.761905 & 18.263 & 9.3 & 383.523 & 817.2360\\\\\n\t 89 & 299-29-0180 & B & Member & Female & Home and lifestyle  & 52.18 & 7 & 18.263 & 10:54 & Cash & 365.26 & 4.761905 & 18.263 & 9.3 & 383.523 & 474.3480\\\\\n\t 89 & 299-29-0180 & B & Member & Female & Home and lifestyle  & 52.18 & 7 & 18.263 & 10:54 & Cash & 365.26 & 4.761905 & 18.263 & 9.3 & 383.523 & 394.6320\\\\\n\t 89 & 299-29-0180 & B & Member & Female & Home and lifestyle  & 52.18 & 7 & 18.263 & 10:54 & Cash & 365.26 & 4.761905 & 18.263 & 9.3 & 383.523 & 127.8270\\\\\n\t 89 & 299-29-0180 & B & Member & Female & Home and lifestyle  & 52.18 & 7 & 18.263 & 10:54 & Cash & 365.26 & 4.761905 & 18.263 & 9.3 & 383.523 & 217.1820\\\\\n\t 89 & 299-29-0180 & B & Member & Female & Home and lifestyle  & 52.18 & 7 & 18.263 & 10:54 & Cash & 365.26 & 4.761905 & 18.263 & 9.3 & 383.523 &  17.0940\\\\\n\t 89 & 299-29-0180 & B & Member & Female & Home and lifestyle  & 52.18 & 7 & 18.263 & 10:54 & Cash & 365.26 & 4.761905 & 18.263 & 9.3 & 383.523 & 383.5230\\\\\n\\end{tabular}\n",
            "text/markdown": "\nA data.frame: 12242 × 17\n\n| Date &lt;dbl&gt; | Invoice.ID &lt;chr&gt; | Branch &lt;chr&gt; | Customer.type &lt;chr&gt; | Gender &lt;chr&gt; | Product.line &lt;chr&gt; | Unit.price &lt;dbl&gt; | Quantity &lt;int&gt; | Tax &lt;dbl&gt; | Time &lt;chr&gt; | Payment &lt;chr&gt; | cogs &lt;dbl&gt; | gross.margin.percentage &lt;dbl&gt; | gross.income &lt;dbl&gt; | Rating &lt;dbl&gt; | Total &lt;dbl&gt; | Sales &lt;dbl&gt; |\n|---|---|---|---|---|---|---|---|---|---|---|---|---|---|---|---|---|\n| 1 | 556-97-7101 | C | Normal | Female | Electronic accessories | 63.22 | 2 |  6.322 | 15:51 | Cash | 126.44 | 4.761905 |  6.322 | 8.5 | 132.762 | 132.762 |\n| 1 | 556-97-7101 | C | Normal | Female | Electronic accessories | 63.22 | 2 |  6.322 | 15:51 | Cash | 126.44 | 4.761905 |  6.322 | 8.5 | 132.762 | 621.243 |\n| 1 | 556-97-7101 | C | Normal | Female | Electronic accessories | 63.22 | 2 |  6.322 | 15:51 | Cash | 126.44 | 4.761905 |  6.322 | 8.5 | 132.762 | 132.027 |\n| 1 | 556-97-7101 | C | Normal | Female | Electronic accessories | 63.22 | 2 |  6.322 | 15:51 | Cash | 126.44 | 4.761905 |  6.322 | 8.5 | 132.762 | 184.086 |\n| 1 | 556-97-7101 | C | Normal | Female | Electronic accessories | 63.22 | 2 |  6.322 | 15:51 | Cash | 126.44 | 4.761905 |  6.322 | 8.5 | 132.762 | 457.443 |\n| 1 | 556-97-7101 | C | Normal | Female | Electronic accessories | 63.22 | 2 |  6.322 | 15:51 | Cash | 126.44 | 4.761905 |  6.322 | 8.5 | 132.762 | 399.756 |\n| 1 | 556-97-7101 | C | Normal | Female | Electronic accessories | 63.22 | 2 |  6.322 | 15:51 | Cash | 126.44 | 4.761905 |  6.322 | 8.5 | 132.762 | 779.310 |\n| 1 | 556-97-7101 | C | Normal | Female | Electronic accessories | 63.22 | 2 |  6.322 | 15:51 | Cash | 126.44 | 4.761905 |  6.322 | 8.5 | 132.762 | 470.673 |\n| 1 | 556-97-7101 | C | Normal | Female | Electronic accessories | 63.22 | 2 |  6.322 | 15:51 | Cash | 126.44 | 4.761905 |  6.322 | 8.5 | 132.762 | 888.615 |\n| 1 | 556-97-7101 | C | Normal | Female | Electronic accessories | 63.22 | 2 |  6.322 | 15:51 | Cash | 126.44 | 4.761905 |  6.322 | 8.5 | 132.762 | 388.290 |\n| 1 | 556-97-7101 | C | Normal | Female | Electronic accessories | 63.22 | 2 |  6.322 | 15:51 | Cash | 126.44 | 4.761905 |  6.322 | 8.5 | 132.762 | 177.408 |\n| 1 | 556-97-7101 | C | Normal | Female | Electronic accessories | 63.22 | 2 |  6.322 | 15:51 | Cash | 126.44 | 4.761905 |  6.322 | 8.5 | 132.762 | 113.568 |\n| 1 | 651-88-7328 | A | Normal | Female | Fashion accessories    | 65.74 | 9 | 29.583 | 13:55 | Cash | 591.66 | 4.761905 | 29.583 | 7.7 | 621.243 | 132.762 |\n| 1 | 651-88-7328 | A | Normal | Female | Fashion accessories    | 65.74 | 9 | 29.583 | 13:55 | Cash | 591.66 | 4.761905 | 29.583 | 7.7 | 621.243 | 621.243 |\n| 1 | 651-88-7328 | A | Normal | Female | Fashion accessories    | 65.74 | 9 | 29.583 | 13:55 | Cash | 591.66 | 4.761905 | 29.583 | 7.7 | 621.243 | 132.027 |\n| 1 | 651-88-7328 | A | Normal | Female | Fashion accessories    | 65.74 | 9 | 29.583 | 13:55 | Cash | 591.66 | 4.761905 | 29.583 | 7.7 | 621.243 | 184.086 |\n| 1 | 651-88-7328 | A | Normal | Female | Fashion accessories    | 65.74 | 9 | 29.583 | 13:55 | Cash | 591.66 | 4.761905 | 29.583 | 7.7 | 621.243 | 457.443 |\n| 1 | 651-88-7328 | A | Normal | Female | Fashion accessories    | 65.74 | 9 | 29.583 | 13:55 | Cash | 591.66 | 4.761905 | 29.583 | 7.7 | 621.243 | 399.756 |\n| 1 | 651-88-7328 | A | Normal | Female | Fashion accessories    | 65.74 | 9 | 29.583 | 13:55 | Cash | 591.66 | 4.761905 | 29.583 | 7.7 | 621.243 | 779.310 |\n| 1 | 651-88-7328 | A | Normal | Female | Fashion accessories    | 65.74 | 9 | 29.583 | 13:55 | Cash | 591.66 | 4.761905 | 29.583 | 7.7 | 621.243 | 470.673 |\n| 1 | 651-88-7328 | A | Normal | Female | Fashion accessories    | 65.74 | 9 | 29.583 | 13:55 | Cash | 591.66 | 4.761905 | 29.583 | 7.7 | 621.243 | 888.615 |\n| 1 | 651-88-7328 | A | Normal | Female | Fashion accessories    | 65.74 | 9 | 29.583 | 13:55 | Cash | 591.66 | 4.761905 | 29.583 | 7.7 | 621.243 | 388.290 |\n| 1 | 651-88-7328 | A | Normal | Female | Fashion accessories    | 65.74 | 9 | 29.583 | 13:55 | Cash | 591.66 | 4.761905 | 29.583 | 7.7 | 621.243 | 177.408 |\n| 1 | 651-88-7328 | A | Normal | Female | Fashion accessories    | 65.74 | 9 | 29.583 | 13:55 | Cash | 591.66 | 4.761905 | 29.583 | 7.7 | 621.243 | 113.568 |\n| 1 | 133-14-7229 | C | Normal | Male   | Health and beauty      | 62.87 | 2 |  6.287 | 11:43 | Cash | 125.74 | 4.761905 |  6.287 | 5.0 | 132.027 | 132.762 |\n| 1 | 133-14-7229 | C | Normal | Male   | Health and beauty      | 62.87 | 2 |  6.287 | 11:43 | Cash | 125.74 | 4.761905 |  6.287 | 5.0 | 132.027 | 621.243 |\n| 1 | 133-14-7229 | C | Normal | Male   | Health and beauty      | 62.87 | 2 |  6.287 | 11:43 | Cash | 125.74 | 4.761905 |  6.287 | 5.0 | 132.027 | 132.027 |\n| 1 | 133-14-7229 | C | Normal | Male   | Health and beauty      | 62.87 | 2 |  6.287 | 11:43 | Cash | 125.74 | 4.761905 |  6.287 | 5.0 | 132.027 | 184.086 |\n| 1 | 133-14-7229 | C | Normal | Male   | Health and beauty      | 62.87 | 2 |  6.287 | 11:43 | Cash | 125.74 | 4.761905 |  6.287 | 5.0 | 132.027 | 457.443 |\n| 1 | 133-14-7229 | C | Normal | Male   | Health and beauty      | 62.87 | 2 |  6.287 | 11:43 | Cash | 125.74 | 4.761905 |  6.287 | 5.0 | 132.027 | 399.756 |\n| ⋮ | ⋮ | ⋮ | ⋮ | ⋮ | ⋮ | ⋮ | ⋮ | ⋮ | ⋮ | ⋮ | ⋮ | ⋮ | ⋮ | ⋮ | ⋮ | ⋮ |\n| 89 | 489-64-4354 | C | Normal | Male   | Fashion accessories | 16.28 | 1 |  0.814 | 15:36 | Cash |  16.28 | 4.761905 |  0.814 | 5.0 |  17.094 | 935.2665 |\n| 89 | 489-64-4354 | C | Normal | Male   | Fashion accessories | 16.28 | 1 |  0.814 | 15:36 | Cash |  16.28 | 4.761905 |  0.814 | 5.0 |  17.094 | 944.6220 |\n| 89 | 489-64-4354 | C | Normal | Male   | Fashion accessories | 16.28 | 1 |  0.814 | 15:36 | Cash |  16.28 | 4.761905 |  0.814 | 5.0 |  17.094 | 107.1420 |\n| 89 | 489-64-4354 | C | Normal | Male   | Fashion accessories | 16.28 | 1 |  0.814 | 15:36 | Cash |  16.28 | 4.761905 |  0.814 | 5.0 |  17.094 | 545.3700 |\n| 89 | 489-64-4354 | C | Normal | Male   | Fashion accessories | 16.28 | 1 |  0.814 | 15:36 | Cash |  16.28 | 4.761905 |  0.814 | 5.0 |  17.094 | 548.7300 |\n| 89 | 489-64-4354 | C | Normal | Male   | Fashion accessories | 16.28 | 1 |  0.814 | 15:36 | Cash |  16.28 | 4.761905 |  0.814 | 5.0 |  17.094 | 256.7775 |\n| 89 | 489-64-4354 | C | Normal | Male   | Fashion accessories | 16.28 | 1 |  0.814 | 15:36 | Cash |  16.28 | 4.761905 |  0.814 | 5.0 |  17.094 | 702.2190 |\n| 89 | 489-64-4354 | C | Normal | Male   | Fashion accessories | 16.28 | 1 |  0.814 | 15:36 | Cash |  16.28 | 4.761905 |  0.814 | 5.0 |  17.094 | 817.2360 |\n| 89 | 489-64-4354 | C | Normal | Male   | Fashion accessories | 16.28 | 1 |  0.814 | 15:36 | Cash |  16.28 | 4.761905 |  0.814 | 5.0 |  17.094 | 474.3480 |\n| 89 | 489-64-4354 | C | Normal | Male   | Fashion accessories | 16.28 | 1 |  0.814 | 15:36 | Cash |  16.28 | 4.761905 |  0.814 | 5.0 |  17.094 | 394.6320 |\n| 89 | 489-64-4354 | C | Normal | Male   | Fashion accessories | 16.28 | 1 |  0.814 | 15:36 | Cash |  16.28 | 4.761905 |  0.814 | 5.0 |  17.094 | 127.8270 |\n| 89 | 489-64-4354 | C | Normal | Male   | Fashion accessories | 16.28 | 1 |  0.814 | 15:36 | Cash |  16.28 | 4.761905 |  0.814 | 5.0 |  17.094 | 217.1820 |\n| 89 | 489-64-4354 | C | Normal | Male   | Fashion accessories | 16.28 | 1 |  0.814 | 15:36 | Cash |  16.28 | 4.761905 |  0.814 | 5.0 |  17.094 |  17.0940 |\n| 89 | 489-64-4354 | C | Normal | Male   | Fashion accessories | 16.28 | 1 |  0.814 | 15:36 | Cash |  16.28 | 4.761905 |  0.814 | 5.0 |  17.094 | 383.5230 |\n| 89 | 299-29-0180 | B | Member | Female | Home and lifestyle  | 52.18 | 7 | 18.263 | 10:54 | Cash | 365.26 | 4.761905 | 18.263 | 9.3 | 383.523 | 523.8450 |\n| 89 | 299-29-0180 | B | Member | Female | Home and lifestyle  | 52.18 | 7 | 18.263 | 10:54 | Cash | 365.26 | 4.761905 | 18.263 | 9.3 | 383.523 | 478.2330 |\n| 89 | 299-29-0180 | B | Member | Female | Home and lifestyle  | 52.18 | 7 | 18.263 | 10:54 | Cash | 365.26 | 4.761905 | 18.263 | 9.3 | 383.523 | 935.2665 |\n| 89 | 299-29-0180 | B | Member | Female | Home and lifestyle  | 52.18 | 7 | 18.263 | 10:54 | Cash | 365.26 | 4.761905 | 18.263 | 9.3 | 383.523 | 944.6220 |\n| 89 | 299-29-0180 | B | Member | Female | Home and lifestyle  | 52.18 | 7 | 18.263 | 10:54 | Cash | 365.26 | 4.761905 | 18.263 | 9.3 | 383.523 | 107.1420 |\n| 89 | 299-29-0180 | B | Member | Female | Home and lifestyle  | 52.18 | 7 | 18.263 | 10:54 | Cash | 365.26 | 4.761905 | 18.263 | 9.3 | 383.523 | 545.3700 |\n| 89 | 299-29-0180 | B | Member | Female | Home and lifestyle  | 52.18 | 7 | 18.263 | 10:54 | Cash | 365.26 | 4.761905 | 18.263 | 9.3 | 383.523 | 548.7300 |\n| 89 | 299-29-0180 | B | Member | Female | Home and lifestyle  | 52.18 | 7 | 18.263 | 10:54 | Cash | 365.26 | 4.761905 | 18.263 | 9.3 | 383.523 | 256.7775 |\n| 89 | 299-29-0180 | B | Member | Female | Home and lifestyle  | 52.18 | 7 | 18.263 | 10:54 | Cash | 365.26 | 4.761905 | 18.263 | 9.3 | 383.523 | 702.2190 |\n| 89 | 299-29-0180 | B | Member | Female | Home and lifestyle  | 52.18 | 7 | 18.263 | 10:54 | Cash | 365.26 | 4.761905 | 18.263 | 9.3 | 383.523 | 817.2360 |\n| 89 | 299-29-0180 | B | Member | Female | Home and lifestyle  | 52.18 | 7 | 18.263 | 10:54 | Cash | 365.26 | 4.761905 | 18.263 | 9.3 | 383.523 | 474.3480 |\n| 89 | 299-29-0180 | B | Member | Female | Home and lifestyle  | 52.18 | 7 | 18.263 | 10:54 | Cash | 365.26 | 4.761905 | 18.263 | 9.3 | 383.523 | 394.6320 |\n| 89 | 299-29-0180 | B | Member | Female | Home and lifestyle  | 52.18 | 7 | 18.263 | 10:54 | Cash | 365.26 | 4.761905 | 18.263 | 9.3 | 383.523 | 127.8270 |\n| 89 | 299-29-0180 | B | Member | Female | Home and lifestyle  | 52.18 | 7 | 18.263 | 10:54 | Cash | 365.26 | 4.761905 | 18.263 | 9.3 | 383.523 | 217.1820 |\n| 89 | 299-29-0180 | B | Member | Female | Home and lifestyle  | 52.18 | 7 | 18.263 | 10:54 | Cash | 365.26 | 4.761905 | 18.263 | 9.3 | 383.523 |  17.0940 |\n| 89 | 299-29-0180 | B | Member | Female | Home and lifestyle  | 52.18 | 7 | 18.263 | 10:54 | Cash | 365.26 | 4.761905 | 18.263 | 9.3 | 383.523 | 383.5230 |\n\n",
            "text/html": [
              "<table class=\"dataframe\">\n",
              "<caption>A data.frame: 12242 × 17</caption>\n",
              "<thead>\n",
              "\t<tr><th scope=col>Date</th><th scope=col>Invoice.ID</th><th scope=col>Branch</th><th scope=col>Customer.type</th><th scope=col>Gender</th><th scope=col>Product.line</th><th scope=col>Unit.price</th><th scope=col>Quantity</th><th scope=col>Tax</th><th scope=col>Time</th><th scope=col>Payment</th><th scope=col>cogs</th><th scope=col>gross.margin.percentage</th><th scope=col>gross.income</th><th scope=col>Rating</th><th scope=col>Total</th><th scope=col>Sales</th></tr>\n",
              "\t<tr><th scope=col>&lt;dbl&gt;</th><th scope=col>&lt;chr&gt;</th><th scope=col>&lt;chr&gt;</th><th scope=col>&lt;chr&gt;</th><th scope=col>&lt;chr&gt;</th><th scope=col>&lt;chr&gt;</th><th scope=col>&lt;dbl&gt;</th><th scope=col>&lt;int&gt;</th><th scope=col>&lt;dbl&gt;</th><th scope=col>&lt;chr&gt;</th><th scope=col>&lt;chr&gt;</th><th scope=col>&lt;dbl&gt;</th><th scope=col>&lt;dbl&gt;</th><th scope=col>&lt;dbl&gt;</th><th scope=col>&lt;dbl&gt;</th><th scope=col>&lt;dbl&gt;</th><th scope=col>&lt;dbl&gt;</th></tr>\n",
              "</thead>\n",
              "<tbody>\n",
              "\t<tr><td>1</td><td>556-97-7101</td><td>C</td><td>Normal</td><td>Female</td><td>Electronic accessories</td><td>63.22</td><td>2</td><td> 6.322</td><td>15:51</td><td>Cash</td><td>126.44</td><td>4.761905</td><td> 6.322</td><td>8.5</td><td>132.762</td><td>132.762</td></tr>\n",
              "\t<tr><td>1</td><td>556-97-7101</td><td>C</td><td>Normal</td><td>Female</td><td>Electronic accessories</td><td>63.22</td><td>2</td><td> 6.322</td><td>15:51</td><td>Cash</td><td>126.44</td><td>4.761905</td><td> 6.322</td><td>8.5</td><td>132.762</td><td>621.243</td></tr>\n",
              "\t<tr><td>1</td><td>556-97-7101</td><td>C</td><td>Normal</td><td>Female</td><td>Electronic accessories</td><td>63.22</td><td>2</td><td> 6.322</td><td>15:51</td><td>Cash</td><td>126.44</td><td>4.761905</td><td> 6.322</td><td>8.5</td><td>132.762</td><td>132.027</td></tr>\n",
              "\t<tr><td>1</td><td>556-97-7101</td><td>C</td><td>Normal</td><td>Female</td><td>Electronic accessories</td><td>63.22</td><td>2</td><td> 6.322</td><td>15:51</td><td>Cash</td><td>126.44</td><td>4.761905</td><td> 6.322</td><td>8.5</td><td>132.762</td><td>184.086</td></tr>\n",
              "\t<tr><td>1</td><td>556-97-7101</td><td>C</td><td>Normal</td><td>Female</td><td>Electronic accessories</td><td>63.22</td><td>2</td><td> 6.322</td><td>15:51</td><td>Cash</td><td>126.44</td><td>4.761905</td><td> 6.322</td><td>8.5</td><td>132.762</td><td>457.443</td></tr>\n",
              "\t<tr><td>1</td><td>556-97-7101</td><td>C</td><td>Normal</td><td>Female</td><td>Electronic accessories</td><td>63.22</td><td>2</td><td> 6.322</td><td>15:51</td><td>Cash</td><td>126.44</td><td>4.761905</td><td> 6.322</td><td>8.5</td><td>132.762</td><td>399.756</td></tr>\n",
              "\t<tr><td>1</td><td>556-97-7101</td><td>C</td><td>Normal</td><td>Female</td><td>Electronic accessories</td><td>63.22</td><td>2</td><td> 6.322</td><td>15:51</td><td>Cash</td><td>126.44</td><td>4.761905</td><td> 6.322</td><td>8.5</td><td>132.762</td><td>779.310</td></tr>\n",
              "\t<tr><td>1</td><td>556-97-7101</td><td>C</td><td>Normal</td><td>Female</td><td>Electronic accessories</td><td>63.22</td><td>2</td><td> 6.322</td><td>15:51</td><td>Cash</td><td>126.44</td><td>4.761905</td><td> 6.322</td><td>8.5</td><td>132.762</td><td>470.673</td></tr>\n",
              "\t<tr><td>1</td><td>556-97-7101</td><td>C</td><td>Normal</td><td>Female</td><td>Electronic accessories</td><td>63.22</td><td>2</td><td> 6.322</td><td>15:51</td><td>Cash</td><td>126.44</td><td>4.761905</td><td> 6.322</td><td>8.5</td><td>132.762</td><td>888.615</td></tr>\n",
              "\t<tr><td>1</td><td>556-97-7101</td><td>C</td><td>Normal</td><td>Female</td><td>Electronic accessories</td><td>63.22</td><td>2</td><td> 6.322</td><td>15:51</td><td>Cash</td><td>126.44</td><td>4.761905</td><td> 6.322</td><td>8.5</td><td>132.762</td><td>388.290</td></tr>\n",
              "\t<tr><td>1</td><td>556-97-7101</td><td>C</td><td>Normal</td><td>Female</td><td>Electronic accessories</td><td>63.22</td><td>2</td><td> 6.322</td><td>15:51</td><td>Cash</td><td>126.44</td><td>4.761905</td><td> 6.322</td><td>8.5</td><td>132.762</td><td>177.408</td></tr>\n",
              "\t<tr><td>1</td><td>556-97-7101</td><td>C</td><td>Normal</td><td>Female</td><td>Electronic accessories</td><td>63.22</td><td>2</td><td> 6.322</td><td>15:51</td><td>Cash</td><td>126.44</td><td>4.761905</td><td> 6.322</td><td>8.5</td><td>132.762</td><td>113.568</td></tr>\n",
              "\t<tr><td>1</td><td>651-88-7328</td><td>A</td><td>Normal</td><td>Female</td><td>Fashion accessories   </td><td>65.74</td><td>9</td><td>29.583</td><td>13:55</td><td>Cash</td><td>591.66</td><td>4.761905</td><td>29.583</td><td>7.7</td><td>621.243</td><td>132.762</td></tr>\n",
              "\t<tr><td>1</td><td>651-88-7328</td><td>A</td><td>Normal</td><td>Female</td><td>Fashion accessories   </td><td>65.74</td><td>9</td><td>29.583</td><td>13:55</td><td>Cash</td><td>591.66</td><td>4.761905</td><td>29.583</td><td>7.7</td><td>621.243</td><td>621.243</td></tr>\n",
              "\t<tr><td>1</td><td>651-88-7328</td><td>A</td><td>Normal</td><td>Female</td><td>Fashion accessories   </td><td>65.74</td><td>9</td><td>29.583</td><td>13:55</td><td>Cash</td><td>591.66</td><td>4.761905</td><td>29.583</td><td>7.7</td><td>621.243</td><td>132.027</td></tr>\n",
              "\t<tr><td>1</td><td>651-88-7328</td><td>A</td><td>Normal</td><td>Female</td><td>Fashion accessories   </td><td>65.74</td><td>9</td><td>29.583</td><td>13:55</td><td>Cash</td><td>591.66</td><td>4.761905</td><td>29.583</td><td>7.7</td><td>621.243</td><td>184.086</td></tr>\n",
              "\t<tr><td>1</td><td>651-88-7328</td><td>A</td><td>Normal</td><td>Female</td><td>Fashion accessories   </td><td>65.74</td><td>9</td><td>29.583</td><td>13:55</td><td>Cash</td><td>591.66</td><td>4.761905</td><td>29.583</td><td>7.7</td><td>621.243</td><td>457.443</td></tr>\n",
              "\t<tr><td>1</td><td>651-88-7328</td><td>A</td><td>Normal</td><td>Female</td><td>Fashion accessories   </td><td>65.74</td><td>9</td><td>29.583</td><td>13:55</td><td>Cash</td><td>591.66</td><td>4.761905</td><td>29.583</td><td>7.7</td><td>621.243</td><td>399.756</td></tr>\n",
              "\t<tr><td>1</td><td>651-88-7328</td><td>A</td><td>Normal</td><td>Female</td><td>Fashion accessories   </td><td>65.74</td><td>9</td><td>29.583</td><td>13:55</td><td>Cash</td><td>591.66</td><td>4.761905</td><td>29.583</td><td>7.7</td><td>621.243</td><td>779.310</td></tr>\n",
              "\t<tr><td>1</td><td>651-88-7328</td><td>A</td><td>Normal</td><td>Female</td><td>Fashion accessories   </td><td>65.74</td><td>9</td><td>29.583</td><td>13:55</td><td>Cash</td><td>591.66</td><td>4.761905</td><td>29.583</td><td>7.7</td><td>621.243</td><td>470.673</td></tr>\n",
              "\t<tr><td>1</td><td>651-88-7328</td><td>A</td><td>Normal</td><td>Female</td><td>Fashion accessories   </td><td>65.74</td><td>9</td><td>29.583</td><td>13:55</td><td>Cash</td><td>591.66</td><td>4.761905</td><td>29.583</td><td>7.7</td><td>621.243</td><td>888.615</td></tr>\n",
              "\t<tr><td>1</td><td>651-88-7328</td><td>A</td><td>Normal</td><td>Female</td><td>Fashion accessories   </td><td>65.74</td><td>9</td><td>29.583</td><td>13:55</td><td>Cash</td><td>591.66</td><td>4.761905</td><td>29.583</td><td>7.7</td><td>621.243</td><td>388.290</td></tr>\n",
              "\t<tr><td>1</td><td>651-88-7328</td><td>A</td><td>Normal</td><td>Female</td><td>Fashion accessories   </td><td>65.74</td><td>9</td><td>29.583</td><td>13:55</td><td>Cash</td><td>591.66</td><td>4.761905</td><td>29.583</td><td>7.7</td><td>621.243</td><td>177.408</td></tr>\n",
              "\t<tr><td>1</td><td>651-88-7328</td><td>A</td><td>Normal</td><td>Female</td><td>Fashion accessories   </td><td>65.74</td><td>9</td><td>29.583</td><td>13:55</td><td>Cash</td><td>591.66</td><td>4.761905</td><td>29.583</td><td>7.7</td><td>621.243</td><td>113.568</td></tr>\n",
              "\t<tr><td>1</td><td>133-14-7229</td><td>C</td><td>Normal</td><td>Male  </td><td>Health and beauty     </td><td>62.87</td><td>2</td><td> 6.287</td><td>11:43</td><td>Cash</td><td>125.74</td><td>4.761905</td><td> 6.287</td><td>5.0</td><td>132.027</td><td>132.762</td></tr>\n",
              "\t<tr><td>1</td><td>133-14-7229</td><td>C</td><td>Normal</td><td>Male  </td><td>Health and beauty     </td><td>62.87</td><td>2</td><td> 6.287</td><td>11:43</td><td>Cash</td><td>125.74</td><td>4.761905</td><td> 6.287</td><td>5.0</td><td>132.027</td><td>621.243</td></tr>\n",
              "\t<tr><td>1</td><td>133-14-7229</td><td>C</td><td>Normal</td><td>Male  </td><td>Health and beauty     </td><td>62.87</td><td>2</td><td> 6.287</td><td>11:43</td><td>Cash</td><td>125.74</td><td>4.761905</td><td> 6.287</td><td>5.0</td><td>132.027</td><td>132.027</td></tr>\n",
              "\t<tr><td>1</td><td>133-14-7229</td><td>C</td><td>Normal</td><td>Male  </td><td>Health and beauty     </td><td>62.87</td><td>2</td><td> 6.287</td><td>11:43</td><td>Cash</td><td>125.74</td><td>4.761905</td><td> 6.287</td><td>5.0</td><td>132.027</td><td>184.086</td></tr>\n",
              "\t<tr><td>1</td><td>133-14-7229</td><td>C</td><td>Normal</td><td>Male  </td><td>Health and beauty     </td><td>62.87</td><td>2</td><td> 6.287</td><td>11:43</td><td>Cash</td><td>125.74</td><td>4.761905</td><td> 6.287</td><td>5.0</td><td>132.027</td><td>457.443</td></tr>\n",
              "\t<tr><td>1</td><td>133-14-7229</td><td>C</td><td>Normal</td><td>Male  </td><td>Health and beauty     </td><td>62.87</td><td>2</td><td> 6.287</td><td>11:43</td><td>Cash</td><td>125.74</td><td>4.761905</td><td> 6.287</td><td>5.0</td><td>132.027</td><td>399.756</td></tr>\n",
              "\t<tr><td>⋮</td><td>⋮</td><td>⋮</td><td>⋮</td><td>⋮</td><td>⋮</td><td>⋮</td><td>⋮</td><td>⋮</td><td>⋮</td><td>⋮</td><td>⋮</td><td>⋮</td><td>⋮</td><td>⋮</td><td>⋮</td><td>⋮</td></tr>\n",
              "\t<tr><td>89</td><td>489-64-4354</td><td>C</td><td>Normal</td><td>Male  </td><td>Fashion accessories</td><td>16.28</td><td>1</td><td> 0.814</td><td>15:36</td><td>Cash</td><td> 16.28</td><td>4.761905</td><td> 0.814</td><td>5.0</td><td> 17.094</td><td>935.2665</td></tr>\n",
              "\t<tr><td>89</td><td>489-64-4354</td><td>C</td><td>Normal</td><td>Male  </td><td>Fashion accessories</td><td>16.28</td><td>1</td><td> 0.814</td><td>15:36</td><td>Cash</td><td> 16.28</td><td>4.761905</td><td> 0.814</td><td>5.0</td><td> 17.094</td><td>944.6220</td></tr>\n",
              "\t<tr><td>89</td><td>489-64-4354</td><td>C</td><td>Normal</td><td>Male  </td><td>Fashion accessories</td><td>16.28</td><td>1</td><td> 0.814</td><td>15:36</td><td>Cash</td><td> 16.28</td><td>4.761905</td><td> 0.814</td><td>5.0</td><td> 17.094</td><td>107.1420</td></tr>\n",
              "\t<tr><td>89</td><td>489-64-4354</td><td>C</td><td>Normal</td><td>Male  </td><td>Fashion accessories</td><td>16.28</td><td>1</td><td> 0.814</td><td>15:36</td><td>Cash</td><td> 16.28</td><td>4.761905</td><td> 0.814</td><td>5.0</td><td> 17.094</td><td>545.3700</td></tr>\n",
              "\t<tr><td>89</td><td>489-64-4354</td><td>C</td><td>Normal</td><td>Male  </td><td>Fashion accessories</td><td>16.28</td><td>1</td><td> 0.814</td><td>15:36</td><td>Cash</td><td> 16.28</td><td>4.761905</td><td> 0.814</td><td>5.0</td><td> 17.094</td><td>548.7300</td></tr>\n",
              "\t<tr><td>89</td><td>489-64-4354</td><td>C</td><td>Normal</td><td>Male  </td><td>Fashion accessories</td><td>16.28</td><td>1</td><td> 0.814</td><td>15:36</td><td>Cash</td><td> 16.28</td><td>4.761905</td><td> 0.814</td><td>5.0</td><td> 17.094</td><td>256.7775</td></tr>\n",
              "\t<tr><td>89</td><td>489-64-4354</td><td>C</td><td>Normal</td><td>Male  </td><td>Fashion accessories</td><td>16.28</td><td>1</td><td> 0.814</td><td>15:36</td><td>Cash</td><td> 16.28</td><td>4.761905</td><td> 0.814</td><td>5.0</td><td> 17.094</td><td>702.2190</td></tr>\n",
              "\t<tr><td>89</td><td>489-64-4354</td><td>C</td><td>Normal</td><td>Male  </td><td>Fashion accessories</td><td>16.28</td><td>1</td><td> 0.814</td><td>15:36</td><td>Cash</td><td> 16.28</td><td>4.761905</td><td> 0.814</td><td>5.0</td><td> 17.094</td><td>817.2360</td></tr>\n",
              "\t<tr><td>89</td><td>489-64-4354</td><td>C</td><td>Normal</td><td>Male  </td><td>Fashion accessories</td><td>16.28</td><td>1</td><td> 0.814</td><td>15:36</td><td>Cash</td><td> 16.28</td><td>4.761905</td><td> 0.814</td><td>5.0</td><td> 17.094</td><td>474.3480</td></tr>\n",
              "\t<tr><td>89</td><td>489-64-4354</td><td>C</td><td>Normal</td><td>Male  </td><td>Fashion accessories</td><td>16.28</td><td>1</td><td> 0.814</td><td>15:36</td><td>Cash</td><td> 16.28</td><td>4.761905</td><td> 0.814</td><td>5.0</td><td> 17.094</td><td>394.6320</td></tr>\n",
              "\t<tr><td>89</td><td>489-64-4354</td><td>C</td><td>Normal</td><td>Male  </td><td>Fashion accessories</td><td>16.28</td><td>1</td><td> 0.814</td><td>15:36</td><td>Cash</td><td> 16.28</td><td>4.761905</td><td> 0.814</td><td>5.0</td><td> 17.094</td><td>127.8270</td></tr>\n",
              "\t<tr><td>89</td><td>489-64-4354</td><td>C</td><td>Normal</td><td>Male  </td><td>Fashion accessories</td><td>16.28</td><td>1</td><td> 0.814</td><td>15:36</td><td>Cash</td><td> 16.28</td><td>4.761905</td><td> 0.814</td><td>5.0</td><td> 17.094</td><td>217.1820</td></tr>\n",
              "\t<tr><td>89</td><td>489-64-4354</td><td>C</td><td>Normal</td><td>Male  </td><td>Fashion accessories</td><td>16.28</td><td>1</td><td> 0.814</td><td>15:36</td><td>Cash</td><td> 16.28</td><td>4.761905</td><td> 0.814</td><td>5.0</td><td> 17.094</td><td> 17.0940</td></tr>\n",
              "\t<tr><td>89</td><td>489-64-4354</td><td>C</td><td>Normal</td><td>Male  </td><td>Fashion accessories</td><td>16.28</td><td>1</td><td> 0.814</td><td>15:36</td><td>Cash</td><td> 16.28</td><td>4.761905</td><td> 0.814</td><td>5.0</td><td> 17.094</td><td>383.5230</td></tr>\n",
              "\t<tr><td>89</td><td>299-29-0180</td><td>B</td><td>Member</td><td>Female</td><td>Home and lifestyle </td><td>52.18</td><td>7</td><td>18.263</td><td>10:54</td><td>Cash</td><td>365.26</td><td>4.761905</td><td>18.263</td><td>9.3</td><td>383.523</td><td>523.8450</td></tr>\n",
              "\t<tr><td>89</td><td>299-29-0180</td><td>B</td><td>Member</td><td>Female</td><td>Home and lifestyle </td><td>52.18</td><td>7</td><td>18.263</td><td>10:54</td><td>Cash</td><td>365.26</td><td>4.761905</td><td>18.263</td><td>9.3</td><td>383.523</td><td>478.2330</td></tr>\n",
              "\t<tr><td>89</td><td>299-29-0180</td><td>B</td><td>Member</td><td>Female</td><td>Home and lifestyle </td><td>52.18</td><td>7</td><td>18.263</td><td>10:54</td><td>Cash</td><td>365.26</td><td>4.761905</td><td>18.263</td><td>9.3</td><td>383.523</td><td>935.2665</td></tr>\n",
              "\t<tr><td>89</td><td>299-29-0180</td><td>B</td><td>Member</td><td>Female</td><td>Home and lifestyle </td><td>52.18</td><td>7</td><td>18.263</td><td>10:54</td><td>Cash</td><td>365.26</td><td>4.761905</td><td>18.263</td><td>9.3</td><td>383.523</td><td>944.6220</td></tr>\n",
              "\t<tr><td>89</td><td>299-29-0180</td><td>B</td><td>Member</td><td>Female</td><td>Home and lifestyle </td><td>52.18</td><td>7</td><td>18.263</td><td>10:54</td><td>Cash</td><td>365.26</td><td>4.761905</td><td>18.263</td><td>9.3</td><td>383.523</td><td>107.1420</td></tr>\n",
              "\t<tr><td>89</td><td>299-29-0180</td><td>B</td><td>Member</td><td>Female</td><td>Home and lifestyle </td><td>52.18</td><td>7</td><td>18.263</td><td>10:54</td><td>Cash</td><td>365.26</td><td>4.761905</td><td>18.263</td><td>9.3</td><td>383.523</td><td>545.3700</td></tr>\n",
              "\t<tr><td>89</td><td>299-29-0180</td><td>B</td><td>Member</td><td>Female</td><td>Home and lifestyle </td><td>52.18</td><td>7</td><td>18.263</td><td>10:54</td><td>Cash</td><td>365.26</td><td>4.761905</td><td>18.263</td><td>9.3</td><td>383.523</td><td>548.7300</td></tr>\n",
              "\t<tr><td>89</td><td>299-29-0180</td><td>B</td><td>Member</td><td>Female</td><td>Home and lifestyle </td><td>52.18</td><td>7</td><td>18.263</td><td>10:54</td><td>Cash</td><td>365.26</td><td>4.761905</td><td>18.263</td><td>9.3</td><td>383.523</td><td>256.7775</td></tr>\n",
              "\t<tr><td>89</td><td>299-29-0180</td><td>B</td><td>Member</td><td>Female</td><td>Home and lifestyle </td><td>52.18</td><td>7</td><td>18.263</td><td>10:54</td><td>Cash</td><td>365.26</td><td>4.761905</td><td>18.263</td><td>9.3</td><td>383.523</td><td>702.2190</td></tr>\n",
              "\t<tr><td>89</td><td>299-29-0180</td><td>B</td><td>Member</td><td>Female</td><td>Home and lifestyle </td><td>52.18</td><td>7</td><td>18.263</td><td>10:54</td><td>Cash</td><td>365.26</td><td>4.761905</td><td>18.263</td><td>9.3</td><td>383.523</td><td>817.2360</td></tr>\n",
              "\t<tr><td>89</td><td>299-29-0180</td><td>B</td><td>Member</td><td>Female</td><td>Home and lifestyle </td><td>52.18</td><td>7</td><td>18.263</td><td>10:54</td><td>Cash</td><td>365.26</td><td>4.761905</td><td>18.263</td><td>9.3</td><td>383.523</td><td>474.3480</td></tr>\n",
              "\t<tr><td>89</td><td>299-29-0180</td><td>B</td><td>Member</td><td>Female</td><td>Home and lifestyle </td><td>52.18</td><td>7</td><td>18.263</td><td>10:54</td><td>Cash</td><td>365.26</td><td>4.761905</td><td>18.263</td><td>9.3</td><td>383.523</td><td>394.6320</td></tr>\n",
              "\t<tr><td>89</td><td>299-29-0180</td><td>B</td><td>Member</td><td>Female</td><td>Home and lifestyle </td><td>52.18</td><td>7</td><td>18.263</td><td>10:54</td><td>Cash</td><td>365.26</td><td>4.761905</td><td>18.263</td><td>9.3</td><td>383.523</td><td>127.8270</td></tr>\n",
              "\t<tr><td>89</td><td>299-29-0180</td><td>B</td><td>Member</td><td>Female</td><td>Home and lifestyle </td><td>52.18</td><td>7</td><td>18.263</td><td>10:54</td><td>Cash</td><td>365.26</td><td>4.761905</td><td>18.263</td><td>9.3</td><td>383.523</td><td>217.1820</td></tr>\n",
              "\t<tr><td>89</td><td>299-29-0180</td><td>B</td><td>Member</td><td>Female</td><td>Home and lifestyle </td><td>52.18</td><td>7</td><td>18.263</td><td>10:54</td><td>Cash</td><td>365.26</td><td>4.761905</td><td>18.263</td><td>9.3</td><td>383.523</td><td> 17.0940</td></tr>\n",
              "\t<tr><td>89</td><td>299-29-0180</td><td>B</td><td>Member</td><td>Female</td><td>Home and lifestyle </td><td>52.18</td><td>7</td><td>18.263</td><td>10:54</td><td>Cash</td><td>365.26</td><td>4.761905</td><td>18.263</td><td>9.3</td><td>383.523</td><td>383.5230</td></tr>\n",
              "</tbody>\n",
              "</table>\n"
            ]
          },
          "metadata": {}
        }
      ]
    },
    {
      "cell_type": "markdown",
      "metadata": {
        "id": "PMEOseoJ_V_W"
      },
      "source": [
        "Encoding categorical data"
      ]
    },
    {
      "cell_type": "code",
      "metadata": {
        "id": "r25b3bIg_IQk"
      },
      "source": [
        "#customer type column\n",
        "sales$Customer.type= factor(sales$Customer.type,\n",
        "                       levels = c('Normal', 'Member'),\n",
        "                       labels = c(1,2))"
      ],
      "execution_count": 25,
      "outputs": []
    },
    {
      "cell_type": "code",
      "metadata": {
        "id": "6c3UVxt-AzGf"
      },
      "source": [
        "#Branch column\n",
        "sales$Branch = factor(sales$Branch,\n",
        "                       levels = c('C', 'A', 'B'),\n",
        "                       labels = c(1,2,3))"
      ],
      "execution_count": 26,
      "outputs": []
    },
    {
      "cell_type": "code",
      "metadata": {
        "id": "w39b2AhVA6n1"
      },
      "source": [
        "#Gender column\n",
        "sales$Gender = factor(sales$Gender,\n",
        "                       levels = c('Female', 'Male'),\n",
        "                       labels = c(1,2))"
      ],
      "execution_count": 27,
      "outputs": []
    },
    {
      "cell_type": "code",
      "metadata": {
        "id": "IasVxa2pA_k3"
      },
      "source": [
        "#Product line column\n",
        "sales$Product.line = factor(sales$Product.line,\n",
        "                       levels = c('Electronic accessories', 'Fashion accessories', 'Health and beauty', 'Sports and travel', 'Home and lifestyle', 'Food and beverages'),\n",
        "                       labels = c(1,2,3,4,5,6))"
      ],
      "execution_count": 28,
      "outputs": []
    },
    {
      "cell_type": "code",
      "metadata": {
        "id": "n7GcZSUdBQJK"
      },
      "source": [
        "#Payment column\n",
        "sales$Payment = factor(sales$Payment,\n",
        "                       levels = c('Cash', 'Ewallet', 'Credit card'),\n",
        "                       labels = c(1,2,3))"
      ],
      "execution_count": 29,
      "outputs": []
    },
    {
      "cell_type": "code",
      "metadata": {
        "colab": {
          "base_uri": "https://localhost:8080/",
          "height": 306
        },
        "id": "aacpm8q9IK_H",
        "outputId": "c9f02708-0e7a-4a42-89f9-395230ff0387"
      },
      "source": [
        "head(sales)"
      ],
      "execution_count": 30,
      "outputs": [
        {
          "output_type": "display_data",
          "data": {
            "text/plain": [
              "  Date Invoice.ID  Branch Customer.type Gender Product.line Unit.price Quantity\n",
              "1 1    556-97-7101 1      1             1      1            63.22      2       \n",
              "2 1    556-97-7101 1      1             1      1            63.22      2       \n",
              "3 1    556-97-7101 1      1             1      1            63.22      2       \n",
              "4 1    556-97-7101 1      1             1      1            63.22      2       \n",
              "5 1    556-97-7101 1      1             1      1            63.22      2       \n",
              "6 1    556-97-7101 1      1             1      1            63.22      2       \n",
              "  Tax   Time  Payment cogs   gross.margin.percentage gross.income Rating\n",
              "1 6.322 15:51 1       126.44 4.761905                6.322        8.5   \n",
              "2 6.322 15:51 1       126.44 4.761905                6.322        8.5   \n",
              "3 6.322 15:51 1       126.44 4.761905                6.322        8.5   \n",
              "4 6.322 15:51 1       126.44 4.761905                6.322        8.5   \n",
              "5 6.322 15:51 1       126.44 4.761905                6.322        8.5   \n",
              "6 6.322 15:51 1       126.44 4.761905                6.322        8.5   \n",
              "  Total   Sales  \n",
              "1 132.762 132.762\n",
              "2 132.762 621.243\n",
              "3 132.762 132.027\n",
              "4 132.762 184.086\n",
              "5 132.762 457.443\n",
              "6 132.762 399.756"
            ],
            "text/latex": "A data.frame: 6 × 17\n\\begin{tabular}{r|lllllllllllllllll}\n  & Date & Invoice.ID & Branch & Customer.type & Gender & Product.line & Unit.price & Quantity & Tax & Time & Payment & cogs & gross.margin.percentage & gross.income & Rating & Total & Sales\\\\\n  & <dbl> & <chr> & <fct> & <fct> & <fct> & <fct> & <dbl> & <int> & <dbl> & <chr> & <fct> & <dbl> & <dbl> & <dbl> & <dbl> & <dbl> & <dbl>\\\\\n\\hline\n\t1 & 1 & 556-97-7101 & 1 & 1 & 1 & 1 & 63.22 & 2 & 6.322 & 15:51 & 1 & 126.44 & 4.761905 & 6.322 & 8.5 & 132.762 & 132.762\\\\\n\t2 & 1 & 556-97-7101 & 1 & 1 & 1 & 1 & 63.22 & 2 & 6.322 & 15:51 & 1 & 126.44 & 4.761905 & 6.322 & 8.5 & 132.762 & 621.243\\\\\n\t3 & 1 & 556-97-7101 & 1 & 1 & 1 & 1 & 63.22 & 2 & 6.322 & 15:51 & 1 & 126.44 & 4.761905 & 6.322 & 8.5 & 132.762 & 132.027\\\\\n\t4 & 1 & 556-97-7101 & 1 & 1 & 1 & 1 & 63.22 & 2 & 6.322 & 15:51 & 1 & 126.44 & 4.761905 & 6.322 & 8.5 & 132.762 & 184.086\\\\\n\t5 & 1 & 556-97-7101 & 1 & 1 & 1 & 1 & 63.22 & 2 & 6.322 & 15:51 & 1 & 126.44 & 4.761905 & 6.322 & 8.5 & 132.762 & 457.443\\\\\n\t6 & 1 & 556-97-7101 & 1 & 1 & 1 & 1 & 63.22 & 2 & 6.322 & 15:51 & 1 & 126.44 & 4.761905 & 6.322 & 8.5 & 132.762 & 399.756\\\\\n\\end{tabular}\n",
            "text/markdown": "\nA data.frame: 6 × 17\n\n| <!--/--> | Date &lt;dbl&gt; | Invoice.ID &lt;chr&gt; | Branch &lt;fct&gt; | Customer.type &lt;fct&gt; | Gender &lt;fct&gt; | Product.line &lt;fct&gt; | Unit.price &lt;dbl&gt; | Quantity &lt;int&gt; | Tax &lt;dbl&gt; | Time &lt;chr&gt; | Payment &lt;fct&gt; | cogs &lt;dbl&gt; | gross.margin.percentage &lt;dbl&gt; | gross.income &lt;dbl&gt; | Rating &lt;dbl&gt; | Total &lt;dbl&gt; | Sales &lt;dbl&gt; |\n|---|---|---|---|---|---|---|---|---|---|---|---|---|---|---|---|---|---|\n| 1 | 1 | 556-97-7101 | 1 | 1 | 1 | 1 | 63.22 | 2 | 6.322 | 15:51 | 1 | 126.44 | 4.761905 | 6.322 | 8.5 | 132.762 | 132.762 |\n| 2 | 1 | 556-97-7101 | 1 | 1 | 1 | 1 | 63.22 | 2 | 6.322 | 15:51 | 1 | 126.44 | 4.761905 | 6.322 | 8.5 | 132.762 | 621.243 |\n| 3 | 1 | 556-97-7101 | 1 | 1 | 1 | 1 | 63.22 | 2 | 6.322 | 15:51 | 1 | 126.44 | 4.761905 | 6.322 | 8.5 | 132.762 | 132.027 |\n| 4 | 1 | 556-97-7101 | 1 | 1 | 1 | 1 | 63.22 | 2 | 6.322 | 15:51 | 1 | 126.44 | 4.761905 | 6.322 | 8.5 | 132.762 | 184.086 |\n| 5 | 1 | 556-97-7101 | 1 | 1 | 1 | 1 | 63.22 | 2 | 6.322 | 15:51 | 1 | 126.44 | 4.761905 | 6.322 | 8.5 | 132.762 | 457.443 |\n| 6 | 1 | 556-97-7101 | 1 | 1 | 1 | 1 | 63.22 | 2 | 6.322 | 15:51 | 1 | 126.44 | 4.761905 | 6.322 | 8.5 | 132.762 | 399.756 |\n\n",
            "text/html": [
              "<table class=\"dataframe\">\n",
              "<caption>A data.frame: 6 × 17</caption>\n",
              "<thead>\n",
              "\t<tr><th></th><th scope=col>Date</th><th scope=col>Invoice.ID</th><th scope=col>Branch</th><th scope=col>Customer.type</th><th scope=col>Gender</th><th scope=col>Product.line</th><th scope=col>Unit.price</th><th scope=col>Quantity</th><th scope=col>Tax</th><th scope=col>Time</th><th scope=col>Payment</th><th scope=col>cogs</th><th scope=col>gross.margin.percentage</th><th scope=col>gross.income</th><th scope=col>Rating</th><th scope=col>Total</th><th scope=col>Sales</th></tr>\n",
              "\t<tr><th></th><th scope=col>&lt;dbl&gt;</th><th scope=col>&lt;chr&gt;</th><th scope=col>&lt;fct&gt;</th><th scope=col>&lt;fct&gt;</th><th scope=col>&lt;fct&gt;</th><th scope=col>&lt;fct&gt;</th><th scope=col>&lt;dbl&gt;</th><th scope=col>&lt;int&gt;</th><th scope=col>&lt;dbl&gt;</th><th scope=col>&lt;chr&gt;</th><th scope=col>&lt;fct&gt;</th><th scope=col>&lt;dbl&gt;</th><th scope=col>&lt;dbl&gt;</th><th scope=col>&lt;dbl&gt;</th><th scope=col>&lt;dbl&gt;</th><th scope=col>&lt;dbl&gt;</th><th scope=col>&lt;dbl&gt;</th></tr>\n",
              "</thead>\n",
              "<tbody>\n",
              "\t<tr><th scope=row>1</th><td>1</td><td>556-97-7101</td><td>1</td><td>1</td><td>1</td><td>1</td><td>63.22</td><td>2</td><td>6.322</td><td>15:51</td><td>1</td><td>126.44</td><td>4.761905</td><td>6.322</td><td>8.5</td><td>132.762</td><td>132.762</td></tr>\n",
              "\t<tr><th scope=row>2</th><td>1</td><td>556-97-7101</td><td>1</td><td>1</td><td>1</td><td>1</td><td>63.22</td><td>2</td><td>6.322</td><td>15:51</td><td>1</td><td>126.44</td><td>4.761905</td><td>6.322</td><td>8.5</td><td>132.762</td><td>621.243</td></tr>\n",
              "\t<tr><th scope=row>3</th><td>1</td><td>556-97-7101</td><td>1</td><td>1</td><td>1</td><td>1</td><td>63.22</td><td>2</td><td>6.322</td><td>15:51</td><td>1</td><td>126.44</td><td>4.761905</td><td>6.322</td><td>8.5</td><td>132.762</td><td>132.027</td></tr>\n",
              "\t<tr><th scope=row>4</th><td>1</td><td>556-97-7101</td><td>1</td><td>1</td><td>1</td><td>1</td><td>63.22</td><td>2</td><td>6.322</td><td>15:51</td><td>1</td><td>126.44</td><td>4.761905</td><td>6.322</td><td>8.5</td><td>132.762</td><td>184.086</td></tr>\n",
              "\t<tr><th scope=row>5</th><td>1</td><td>556-97-7101</td><td>1</td><td>1</td><td>1</td><td>1</td><td>63.22</td><td>2</td><td>6.322</td><td>15:51</td><td>1</td><td>126.44</td><td>4.761905</td><td>6.322</td><td>8.5</td><td>132.762</td><td>457.443</td></tr>\n",
              "\t<tr><th scope=row>6</th><td>1</td><td>556-97-7101</td><td>1</td><td>1</td><td>1</td><td>1</td><td>63.22</td><td>2</td><td>6.322</td><td>15:51</td><td>1</td><td>126.44</td><td>4.761905</td><td>6.322</td><td>8.5</td><td>132.762</td><td>399.756</td></tr>\n",
              "</tbody>\n",
              "</table>\n"
            ]
          },
          "metadata": {}
        }
      ]
    },
    {
      "cell_type": "markdown",
      "metadata": {
        "id": "0ZD7ua53IfAu"
      },
      "source": [
        "#Data Analysis"
      ]
    },
    {
      "cell_type": "markdown",
      "metadata": {
        "id": "5FNjl7RHIvQy"
      },
      "source": [
        "#1.Dimensionality Reduction (PCA)"
      ]
    },
    {
      "cell_type": "code",
      "metadata": {
        "id": "BaTtN9uFEhh8"
      },
      "source": [
        "#converting some columns to numeric before performing pca\n",
        "sales$Branch <- as.numeric(sales$Branch)\n",
        "sales$Customer.type <- as.numeric(sales$Customer.type)\n",
        "sales$Gender <- as.numeric(sales$Gender)\n",
        "sales$Product.line <- as.numeric(sales$Product.line)\n",
        "sales$Payment <- as.numeric(sales$Payment)"
      ],
      "execution_count": 31,
      "outputs": []
    },
    {
      "cell_type": "code",
      "metadata": {
        "colab": {
          "base_uri": "https://localhost:8080/",
          "height": 306
        },
        "id": "soeP7aulGp3O",
        "outputId": "16b18541-eb27-430b-842b-0a1abf51a553"
      },
      "source": [
        "#selecting a subset of variables we are going to work with\n",
        "SalesPca <- sales[,c(3:9,11,12,14,15,16)]\n",
        "head(SalesPca)"
      ],
      "execution_count": 32,
      "outputs": [
        {
          "output_type": "display_data",
          "data": {
            "text/plain": [
              "  Branch Customer.type Gender Product.line Unit.price Quantity Tax   Payment\n",
              "1 1      1             1      1            63.22      2        6.322 1      \n",
              "2 1      1             1      1            63.22      2        6.322 1      \n",
              "3 1      1             1      1            63.22      2        6.322 1      \n",
              "4 1      1             1      1            63.22      2        6.322 1      \n",
              "5 1      1             1      1            63.22      2        6.322 1      \n",
              "6 1      1             1      1            63.22      2        6.322 1      \n",
              "  cogs   gross.income Rating Total  \n",
              "1 126.44 6.322        8.5    132.762\n",
              "2 126.44 6.322        8.5    132.762\n",
              "3 126.44 6.322        8.5    132.762\n",
              "4 126.44 6.322        8.5    132.762\n",
              "5 126.44 6.322        8.5    132.762\n",
              "6 126.44 6.322        8.5    132.762"
            ],
            "text/latex": "A data.frame: 6 × 12\n\\begin{tabular}{r|llllllllllll}\n  & Branch & Customer.type & Gender & Product.line & Unit.price & Quantity & Tax & Payment & cogs & gross.income & Rating & Total\\\\\n  & <dbl> & <dbl> & <dbl> & <dbl> & <dbl> & <int> & <dbl> & <dbl> & <dbl> & <dbl> & <dbl> & <dbl>\\\\\n\\hline\n\t1 & 1 & 1 & 1 & 1 & 63.22 & 2 & 6.322 & 1 & 126.44 & 6.322 & 8.5 & 132.762\\\\\n\t2 & 1 & 1 & 1 & 1 & 63.22 & 2 & 6.322 & 1 & 126.44 & 6.322 & 8.5 & 132.762\\\\\n\t3 & 1 & 1 & 1 & 1 & 63.22 & 2 & 6.322 & 1 & 126.44 & 6.322 & 8.5 & 132.762\\\\\n\t4 & 1 & 1 & 1 & 1 & 63.22 & 2 & 6.322 & 1 & 126.44 & 6.322 & 8.5 & 132.762\\\\\n\t5 & 1 & 1 & 1 & 1 & 63.22 & 2 & 6.322 & 1 & 126.44 & 6.322 & 8.5 & 132.762\\\\\n\t6 & 1 & 1 & 1 & 1 & 63.22 & 2 & 6.322 & 1 & 126.44 & 6.322 & 8.5 & 132.762\\\\\n\\end{tabular}\n",
            "text/markdown": "\nA data.frame: 6 × 12\n\n| <!--/--> | Branch &lt;dbl&gt; | Customer.type &lt;dbl&gt; | Gender &lt;dbl&gt; | Product.line &lt;dbl&gt; | Unit.price &lt;dbl&gt; | Quantity &lt;int&gt; | Tax &lt;dbl&gt; | Payment &lt;dbl&gt; | cogs &lt;dbl&gt; | gross.income &lt;dbl&gt; | Rating &lt;dbl&gt; | Total &lt;dbl&gt; |\n|---|---|---|---|---|---|---|---|---|---|---|---|---|\n| 1 | 1 | 1 | 1 | 1 | 63.22 | 2 | 6.322 | 1 | 126.44 | 6.322 | 8.5 | 132.762 |\n| 2 | 1 | 1 | 1 | 1 | 63.22 | 2 | 6.322 | 1 | 126.44 | 6.322 | 8.5 | 132.762 |\n| 3 | 1 | 1 | 1 | 1 | 63.22 | 2 | 6.322 | 1 | 126.44 | 6.322 | 8.5 | 132.762 |\n| 4 | 1 | 1 | 1 | 1 | 63.22 | 2 | 6.322 | 1 | 126.44 | 6.322 | 8.5 | 132.762 |\n| 5 | 1 | 1 | 1 | 1 | 63.22 | 2 | 6.322 | 1 | 126.44 | 6.322 | 8.5 | 132.762 |\n| 6 | 1 | 1 | 1 | 1 | 63.22 | 2 | 6.322 | 1 | 126.44 | 6.322 | 8.5 | 132.762 |\n\n",
            "text/html": [
              "<table class=\"dataframe\">\n",
              "<caption>A data.frame: 6 × 12</caption>\n",
              "<thead>\n",
              "\t<tr><th></th><th scope=col>Branch</th><th scope=col>Customer.type</th><th scope=col>Gender</th><th scope=col>Product.line</th><th scope=col>Unit.price</th><th scope=col>Quantity</th><th scope=col>Tax</th><th scope=col>Payment</th><th scope=col>cogs</th><th scope=col>gross.income</th><th scope=col>Rating</th><th scope=col>Total</th></tr>\n",
              "\t<tr><th></th><th scope=col>&lt;dbl&gt;</th><th scope=col>&lt;dbl&gt;</th><th scope=col>&lt;dbl&gt;</th><th scope=col>&lt;dbl&gt;</th><th scope=col>&lt;dbl&gt;</th><th scope=col>&lt;int&gt;</th><th scope=col>&lt;dbl&gt;</th><th scope=col>&lt;dbl&gt;</th><th scope=col>&lt;dbl&gt;</th><th scope=col>&lt;dbl&gt;</th><th scope=col>&lt;dbl&gt;</th><th scope=col>&lt;dbl&gt;</th></tr>\n",
              "</thead>\n",
              "<tbody>\n",
              "\t<tr><th scope=row>1</th><td>1</td><td>1</td><td>1</td><td>1</td><td>63.22</td><td>2</td><td>6.322</td><td>1</td><td>126.44</td><td>6.322</td><td>8.5</td><td>132.762</td></tr>\n",
              "\t<tr><th scope=row>2</th><td>1</td><td>1</td><td>1</td><td>1</td><td>63.22</td><td>2</td><td>6.322</td><td>1</td><td>126.44</td><td>6.322</td><td>8.5</td><td>132.762</td></tr>\n",
              "\t<tr><th scope=row>3</th><td>1</td><td>1</td><td>1</td><td>1</td><td>63.22</td><td>2</td><td>6.322</td><td>1</td><td>126.44</td><td>6.322</td><td>8.5</td><td>132.762</td></tr>\n",
              "\t<tr><th scope=row>4</th><td>1</td><td>1</td><td>1</td><td>1</td><td>63.22</td><td>2</td><td>6.322</td><td>1</td><td>126.44</td><td>6.322</td><td>8.5</td><td>132.762</td></tr>\n",
              "\t<tr><th scope=row>5</th><td>1</td><td>1</td><td>1</td><td>1</td><td>63.22</td><td>2</td><td>6.322</td><td>1</td><td>126.44</td><td>6.322</td><td>8.5</td><td>132.762</td></tr>\n",
              "\t<tr><th scope=row>6</th><td>1</td><td>1</td><td>1</td><td>1</td><td>63.22</td><td>2</td><td>6.322</td><td>1</td><td>126.44</td><td>6.322</td><td>8.5</td><td>132.762</td></tr>\n",
              "</tbody>\n",
              "</table>\n"
            ]
          },
          "metadata": {}
        }
      ]
    },
    {
      "cell_type": "code",
      "metadata": {
        "colab": {
          "base_uri": "https://localhost:8080/",
          "height": 201
        },
        "id": "_4O4Qx1nJBgN",
        "outputId": "819ab75b-271a-4f0e-fb7d-7920f2a43bdc"
      },
      "source": [
        "#using the neat package princomp to shrink down the \n",
        "#12 features to 12 principal components\n",
        "sales.pca <- princomp(SalesPca)\n",
        "sales.pca"
      ],
      "execution_count": 33,
      "outputs": [
        {
          "output_type": "display_data",
          "data": {
            "text/plain": [
              "Call:\n",
              "princomp(x = SalesPca)\n",
              "\n",
              "Standard deviations:\n",
              "      Comp.1       Comp.2       Comp.3       Comp.4       Comp.5       Comp.6 \n",
              "3.438346e+02 2.024243e+01 1.734752e+00 1.717718e+00 1.249312e+00 8.292573e-01 \n",
              "      Comp.7       Comp.8       Comp.9      Comp.10      Comp.11      Comp.12 \n",
              "7.931663e-01 5.072689e-01 4.869664e-01 1.153521e-07 0.000000e+00 0.000000e+00 \n",
              "\n",
              " 12  variables and  12242 observations."
            ]
          },
          "metadata": {}
        }
      ]
    },
    {
      "cell_type": "code",
      "metadata": {
        "colab": {
          "base_uri": "https://localhost:8080/",
          "height": 256
        },
        "id": "Z5OWJGa1LYIf",
        "outputId": "868ed5cc-e432-468f-e2cb-8c5c5f2c717e"
      },
      "source": [
        "#summary\n",
        "summary(sales.pca)"
      ],
      "execution_count": 34,
      "outputs": [
        {
          "output_type": "display_data",
          "data": {
            "text/plain": [
              "Importance of components:\n",
              "                            Comp.1       Comp.2       Comp.3       Comp.4\n",
              "Standard deviation     343.8345959 20.242433242 1.734752e+00 1.717718e+00\n",
              "Proportion of Variance   0.9964676  0.003453739 2.536523e-05 2.486955e-05\n",
              "Cumulative Proportion    0.9964676  0.999921343 9.999467e-01 9.999716e-01\n",
              "                             Comp.5       Comp.6       Comp.7       Comp.8\n",
              "Standard deviation     1.249312e+00 8.292573e-01 7.931663e-01 5.072689e-01\n",
              "Proportion of Variance 1.315546e-05 5.796190e-06 5.302645e-06 2.168905e-06\n",
              "Cumulative Proportion  9.999847e-01 9.999905e-01 9.999958e-01 9.999980e-01\n",
              "                             Comp.9      Comp.10 Comp.11 Comp.12\n",
              "Standard deviation     4.869664e-01 1.153521e-07       0       0\n",
              "Proportion of Variance 1.998767e-06 1.121542e-19       0       0\n",
              "Cumulative Proportion  1.000000e+00 1.000000e+00       1       1"
            ]
          },
          "metadata": {}
        }
      ]
    },
    {
      "cell_type": "code",
      "metadata": {
        "id": "kWPHIPj2Mbx5"
      },
      "source": [
        "#finding the correct number of components in \n",
        "#order to utilize a shrinked dataset\n",
        "eigenvectors <- sales.pca$loadings\n",
        "eigenvalues <- sales.pca$sdev * sales.pca$sdev"
      ],
      "execution_count": 35,
      "outputs": []
    },
    {
      "cell_type": "code",
      "metadata": {
        "colab": {
          "base_uri": "https://localhost:8080/",
          "height": 463
        },
        "id": "MyJXKR8RNsuU",
        "outputId": "fe4d5608-18ae-4825-870f-64a8003ac8f6"
      },
      "source": [
        "#finding the correlation between our original dataset\n",
        "#and our principal scores\n",
        "round(cor(sales[,c(3:9,11,12,14,15,16)], sales.pca$scores), 3)"
      ],
      "execution_count": 36,
      "outputs": [
        {
          "output_type": "display_data",
          "data": {
            "text/plain": [
              "              Comp.1 Comp.2 Comp.3 Comp.4 Comp.5 Comp.6 Comp.7 Comp.8 Comp.9\n",
              "Branch         0.015  0.008  0.004  0.083  0.045  0.791  0.603  0.023  0.011\n",
              "Customer.type -0.025  0.009  0.080  0.021  0.023  0.041 -0.084  0.701 -0.702\n",
              "Gender         0.059  0.051 -0.002  0.018 -0.025  0.047  0.043 -0.731 -0.674\n",
              "Product.line  -0.026  0.005  0.991 -0.127  0.005 -0.006  0.010 -0.004  0.004\n",
              "Unit.price    -0.646  0.763  0.000  0.000  0.004  0.000  0.000  0.000  0.000\n",
              "Quantity      -0.711 -0.560 -0.009 -0.047  0.423  0.004 -0.016 -0.003  0.000\n",
              "Tax           -1.000 -0.003  0.000  0.000  0.000  0.000  0.000  0.000  0.000\n",
              "Payment        0.011 -0.043  0.050 -0.003 -0.089  0.638 -0.761 -0.026  0.023\n",
              "cogs          -1.000 -0.003  0.000  0.000  0.000  0.000  0.000  0.000  0.000\n",
              "gross.income  -1.000 -0.003  0.000  0.000  0.000  0.000  0.000  0.000  0.000\n",
              "Rating         0.049  0.021 -0.129 -0.988 -0.058  0.015  0.013  0.002 -0.003\n",
              "Total         -1.000 -0.003  0.000  0.000  0.000  0.000  0.000  0.000  0.000\n",
              "              Comp.10 Comp.11 Comp.12\n",
              "Branch        -0.004   0.042   0.001 \n",
              "Customer.type -0.991  -0.778   0.994 \n",
              "Gender        -0.024   0.091  -0.005 \n",
              "Product.line   0.005  -0.049   0.000 \n",
              "Unit.price    -0.011  -0.150  -0.002 \n",
              "Quantity      -0.030   0.246   0.002 \n",
              "Tax           -0.003  -0.063   0.002 \n",
              "Payment       -0.050   0.162  -0.004 \n",
              "cogs          -0.003  -0.063   0.002 \n",
              "gross.income  -0.003  -0.063   0.002 \n",
              "Rating         0.091  -0.171   0.007 \n",
              "Total         -0.003  -0.063   0.002 "
            ],
            "text/latex": "A matrix: 12 × 12 of type dbl\n\\begin{tabular}{r|llllllllllll}\n  & Comp.1 & Comp.2 & Comp.3 & Comp.4 & Comp.5 & Comp.6 & Comp.7 & Comp.8 & Comp.9 & Comp.10 & Comp.11 & Comp.12\\\\\n\\hline\n\tBranch &  0.015 &  0.008 &  0.004 &  0.083 &  0.045 &  0.791 &  0.603 &  0.023 &  0.011 & -0.004 &  0.042 &  0.001\\\\\n\tCustomer.type & -0.025 &  0.009 &  0.080 &  0.021 &  0.023 &  0.041 & -0.084 &  0.701 & -0.702 & -0.991 & -0.778 &  0.994\\\\\n\tGender &  0.059 &  0.051 & -0.002 &  0.018 & -0.025 &  0.047 &  0.043 & -0.731 & -0.674 & -0.024 &  0.091 & -0.005\\\\\n\tProduct.line & -0.026 &  0.005 &  0.991 & -0.127 &  0.005 & -0.006 &  0.010 & -0.004 &  0.004 &  0.005 & -0.049 &  0.000\\\\\n\tUnit.price & -0.646 &  0.763 &  0.000 &  0.000 &  0.004 &  0.000 &  0.000 &  0.000 &  0.000 & -0.011 & -0.150 & -0.002\\\\\n\tQuantity & -0.711 & -0.560 & -0.009 & -0.047 &  0.423 &  0.004 & -0.016 & -0.003 &  0.000 & -0.030 &  0.246 &  0.002\\\\\n\tTax & -1.000 & -0.003 &  0.000 &  0.000 &  0.000 &  0.000 &  0.000 &  0.000 &  0.000 & -0.003 & -0.063 &  0.002\\\\\n\tPayment &  0.011 & -0.043 &  0.050 & -0.003 & -0.089 &  0.638 & -0.761 & -0.026 &  0.023 & -0.050 &  0.162 & -0.004\\\\\n\tcogs & -1.000 & -0.003 &  0.000 &  0.000 &  0.000 &  0.000 &  0.000 &  0.000 &  0.000 & -0.003 & -0.063 &  0.002\\\\\n\tgross.income & -1.000 & -0.003 &  0.000 &  0.000 &  0.000 &  0.000 &  0.000 &  0.000 &  0.000 & -0.003 & -0.063 &  0.002\\\\\n\tRating &  0.049 &  0.021 & -0.129 & -0.988 & -0.058 &  0.015 &  0.013 &  0.002 & -0.003 &  0.091 & -0.171 &  0.007\\\\\n\tTotal & -1.000 & -0.003 &  0.000 &  0.000 &  0.000 &  0.000 &  0.000 &  0.000 &  0.000 & -0.003 & -0.063 &  0.002\\\\\n\\end{tabular}\n",
            "text/markdown": "\nA matrix: 12 × 12 of type dbl\n\n| <!--/--> | Comp.1 | Comp.2 | Comp.3 | Comp.4 | Comp.5 | Comp.6 | Comp.7 | Comp.8 | Comp.9 | Comp.10 | Comp.11 | Comp.12 |\n|---|---|---|---|---|---|---|---|---|---|---|---|---|\n| Branch |  0.015 |  0.008 |  0.004 |  0.083 |  0.045 |  0.791 |  0.603 |  0.023 |  0.011 | -0.004 |  0.042 |  0.001 |\n| Customer.type | -0.025 |  0.009 |  0.080 |  0.021 |  0.023 |  0.041 | -0.084 |  0.701 | -0.702 | -0.991 | -0.778 |  0.994 |\n| Gender |  0.059 |  0.051 | -0.002 |  0.018 | -0.025 |  0.047 |  0.043 | -0.731 | -0.674 | -0.024 |  0.091 | -0.005 |\n| Product.line | -0.026 |  0.005 |  0.991 | -0.127 |  0.005 | -0.006 |  0.010 | -0.004 |  0.004 |  0.005 | -0.049 |  0.000 |\n| Unit.price | -0.646 |  0.763 |  0.000 |  0.000 |  0.004 |  0.000 |  0.000 |  0.000 |  0.000 | -0.011 | -0.150 | -0.002 |\n| Quantity | -0.711 | -0.560 | -0.009 | -0.047 |  0.423 |  0.004 | -0.016 | -0.003 |  0.000 | -0.030 |  0.246 |  0.002 |\n| Tax | -1.000 | -0.003 |  0.000 |  0.000 |  0.000 |  0.000 |  0.000 |  0.000 |  0.000 | -0.003 | -0.063 |  0.002 |\n| Payment |  0.011 | -0.043 |  0.050 | -0.003 | -0.089 |  0.638 | -0.761 | -0.026 |  0.023 | -0.050 |  0.162 | -0.004 |\n| cogs | -1.000 | -0.003 |  0.000 |  0.000 |  0.000 |  0.000 |  0.000 |  0.000 |  0.000 | -0.003 | -0.063 |  0.002 |\n| gross.income | -1.000 | -0.003 |  0.000 |  0.000 |  0.000 |  0.000 |  0.000 |  0.000 |  0.000 | -0.003 | -0.063 |  0.002 |\n| Rating |  0.049 |  0.021 | -0.129 | -0.988 | -0.058 |  0.015 |  0.013 |  0.002 | -0.003 |  0.091 | -0.171 |  0.007 |\n| Total | -1.000 | -0.003 |  0.000 |  0.000 |  0.000 |  0.000 |  0.000 |  0.000 |  0.000 | -0.003 | -0.063 |  0.002 |\n\n",
            "text/html": [
              "<table class=\"dataframe\">\n",
              "<caption>A matrix: 12 × 12 of type dbl</caption>\n",
              "<thead>\n",
              "\t<tr><th></th><th scope=col>Comp.1</th><th scope=col>Comp.2</th><th scope=col>Comp.3</th><th scope=col>Comp.4</th><th scope=col>Comp.5</th><th scope=col>Comp.6</th><th scope=col>Comp.7</th><th scope=col>Comp.8</th><th scope=col>Comp.9</th><th scope=col>Comp.10</th><th scope=col>Comp.11</th><th scope=col>Comp.12</th></tr>\n",
              "</thead>\n",
              "<tbody>\n",
              "\t<tr><th scope=row>Branch</th><td> 0.015</td><td> 0.008</td><td> 0.004</td><td> 0.083</td><td> 0.045</td><td> 0.791</td><td> 0.603</td><td> 0.023</td><td> 0.011</td><td>-0.004</td><td> 0.042</td><td> 0.001</td></tr>\n",
              "\t<tr><th scope=row>Customer.type</th><td>-0.025</td><td> 0.009</td><td> 0.080</td><td> 0.021</td><td> 0.023</td><td> 0.041</td><td>-0.084</td><td> 0.701</td><td>-0.702</td><td>-0.991</td><td>-0.778</td><td> 0.994</td></tr>\n",
              "\t<tr><th scope=row>Gender</th><td> 0.059</td><td> 0.051</td><td>-0.002</td><td> 0.018</td><td>-0.025</td><td> 0.047</td><td> 0.043</td><td>-0.731</td><td>-0.674</td><td>-0.024</td><td> 0.091</td><td>-0.005</td></tr>\n",
              "\t<tr><th scope=row>Product.line</th><td>-0.026</td><td> 0.005</td><td> 0.991</td><td>-0.127</td><td> 0.005</td><td>-0.006</td><td> 0.010</td><td>-0.004</td><td> 0.004</td><td> 0.005</td><td>-0.049</td><td> 0.000</td></tr>\n",
              "\t<tr><th scope=row>Unit.price</th><td>-0.646</td><td> 0.763</td><td> 0.000</td><td> 0.000</td><td> 0.004</td><td> 0.000</td><td> 0.000</td><td> 0.000</td><td> 0.000</td><td>-0.011</td><td>-0.150</td><td>-0.002</td></tr>\n",
              "\t<tr><th scope=row>Quantity</th><td>-0.711</td><td>-0.560</td><td>-0.009</td><td>-0.047</td><td> 0.423</td><td> 0.004</td><td>-0.016</td><td>-0.003</td><td> 0.000</td><td>-0.030</td><td> 0.246</td><td> 0.002</td></tr>\n",
              "\t<tr><th scope=row>Tax</th><td>-1.000</td><td>-0.003</td><td> 0.000</td><td> 0.000</td><td> 0.000</td><td> 0.000</td><td> 0.000</td><td> 0.000</td><td> 0.000</td><td>-0.003</td><td>-0.063</td><td> 0.002</td></tr>\n",
              "\t<tr><th scope=row>Payment</th><td> 0.011</td><td>-0.043</td><td> 0.050</td><td>-0.003</td><td>-0.089</td><td> 0.638</td><td>-0.761</td><td>-0.026</td><td> 0.023</td><td>-0.050</td><td> 0.162</td><td>-0.004</td></tr>\n",
              "\t<tr><th scope=row>cogs</th><td>-1.000</td><td>-0.003</td><td> 0.000</td><td> 0.000</td><td> 0.000</td><td> 0.000</td><td> 0.000</td><td> 0.000</td><td> 0.000</td><td>-0.003</td><td>-0.063</td><td> 0.002</td></tr>\n",
              "\t<tr><th scope=row>gross.income</th><td>-1.000</td><td>-0.003</td><td> 0.000</td><td> 0.000</td><td> 0.000</td><td> 0.000</td><td> 0.000</td><td> 0.000</td><td> 0.000</td><td>-0.003</td><td>-0.063</td><td> 0.002</td></tr>\n",
              "\t<tr><th scope=row>Rating</th><td> 0.049</td><td> 0.021</td><td>-0.129</td><td>-0.988</td><td>-0.058</td><td> 0.015</td><td> 0.013</td><td> 0.002</td><td>-0.003</td><td> 0.091</td><td>-0.171</td><td> 0.007</td></tr>\n",
              "\t<tr><th scope=row>Total</th><td>-1.000</td><td>-0.003</td><td> 0.000</td><td> 0.000</td><td> 0.000</td><td> 0.000</td><td> 0.000</td><td> 0.000</td><td> 0.000</td><td>-0.003</td><td>-0.063</td><td> 0.002</td></tr>\n",
              "</tbody>\n",
              "</table>\n"
            ]
          },
          "metadata": {}
        }
      ]
    },
    {
      "cell_type": "code",
      "metadata": {
        "colab": {
          "base_uri": "https://localhost:8080/",
          "height": 437
        },
        "id": "IwvlwZycP5yw",
        "outputId": "a85576c3-6431-482b-e6e8-44021958e50e"
      },
      "source": [
        "#Elbow method using scree plot to find the number \n",
        "#of principal components to use\n",
        "screeplot(sales.pca, type = 'l', main = 'Scree plot for sales data')\n",
        "abline(1,0, col = 'red', lty = 2)"
      ],
      "execution_count": 37,
      "outputs": [
        {
          "output_type": "display_data",
          "data": {
            "image/png": "[encoded data removed]",
            "text/plain": [
              "Plot with title “Scree plot for sales data”"
            ]
          },
          "metadata": {
            "image/png": {
              "width": 420,
              "height": 420
            }
          }
        }
      ]
    },
    {
      "cell_type": "code",
      "metadata": {
        "colab": {
          "base_uri": "https://localhost:8080/",
          "height": 437
        },
        "id": "-SPRNbpPR5ES",
        "outputId": "11692c2e-6617-4818-e6c1-c5bb94074eeb"
      },
      "source": [
        "#using two components, we'll plot a scatter plot\n",
        "#as to what our score will look like between\n",
        "#pc1 and pc2\n",
        "plot(sales.pca$scores[,1:2], type = 'n', xlab = 'PC1', ylab = 'PC2')\n",
        "points(sales.pca$scores[,1:2], cex = 0.5)"
      ],
      "execution_count": 38,
      "outputs": [
        {
          "output_type": "display_data",
          "data": {
            "image/png": "[encoded data removed]",
            "text/plain": [
              "plot without title"
            ]
          },
          "metadata": {
            "image/png": {
              "width": 420,
              "height": 420
            }
          }
        }
      ]
    },
    {
      "cell_type": "markdown",
      "metadata": {
        "id": "Whkj1vZiZYoQ"
      },
      "source": [
        "#2.Feature Selection"
      ]
    },
    {
      "cell_type": "markdown",
      "metadata": {
        "id": "xoBcbfKMfnqs"
      },
      "source": [
        "Filter Method"
      ]
    },
    {
      "cell_type": "code",
      "metadata": {
        "colab": {
          "base_uri": "https://localhost:8080/"
        },
        "id": "fn8fC7EuZe9z",
        "outputId": "bd447678-41ae-4765-8a3c-a10c00ce3f98"
      },
      "source": [
        "#Installing and loading caret package\n",
        "suppressWarnings(\n",
        "        suppressMessages(if\n",
        "                         (!require(caret, quietly=TRUE))\n",
        "                install.packages(\"caret\")))\n",
        "library(caret)"
      ],
      "execution_count": 39,
      "outputs": [
        {
          "output_type": "stream",
          "name": "stderr",
          "text": [
            "Loading required package: ggplot2\n",
            "\n",
            "Loading required package: lattice\n",
            "\n",
            "Warning message in system(\"timedatectl\", intern = TRUE):\n",
            "“running command 'timedatectl' had status 1”\n"
          ]
        }
      ]
    },
    {
      "cell_type": "code",
      "metadata": {
        "colab": {
          "base_uri": "https://localhost:8080/"
        },
        "id": "_aRe9_c7hTyB",
        "outputId": "627a3152-21fd-4f13-daba-5c64dde430ec"
      },
      "source": [
        "# Installing and loading the corrplot package for plotting\n",
        "suppressWarnings(\n",
        "        suppressMessages(if\n",
        "                         (!require(corrplot, quietly=TRUE))\n",
        "                install.packages(\"corrplot\")))\n",
        "library(corrplot)"
      ],
      "execution_count": 40,
      "outputs": [
        {
          "output_type": "stream",
          "name": "stderr",
          "text": [
            "corrplot 0.92 loaded\n",
            "\n"
          ]
        }
      ]
    },
    {
      "cell_type": "code",
      "metadata": {
        "id": "5fsYdaDph4nn"
      },
      "source": [
        "#loading data\n",
        "Dataset <- sales[,c(3:9,11,12,14,15,16)]"
      ],
      "execution_count": 41,
      "outputs": []
    },
    {
      "cell_type": "code",
      "metadata": {
        "id": "3kYaQsVAhsqq"
      },
      "source": [
        "# Calculating the correlation matrix\n",
        "correlationMatrix <- cor(Dataset)"
      ],
      "execution_count": 42,
      "outputs": []
    },
    {
      "cell_type": "code",
      "metadata": {
        "colab": {
          "base_uri": "https://localhost:8080/",
          "height": 52
        },
        "id": "bOmjhGvRi9eY",
        "outputId": "2a95035f-d907-4b6d-d2ad-b6b1df48af73"
      },
      "source": [
        "#Finding attributes that are highly correlated\n",
        "highlyCorrelated <- findCorrelation(correlationMatrix, cutoff=0.75)\n",
        "\n",
        "# Highly correlated attributes\n",
        "highlyCorrelated\n",
        "\n",
        "names(Dataset[,highlyCorrelated])"
      ],
      "execution_count": 43,
      "outputs": [
        {
          "output_type": "display_data",
          "data": {
            "text/plain": [
              "[1] 12  7  9"
            ],
            "text/latex": "\\begin{enumerate*}\n\\item 12\n\\item 7\n\\item 9\n\\end{enumerate*}\n",
            "text/markdown": "1. 12\n2. 7\n3. 9\n\n\n",
            "text/html": [
              "<style>\n",
              ".list-inline {list-style: none; margin:0; padding: 0}\n",
              ".list-inline>li {display: inline-block}\n",
              ".list-inline>li:not(:last-child)::after {content: \"\\00b7\"; padding: 0 .5ex}\n",
              "</style>\n",
              "<ol class=list-inline><li>12</li><li>7</li><li>9</li></ol>\n"
            ]
          },
          "metadata": {}
        },
        {
          "output_type": "display_data",
          "data": {
            "text/plain": [
              "[1] \"Total\" \"Tax\"   \"cogs\" "
            ],
            "text/latex": "\\begin{enumerate*}\n\\item 'Total'\n\\item 'Tax'\n\\item 'cogs'\n\\end{enumerate*}\n",
            "text/markdown": "1. 'Total'\n2. 'Tax'\n3. 'cogs'\n\n\n",
            "text/html": [
              "<style>\n",
              ".list-inline {list-style: none; margin:0; padding: 0}\n",
              ".list-inline>li {display: inline-block}\n",
              ".list-inline>li:not(:last-child)::after {content: \"\\00b7\"; padding: 0 .5ex}\n",
              "</style>\n",
              "<ol class=list-inline><li>'Total'</li><li>'Tax'</li><li>'cogs'</li></ol>\n"
            ]
          },
          "metadata": {}
        }
      ]
    },
    {
      "cell_type": "code",
      "metadata": {
        "id": "8G5tPJI7jSSw"
      },
      "source": [
        "#removing variables with a higher correlation\n",
        "dataset2<-Dataset[-highlyCorrelated]"
      ],
      "execution_count": 44,
      "outputs": []
    },
    {
      "cell_type": "code",
      "metadata": {
        "colab": {
          "base_uri": "https://localhost:8080/",
          "height": 437
        },
        "id": "RlAss4V_jwhr",
        "outputId": "72ad875b-a928-4bb2-f6be-ffec6ee37f55"
      },
      "source": [
        "#Performing our graphical comparison\n",
        "par(mfrow = c(1, 2))\n",
        "corrplot(correlationMatrix, order = \"hclust\")\n",
        "corrplot(cor(dataset2), order = \"hclust\")"
      ],
      "execution_count": 45,
      "outputs": [
        {
          "output_type": "display_data",
          "data": {
            "image/png": "[encoded data removed]",
            "text/plain": [
              "Plot with title “”"
            ]
          },
          "metadata": {
            "image/png": {
              "width": 420,
              "height": 420
            }
          }
        }
      ]
    },
    {
      "cell_type": "markdown",
      "metadata": {
        "id": "RMpenogtkFuI"
      },
      "source": [
        "#3.Association Analysis"
      ]
    },
    {
      "cell_type": "markdown",
      "metadata": {
        "id": "N2UomWoH8dVL"
      },
      "source": [
        "#3.1.Apriori"
      ]
    },
    {
      "cell_type": "code",
      "metadata": {
        "colab": {
          "base_uri": "https://localhost:8080/"
        },
        "id": "iD36g3oA5M-t",
        "outputId": "d50b7869-251b-4350-f1ca-58a5ff09da1d"
      },
      "source": [
        "install.packages(\"arules\")\n",
        "library(arules)"
      ],
      "execution_count": 46,
      "outputs": [
        {
          "output_type": "stream",
          "name": "stderr",
          "text": [
            "Installing package into ‘/usr/local/lib/R/site-library’\n",
            "(as ‘lib’ is unspecified)\n",
            "\n",
            "Loading required package: Matrix\n",
            "\n",
            "\n",
            "Attaching package: ‘arules’\n",
            "\n",
            "\n",
            "The following objects are masked from ‘package:base’:\n",
            "\n",
            "    abbreviate, write\n",
            "\n",
            "\n"
          ]
        }
      ]
    },
    {
      "cell_type": "code",
      "metadata": {
        "colab": {
          "base_uri": "https://localhost:8080/"
        },
        "id": "Eo6xGHE2kR3K",
        "outputId": "cc9b9593-c3ef-44be-c5ed-40437ac135db"
      },
      "source": [
        "#loading data\n",
        "df2 <- read.transactions('/content/Supermarket_Sales_Dataset II.csv', sep = ',', rm.duplicates = TRUE)\n"
      ],
      "execution_count": 47,
      "outputs": [
        {
          "output_type": "stream",
          "name": "stdout",
          "text": [
            "distribution of transactions with duplicates:\n",
            "1 \n",
            "5 \n"
          ]
        }
      ]
    },
    {
      "cell_type": "markdown",
      "metadata": {
        "id": "etlO86q19O7f"
      },
      "source": [
        "* we have five transactions containing one duplicate which is removed by the rm.duplicates function"
      ]
    },
    {
      "cell_type": "code",
      "metadata": {
        "colab": {
          "base_uri": "https://localhost:8080/",
          "height": 476
        },
        "id": "RX-IPrrA7szG",
        "outputId": "430a5697-312c-4d44-d759-8db384004f47"
      },
      "source": [
        "summary(df2)"
      ],
      "execution_count": 48,
      "outputs": [
        {
          "output_type": "display_data",
          "data": {
            "text/plain": [
              "transactions as itemMatrix in sparse format with\n",
              " 7501 rows (elements/itemsets/transactions) and\n",
              " 119 columns (items) and a density of 0.03288973 \n",
              "\n",
              "most frequent items:\n",
              "mineral water          eggs     spaghetti  french fries     chocolate \n",
              "         1788          1348          1306          1282          1229 \n",
              "      (Other) \n",
              "        22405 \n",
              "\n",
              "element (itemset/transaction) length distribution:\n",
              "sizes\n",
              "   1    2    3    4    5    6    7    8    9   10   11   12   13   14   15   16 \n",
              "1754 1358 1044  816  667  493  391  324  259  139  102   67   40   22   17    4 \n",
              "  18   19   20 \n",
              "   1    2    1 \n",
              "\n",
              "   Min. 1st Qu.  Median    Mean 3rd Qu.    Max. \n",
              "  1.000   2.000   3.000   3.914   5.000  20.000 \n",
              "\n",
              "includes extended item information - examples:\n",
              "             labels\n",
              "1           almonds\n",
              "2 antioxydant juice\n",
              "3         asparagus"
            ]
          },
          "metadata": {}
        }
      ]
    },
    {
      "cell_type": "markdown",
      "metadata": {
        "id": "06Sv7spZ-ylm"
      },
      "source": [
        "* From the summary we can see the most frequently bought items like: mineral water, eggs, spaghetti, french fries and chocolate.\n",
        "\n",
        "* Also we can see distribution of the baskets in the length distribution where the 1 associated with 1754 means there were 1754 baskets containing only one product , 1358 baskets containing 2 products..\n",
        "\n",
        "* We also have the quantile distribution of the products where the minimum value is a basket of one product and the maximum value is a basket of 20 products and on average people put 4 products in their basket when they go to the store"
      ]
    },
    {
      "cell_type": "code",
      "metadata": {
        "colab": {
          "base_uri": "https://localhost:8080/",
          "height": 437
        },
        "id": "ZXGnHAynBViL",
        "outputId": "14339645-f616-4c24-ddd9-e5a16d6c8ebe"
      },
      "source": [
        "#A frequency plot of the different products bought by different\n",
        "#customers in the store in a whole week\n",
        "#top 20 \n",
        "itemFrequencyPlot(df2, topN = 20)"
      ],
      "execution_count": 49,
      "outputs": [
        {
          "output_type": "display_data",
          "data": {
            "image/png": "[encoded data removed]",
            "text/plain": [
              "plot without title"
            ]
          },
          "metadata": {
            "image/png": {
              "width": 420,
              "height": 420
            }
          }
        }
      ]
    },
    {
      "cell_type": "code",
      "metadata": {
        "colab": {
          "base_uri": "https://localhost:8080/",
          "height": 34
        },
        "id": "3qDZ-QItFxs6",
        "outputId": "055571df-6a0b-44f2-e663-4a1a014494c5"
      },
      "source": [
        "#calculating minimum support\n",
        "#with a product bought 3/4 times a day bearing we have 7500 transactions\n",
        "3*7/7500"
      ],
      "execution_count": 50,
      "outputs": [
        {
          "output_type": "display_data",
          "data": {
            "text/plain": [
              "[1] 0.0028"
            ],
            "text/latex": "0.0028",
            "text/markdown": "0.0028",
            "text/html": [
              "0.0028"
            ]
          },
          "metadata": {}
        }
      ]
    },
    {
      "cell_type": "markdown",
      "metadata": {
        "id": "iQPvSMztJZf8"
      },
      "source": [
        "* 0.003 is the minimum support of the product that will be considered by our rules"
      ]
    },
    {
      "cell_type": "code",
      "metadata": {
        "colab": {
          "base_uri": "https://localhost:8080/"
        },
        "id": "5ZIB_9prDxMV",
        "outputId": "0342b0b5-a81e-4250-9327-9487cef263ff"
      },
      "source": [
        "#Training Apriori on the dataset\n",
        "rules = apriori(data = df2, parameter = list(support = 0.003,confidence = 0.4))"
      ],
      "execution_count": 51,
      "outputs": [
        {
          "output_type": "stream",
          "name": "stdout",
          "text": [
            "Apriori\n",
            "\n",
            "Parameter specification:\n",
            " confidence minval smax arem  aval originalSupport maxtime support minlen\n",
            "        0.4    0.1    1 none FALSE            TRUE       5   0.003      1\n",
            " maxlen target  ext\n",
            "     10  rules TRUE\n",
            "\n",
            "Algorithmic control:\n",
            " filter tree heap memopt load sort verbose\n",
            "    0.1 TRUE TRUE  FALSE TRUE    2    TRUE\n",
            "\n",
            "Absolute minimum support count: 22 \n",
            "\n",
            "set item appearances ...[0 item(s)] done [0.00s].\n",
            "set transactions ...[119 item(s), 7501 transaction(s)] done [0.00s].\n",
            "sorting and recoding items ... [115 item(s)] done [0.00s].\n",
            "creating transaction tree ... done [0.00s].\n",
            "checking subsets of size 1 2 3 4 5 done [0.00s].\n",
            "writing ... [281 rule(s)] done [0.00s].\n",
            "creating S4 object  ... done [0.00s].\n"
          ]
        }
      ]
    },
    {
      "cell_type": "markdown",
      "metadata": {
        "id": "XG0d4XBILkHO"
      },
      "source": [
        "* We have 281 rules"
      ]
    },
    {
      "cell_type": "code",
      "metadata": {
        "colab": {
          "base_uri": "https://localhost:8080/"
        },
        "id": "p2ZWFqNgL1nG",
        "outputId": "a1fe58da-39f9-4b7b-bc2d-88257ae139fd"
      },
      "source": [
        "#Visualising the results\n",
        "#measuring the relevancy of the rules\n",
        "inspect(sort(rules, by = 'lift')[1:10])"
      ],
      "execution_count": 52,
      "outputs": [
        {
          "output_type": "stream",
          "name": "stdout",
          "text": [
            "     lhs                     rhs                     support confidence    coverage     lift count\n",
            "[1]  {mineral water,                                                                              \n",
            "      whole wheat pasta}  => {olive oil}         0.003866151  0.4027778 0.009598720 6.115863    29\n",
            "[2]  {spaghetti,                                                                                  \n",
            "      tomato sauce}       => {ground beef}       0.003066258  0.4893617 0.006265831 4.980600    23\n",
            "[3]  {french fries,                                                                               \n",
            "      herb & pepper}      => {ground beef}       0.003199573  0.4615385 0.006932409 4.697422    24\n",
            "[4]  {cereals,                                                                                    \n",
            "      spaghetti}          => {ground beef}       0.003066258  0.4600000 0.006665778 4.681764    23\n",
            "[5]  {frozen vegetables,                                                                          \n",
            "      mineral water,                                                                              \n",
            "      soup}               => {milk}              0.003066258  0.6052632 0.005065991 4.670863    23\n",
            "[6]  {chocolate,                                                                                  \n",
            "      herb & pepper}      => {ground beef}       0.003999467  0.4411765 0.009065458 4.490183    30\n",
            "[7]  {chocolate,                                                                                  \n",
            "      mineral water,                                                                              \n",
            "      shrimp}             => {frozen vegetables} 0.003199573  0.4210526 0.007598987 4.417225    24\n",
            "[8]  {frozen vegetables,                                                                          \n",
            "      mineral water,                                                                              \n",
            "      olive oil}          => {milk}              0.003332889  0.5102041 0.006532462 3.937285    25\n",
            "[9]  {cereals,                                                                                    \n",
            "      ground beef}        => {spaghetti}         0.003066258  0.6764706 0.004532729 3.885303    23\n",
            "[10] {frozen vegetables,                                                                          \n",
            "      soup}               => {milk}              0.003999467  0.5000000 0.007998933 3.858539    30\n"
          ]
        }
      ]
    },
    {
      "cell_type": "markdown",
      "metadata": {
        "id": "oz6tFIbZNbhd"
      },
      "source": [
        "* if people buy mineral water and whole wheat pasta, they will also buy olive oil 40% of the cases\n",
        "* if they buy spaghetti and tomato sauce , they will also buy ground beef 48% of the cases"
      ]
    },
    {
      "cell_type": "code",
      "metadata": {
        "colab": {
          "base_uri": "https://localhost:8080/"
        },
        "id": "egr2ylqyODXN",
        "outputId": "50d6e213-0dad-4ec2-95b3-483423535038"
      },
      "source": [
        "#trying a confidence level of 0.2 while creating new rules\n",
        "# to attain upmost relevancy\n",
        "rules = apriori(data = df2, parameter = list(support = 0.003,confidence = 0.2))"
      ],
      "execution_count": 53,
      "outputs": [
        {
          "output_type": "stream",
          "name": "stdout",
          "text": [
            "Apriori\n",
            "\n",
            "Parameter specification:\n",
            " confidence minval smax arem  aval originalSupport maxtime support minlen\n",
            "        0.2    0.1    1 none FALSE            TRUE       5   0.003      1\n",
            " maxlen target  ext\n",
            "     10  rules TRUE\n",
            "\n",
            "Algorithmic control:\n",
            " filter tree heap memopt load sort verbose\n",
            "    0.1 TRUE TRUE  FALSE TRUE    2    TRUE\n",
            "\n",
            "Absolute minimum support count: 22 \n",
            "\n",
            "set item appearances ...[0 item(s)] done [0.00s].\n",
            "set transactions ...[119 item(s), 7501 transaction(s)] done [0.00s].\n",
            "sorting and recoding items ... [115 item(s)] done [0.00s].\n",
            "creating transaction tree ... done [0.00s].\n",
            "checking subsets of size 1 2 3 4 5 done [0.00s].\n",
            "writing ... [1348 rule(s)] done [0.00s].\n",
            "creating S4 object  ... done [0.00s].\n"
          ]
        }
      ]
    },
    {
      "cell_type": "markdown",
      "metadata": {
        "id": "_XYeLJNyRMz8"
      },
      "source": [
        "* We have 1348 rules"
      ]
    },
    {
      "cell_type": "code",
      "metadata": {
        "colab": {
          "base_uri": "https://localhost:8080/"
        },
        "id": "VFvqsuarRFdM",
        "outputId": "e2c26d9d-8b6e-4459-b3c9-6f6667f3cf69"
      },
      "source": [
        "inspect(sort(rules, by = 'lift')[1:10])"
      ],
      "execution_count": 54,
      "outputs": [
        {
          "output_type": "stream",
          "name": "stdout",
          "text": [
            "     lhs                                         rhs             support    \n",
            "[1]  {mineral water, whole wheat pasta}       => {olive oil}     0.003866151\n",
            "[2]  {frozen vegetables, milk, mineral water} => {soup}          0.003066258\n",
            "[3]  {fromage blanc}                          => {honey}         0.003332889\n",
            "[4]  {spaghetti, tomato sauce}                => {ground beef}   0.003066258\n",
            "[5]  {light cream}                            => {chicken}       0.004532729\n",
            "[6]  {pasta}                                  => {escalope}      0.005865885\n",
            "[7]  {french fries, herb & pepper}            => {ground beef}   0.003199573\n",
            "[8]  {cereals, spaghetti}                     => {ground beef}   0.003066258\n",
            "[9]  {frozen vegetables, mineral water, soup} => {milk}          0.003066258\n",
            "[10] {french fries, ground beef}              => {herb & pepper} 0.003199573\n",
            "     confidence coverage    lift     count\n",
            "[1]  0.4027778  0.009598720 6.115863 29   \n",
            "[2]  0.2771084  0.011065191 5.484407 23   \n",
            "[3]  0.2450980  0.013598187 5.164271 25   \n",
            "[4]  0.4893617  0.006265831 4.980600 23   \n",
            "[5]  0.2905983  0.015597920 4.843951 34   \n",
            "[6]  0.3728814  0.015731236 4.700812 44   \n",
            "[7]  0.4615385  0.006932409 4.697422 24   \n",
            "[8]  0.4600000  0.006665778 4.681764 23   \n",
            "[9]  0.6052632  0.005065991 4.670863 23   \n",
            "[10] 0.2307692  0.013864818 4.665768 24   \n"
          ]
        }
      ]
    },
    {
      "cell_type": "markdown",
      "metadata": {
        "id": "UsjltH9eRXp0"
      },
      "source": [
        "* if people buy cereals and spaghetti, they will also buy ground beef 46% of the cases.."
      ]
    },
    {
      "cell_type": "markdown",
      "metadata": {
        "id": "L5k5iy0xSgqi"
      },
      "source": [
        "#3.2.Eclat"
      ]
    },
    {
      "cell_type": "markdown",
      "metadata": {
        "id": "sEpSXEcKVJs-"
      },
      "source": [
        "Doing the same things we did in apriori but changing a few things"
      ]
    },
    {
      "cell_type": "code",
      "metadata": {
        "colab": {
          "base_uri": "https://localhost:8080/"
        },
        "id": "eaKb2PJZR3ek",
        "outputId": "036cebec-4204-4999-a268-2a8fa5255af0"
      },
      "source": [
        "#loading data\n",
        "df2 <- read.transactions('/content/Supermarket_Sales_Dataset II.csv', sep = ',', rm.duplicates = TRUE)"
      ],
      "execution_count": 55,
      "outputs": [
        {
          "output_type": "stream",
          "name": "stdout",
          "text": [
            "distribution of transactions with duplicates:\n",
            "1 \n",
            "5 \n"
          ]
        }
      ]
    },
    {
      "cell_type": "code",
      "metadata": {
        "colab": {
          "base_uri": "https://localhost:8080/",
          "height": 476
        },
        "id": "Zpldl-oQU8yg",
        "outputId": "3b032e86-37fb-4380-8213-801f14b1f06d"
      },
      "source": [
        "#data structure\n",
        "summary(df2)"
      ],
      "execution_count": 56,
      "outputs": [
        {
          "output_type": "display_data",
          "data": {
            "text/plain": [
              "transactions as itemMatrix in sparse format with\n",
              " 7501 rows (elements/itemsets/transactions) and\n",
              " 119 columns (items) and a density of 0.03288973 \n",
              "\n",
              "most frequent items:\n",
              "mineral water          eggs     spaghetti  french fries     chocolate \n",
              "         1788          1348          1306          1282          1229 \n",
              "      (Other) \n",
              "        22405 \n",
              "\n",
              "element (itemset/transaction) length distribution:\n",
              "sizes\n",
              "   1    2    3    4    5    6    7    8    9   10   11   12   13   14   15   16 \n",
              "1754 1358 1044  816  667  493  391  324  259  139  102   67   40   22   17    4 \n",
              "  18   19   20 \n",
              "   1    2    1 \n",
              "\n",
              "   Min. 1st Qu.  Median    Mean 3rd Qu.    Max. \n",
              "  1.000   2.000   3.000   3.914   5.000  20.000 \n",
              "\n",
              "includes extended item information - examples:\n",
              "             labels\n",
              "1           almonds\n",
              "2 antioxydant juice\n",
              "3         asparagus"
            ]
          },
          "metadata": {}
        }
      ]
    },
    {
      "cell_type": "code",
      "metadata": {
        "colab": {
          "base_uri": "https://localhost:8080/",
          "height": 437
        },
        "id": "Pjq1gg0hVZIC",
        "outputId": "a4e57652-5b49-4117-e8e7-f920fecf13c3"
      },
      "source": [
        "#frequency plot\n",
        "itemFrequencyPlot(df2, topN = 20)"
      ],
      "execution_count": 57,
      "outputs": [
        {
          "output_type": "display_data",
          "data": {
            "image/png": "[encoded data removed]",
            "text/plain": [
              "plot without title"
            ]
          },
          "metadata": {
            "image/png": {
              "width": 420,
              "height": 420
            }
          }
        }
      ]
    },
    {
      "cell_type": "code",
      "metadata": {
        "colab": {
          "base_uri": "https://localhost:8080/"
        },
        "id": "MFR8hcCGVm8p",
        "outputId": "8538e9ae-683a-44c4-ef25-9cddb62e7d60"
      },
      "source": [
        "#Training Eclat on the dataset\n",
        "rules = eclat(data = df2, parameter = list(support = 0.004, minlen = 2))"
      ],
      "execution_count": 58,
      "outputs": [
        {
          "output_type": "stream",
          "name": "stdout",
          "text": [
            "Eclat\n",
            "\n",
            "parameter specification:\n",
            " tidLists support minlen maxlen            target  ext\n",
            "    FALSE   0.004      2     10 frequent itemsets TRUE\n",
            "\n",
            "algorithmic control:\n",
            " sparse sort verbose\n",
            "      7   -2    TRUE\n",
            "\n",
            "Absolute minimum support count: 30 \n",
            "\n",
            "create itemset ... \n",
            "set transactions ...[119 item(s), 7501 transaction(s)] done [0.00s].\n",
            "sorting and recoding items ... [114 item(s)] done [0.00s].\n",
            "creating sparse bit matrix ... [114 row(s), 7501 column(s)] done [0.00s].\n",
            "writing  ... [845 set(s)] done [0.01s].\n",
            "Creating S4 object  ... done [0.00s].\n"
          ]
        }
      ]
    },
    {
      "cell_type": "markdown",
      "metadata": {
        "id": "cQBdlLkqWjQU"
      },
      "source": [
        "*we have 845 sets"
      ]
    },
    {
      "cell_type": "code",
      "metadata": {
        "colab": {
          "base_uri": "https://localhost:8080/"
        },
        "id": "xOfr5f21Wwco",
        "outputId": "80263ef4-a736-4b0a-cd14-cabd3805a4a2"
      },
      "source": [
        "#Visualising the results\n",
        "#measuring the relevancy of the sets\n",
        "inspect(sort(rules, by = 'support')[1:10])"
      ],
      "execution_count": 59,
      "outputs": [
        {
          "output_type": "stream",
          "name": "stdout",
          "text": [
            "     items                              support    count\n",
            "[1]  {mineral water, spaghetti}         0.05972537 448  \n",
            "[2]  {chocolate, mineral water}         0.05265965 395  \n",
            "[3]  {eggs, mineral water}              0.05092654 382  \n",
            "[4]  {milk, mineral water}              0.04799360 360  \n",
            "[5]  {ground beef, mineral water}       0.04092788 307  \n",
            "[6]  {ground beef, spaghetti}           0.03919477 294  \n",
            "[7]  {chocolate, spaghetti}             0.03919477 294  \n",
            "[8]  {eggs, spaghetti}                  0.03652846 274  \n",
            "[9]  {eggs, french fries}               0.03639515 273  \n",
            "[10] {frozen vegetables, mineral water} 0.03572857 268  \n"
          ]
        }
      ]
    },
    {
      "cell_type": "markdown",
      "metadata": {
        "id": "HXvziZatXIGB"
      },
      "source": [
        "* We have set of items most frequently purchased together as: eg,\n",
        "1. mineral water and spaghetti with a support of 0.059\n",
        "2. chocolate and mineral water with a support of 0.052"
      ]
    }
  ]
}